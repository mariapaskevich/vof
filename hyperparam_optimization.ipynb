{
 "cells": [
  {
   "cell_type": "code",
   "execution_count": 1,
   "metadata": {},
   "outputs": [
    {
     "name": "stderr",
     "output_type": "stream",
     "text": [
      "\u001b[32m[I 2022-12-24 15:31:59,155]\u001b[0m A new study created in memory with name: no-name-cb5e7a42-1381-4f5c-91a3-79ed8617045e\u001b[0m\n",
      "\u001b[32m[I 2022-12-24 15:32:00,267]\u001b[0m Trial 0 finished with value: 0.32 and parameters: {'classifier': 'SVC', 'svc_c': 1.933765155648916e-06}. Best is trial 0 with value: 0.32.\u001b[0m\n",
      "\u001b[32m[I 2022-12-24 15:32:00,589]\u001b[0m Trial 1 finished with value: 0.9533333333333333 and parameters: {'classifier': 'RandomForest', 'rf_max_depth': 8}. Best is trial 1 with value: 0.9533333333333333.\u001b[0m\n",
      "\u001b[32m[I 2022-12-24 15:32:00,871]\u001b[0m Trial 2 finished with value: 0.96 and parameters: {'classifier': 'SVC', 'svc_c': 85899.87865175807}. Best is trial 2 with value: 0.96.\u001b[0m\n",
      "\u001b[32m[I 2022-12-24 15:32:01,187]\u001b[0m Trial 3 finished with value: 0.9666666666666667 and parameters: {'classifier': 'RandomForest', 'rf_max_depth': 4}. Best is trial 3 with value: 0.9666666666666667.\u001b[0m\n",
      "\u001b[32m[I 2022-12-24 15:32:01,469]\u001b[0m Trial 4 finished with value: 0.32 and parameters: {'classifier': 'SVC', 'svc_c': 3.552414994467598e-07}. Best is trial 3 with value: 0.9666666666666667.\u001b[0m\n",
      "\u001b[32m[I 2022-12-24 15:32:01,790]\u001b[0m Trial 5 finished with value: 0.9533333333333333 and parameters: {'classifier': 'RandomForest', 'rf_max_depth': 5}. Best is trial 3 with value: 0.9666666666666667.\u001b[0m\n",
      "\u001b[32m[I 2022-12-24 15:32:02,137]\u001b[0m Trial 6 finished with value: 0.96 and parameters: {'classifier': 'RandomForest', 'rf_max_depth': 3}. Best is trial 3 with value: 0.9666666666666667.\u001b[0m\n",
      "\u001b[32m[I 2022-12-24 15:32:02,454]\u001b[0m Trial 7 finished with value: 0.9533333333333333 and parameters: {'classifier': 'RandomForest', 'rf_max_depth': 4}. Best is trial 3 with value: 0.9666666666666667.\u001b[0m\n",
      "\u001b[32m[I 2022-12-24 15:32:02,771]\u001b[0m Trial 8 finished with value: 0.94 and parameters: {'classifier': 'RandomForest', 'rf_max_depth': 8}. Best is trial 3 with value: 0.9666666666666667.\u001b[0m\n",
      "\u001b[32m[I 2022-12-24 15:32:03,094]\u001b[0m Trial 9 finished with value: 0.96 and parameters: {'classifier': 'RandomForest', 'rf_max_depth': 2}. Best is trial 3 with value: 0.9666666666666667.\u001b[0m\n",
      "\u001b[32m[I 2022-12-24 15:32:03,402]\u001b[0m Trial 10 finished with value: 0.96 and parameters: {'classifier': 'SVC', 'svc_c': 764333639.8124946}. Best is trial 3 with value: 0.9666666666666667.\u001b[0m\n",
      "\u001b[32m[I 2022-12-24 15:32:03,713]\u001b[0m Trial 11 finished with value: 0.96 and parameters: {'classifier': 'SVC', 'svc_c': 427290.267729165}. Best is trial 3 with value: 0.9666666666666667.\u001b[0m\n",
      "\u001b[32m[I 2022-12-24 15:32:04,001]\u001b[0m Trial 12 finished with value: 0.96 and parameters: {'classifier': 'SVC', 'svc_c': 83.21058536032525}. Best is trial 3 with value: 0.9666666666666667.\u001b[0m\n",
      "\u001b[32m[I 2022-12-24 15:32:04,288]\u001b[0m Trial 13 finished with value: 0.9666666666666667 and parameters: {'classifier': 'SVC', 'svc_c': 1.213007950943382}. Best is trial 3 with value: 0.9666666666666667.\u001b[0m\n",
      "\u001b[32m[I 2022-12-24 15:32:04,641]\u001b[0m Trial 14 finished with value: 0.96 and parameters: {'classifier': 'RandomForest', 'rf_max_depth': 27}. Best is trial 3 with value: 0.9666666666666667.\u001b[0m\n",
      "\u001b[32m[I 2022-12-24 15:32:04,923]\u001b[0m Trial 15 finished with value: 0.32 and parameters: {'classifier': 'SVC', 'svc_c': 0.002461664912324633}. Best is trial 3 with value: 0.9666666666666667.\u001b[0m\n",
      "\u001b[32m[I 2022-12-24 15:32:05,237]\u001b[0m Trial 16 finished with value: 0.94 and parameters: {'classifier': 'SVC', 'svc_c': 0.10660646441178667}. Best is trial 3 with value: 0.9666666666666667.\u001b[0m\n",
      "\u001b[32m[I 2022-12-24 15:32:05,549]\u001b[0m Trial 17 finished with value: 0.9533333333333333 and parameters: {'classifier': 'RandomForest', 'rf_max_depth': 17}. Best is trial 3 with value: 0.9666666666666667.\u001b[0m\n",
      "\u001b[32m[I 2022-12-24 15:32:05,825]\u001b[0m Trial 18 finished with value: 0.32 and parameters: {'classifier': 'SVC', 'svc_c': 2.621282640623819e-09}. Best is trial 3 with value: 0.9666666666666667.\u001b[0m\n",
      "\u001b[32m[I 2022-12-24 15:32:06,146]\u001b[0m Trial 19 finished with value: 0.96 and parameters: {'classifier': 'RandomForest', 'rf_max_depth': 2}. Best is trial 3 with value: 0.9666666666666667.\u001b[0m\n",
      "\u001b[32m[I 2022-12-24 15:32:06,465]\u001b[0m Trial 20 finished with value: 0.9666666666666667 and parameters: {'classifier': 'SVC', 'svc_c': 23.90268158656266}. Best is trial 3 with value: 0.9666666666666667.\u001b[0m\n",
      "\u001b[32m[I 2022-12-24 15:32:06,738]\u001b[0m Trial 21 finished with value: 0.96 and parameters: {'classifier': 'SVC', 'svc_c': 106.037070298991}. Best is trial 3 with value: 0.9666666666666667.\u001b[0m\n",
      "\u001b[32m[I 2022-12-24 15:32:06,755]\u001b[0m Trial 22 finished with value: 0.32 and parameters: {'classifier': 'SVC', 'svc_c': 0.0005352338893247169}. Best is trial 3 with value: 0.9666666666666667.\u001b[0m\n",
      "\u001b[32m[I 2022-12-24 15:32:06,770]\u001b[0m Trial 23 finished with value: 0.96 and parameters: {'classifier': 'SVC', 'svc_c': 49.15724135964439}. Best is trial 3 with value: 0.9666666666666667.\u001b[0m\n",
      "\u001b[32m[I 2022-12-24 15:32:06,786]\u001b[0m Trial 24 finished with value: 0.96 and parameters: {'classifier': 'SVC', 'svc_c': 164507.92041837523}. Best is trial 3 with value: 0.9666666666666667.\u001b[0m\n",
      "\u001b[32m[I 2022-12-24 15:32:06,801]\u001b[0m Trial 25 finished with value: 0.9533333333333333 and parameters: {'classifier': 'SVC', 'svc_c': 0.13577341512878055}. Best is trial 3 with value: 0.9666666666666667.\u001b[0m\n",
      "\u001b[32m[I 2022-12-24 15:32:06,850]\u001b[0m Trial 26 finished with value: 0.9533333333333333 and parameters: {'classifier': 'RandomForest', 'rf_max_depth': 12}. Best is trial 3 with value: 0.9666666666666667.\u001b[0m\n",
      "\u001b[32m[I 2022-12-24 15:32:06,865]\u001b[0m Trial 27 finished with value: 0.96 and parameters: {'classifier': 'SVC', 'svc_c': 3539.935555027224}. Best is trial 3 with value: 0.9666666666666667.\u001b[0m\n",
      "\u001b[32m[I 2022-12-24 15:32:06,893]\u001b[0m Trial 28 finished with value: 0.96 and parameters: {'classifier': 'RandomForest', 'rf_max_depth': 3}. Best is trial 3 with value: 0.9666666666666667.\u001b[0m\n",
      "\u001b[32m[I 2022-12-24 15:32:06,907]\u001b[0m Trial 29 finished with value: 0.96 and parameters: {'classifier': 'SVC', 'svc_c': 428254830.245104}. Best is trial 3 with value: 0.9666666666666667.\u001b[0m\n",
      "\u001b[32m[I 2022-12-24 15:32:06,921]\u001b[0m Trial 30 finished with value: 0.32 and parameters: {'classifier': 'SVC', 'svc_c': 0.0015099445625087965}. Best is trial 3 with value: 0.9666666666666667.\u001b[0m\n",
      "\u001b[32m[I 2022-12-24 15:32:06,934]\u001b[0m Trial 31 finished with value: 0.96 and parameters: {'classifier': 'SVC', 'svc_c': 1622388902.2755246}. Best is trial 3 with value: 0.9666666666666667.\u001b[0m\n",
      "\u001b[32m[I 2022-12-24 15:32:06,947]\u001b[0m Trial 32 finished with value: 0.96 and parameters: {'classifier': 'SVC', 'svc_c': 7653851.567510567}. Best is trial 3 with value: 0.9666666666666667.\u001b[0m\n",
      "\u001b[32m[I 2022-12-24 15:32:06,962]\u001b[0m Trial 33 finished with value: 0.96 and parameters: {'classifier': 'SVC', 'svc_c': 3911400.455875805}. Best is trial 3 with value: 0.9666666666666667.\u001b[0m\n",
      "\u001b[32m[I 2022-12-24 15:32:07,239]\u001b[0m Trial 34 finished with value: 0.9666666666666667 and parameters: {'classifier': 'SVC', 'svc_c': 0.7336906367934439}. Best is trial 3 with value: 0.9666666666666667.\u001b[0m\n",
      "\u001b[32m[I 2022-12-24 15:32:07,253]\u001b[0m Trial 35 finished with value: 0.9733333333333333 and parameters: {'classifier': 'SVC', 'svc_c': 2.9348772666043526}. Best is trial 35 with value: 0.9733333333333333.\u001b[0m\n",
      "\u001b[32m[I 2022-12-24 15:32:07,304]\u001b[0m Trial 36 finished with value: 0.96 and parameters: {'classifier': 'RandomForest', 'rf_max_depth': 6}. Best is trial 35 with value: 0.9733333333333333.\u001b[0m\n",
      "\u001b[32m[I 2022-12-24 15:32:07,318]\u001b[0m Trial 37 finished with value: 0.9733333333333333 and parameters: {'classifier': 'SVC', 'svc_c': 2.537605979625223}. Best is trial 35 with value: 0.9733333333333333.\u001b[0m\n",
      "\u001b[32m[I 2022-12-24 15:32:07,332]\u001b[0m Trial 38 finished with value: 0.9733333333333333 and parameters: {'classifier': 'SVC', 'svc_c': 14.334918263534675}. Best is trial 35 with value: 0.9733333333333333.\u001b[0m\n",
      "\u001b[32m[I 2022-12-24 15:32:07,383]\u001b[0m Trial 39 finished with value: 0.96 and parameters: {'classifier': 'RandomForest', 'rf_max_depth': 13}. Best is trial 35 with value: 0.9733333333333333.\u001b[0m\n",
      "\u001b[32m[I 2022-12-24 15:32:07,430]\u001b[0m Trial 40 finished with value: 0.9666666666666667 and parameters: {'classifier': 'RandomForest', 'rf_max_depth': 29}. Best is trial 35 with value: 0.9733333333333333.\u001b[0m\n",
      "\u001b[32m[I 2022-12-24 15:32:07,445]\u001b[0m Trial 41 finished with value: 0.9733333333333333 and parameters: {'classifier': 'SVC', 'svc_c': 2.5020466225948805}. Best is trial 35 with value: 0.9733333333333333.\u001b[0m\n",
      "\u001b[32m[I 2022-12-24 15:32:07,459]\u001b[0m Trial 42 finished with value: 0.9733333333333333 and parameters: {'classifier': 'SVC', 'svc_c': 1.8044090717691195}. Best is trial 35 with value: 0.9733333333333333.\u001b[0m\n",
      "\u001b[32m[I 2022-12-24 15:32:07,472]\u001b[0m Trial 43 finished with value: 0.96 and parameters: {'classifier': 'SVC', 'svc_c': 3595.9091855397082}. Best is trial 35 with value: 0.9733333333333333.\u001b[0m\n",
      "\u001b[32m[I 2022-12-24 15:32:07,485]\u001b[0m Trial 44 finished with value: 0.98 and parameters: {'classifier': 'SVC', 'svc_c': 5.96988840519426}. Best is trial 44 with value: 0.98.\u001b[0m\n",
      "\u001b[32m[I 2022-12-24 15:32:07,499]\u001b[0m Trial 45 finished with value: 0.7533333333333333 and parameters: {'classifier': 'SVC', 'svc_c': 0.028078844096093663}. Best is trial 44 with value: 0.98.\u001b[0m\n",
      "\u001b[32m[I 2022-12-24 15:32:07,513]\u001b[0m Trial 46 finished with value: 0.9733333333333333 and parameters: {'classifier': 'SVC', 'svc_c': 2.0945045480785596}. Best is trial 44 with value: 0.98.\u001b[0m\n",
      "\u001b[32m[I 2022-12-24 15:32:07,526]\u001b[0m Trial 47 finished with value: 0.96 and parameters: {'classifier': 'SVC', 'svc_c': 3093.097524427481}. Best is trial 44 with value: 0.98.\u001b[0m\n",
      "\u001b[32m[I 2022-12-24 15:32:07,540]\u001b[0m Trial 48 finished with value: 0.96 and parameters: {'classifier': 'SVC', 'svc_c': 885.1218206875415}. Best is trial 44 with value: 0.98.\u001b[0m\n",
      "\u001b[32m[I 2022-12-24 15:32:07,554]\u001b[0m Trial 49 finished with value: 0.32 and parameters: {'classifier': 'SVC', 'svc_c': 5.318030385537354e-05}. Best is trial 44 with value: 0.98.\u001b[0m\n",
      "\u001b[32m[I 2022-12-24 15:32:07,568]\u001b[0m Trial 50 finished with value: 0.32 and parameters: {'classifier': 'SVC', 'svc_c': 0.012548233089029602}. Best is trial 44 with value: 0.98.\u001b[0m\n",
      "\u001b[32m[I 2022-12-24 15:32:07,581]\u001b[0m Trial 51 finished with value: 0.9733333333333333 and parameters: {'classifier': 'SVC', 'svc_c': 2.3965822950464077}. Best is trial 44 with value: 0.98.\u001b[0m\n",
      "\u001b[32m[I 2022-12-24 15:32:07,594]\u001b[0m Trial 52 finished with value: 0.9666666666666667 and parameters: {'classifier': 'SVC', 'svc_c': 21.193593081311395}. Best is trial 44 with value: 0.98.\u001b[0m\n",
      "\u001b[32m[I 2022-12-24 15:32:07,607]\u001b[0m Trial 53 finished with value: 0.98 and parameters: {'classifier': 'SVC', 'svc_c': 9.69735427174785}. Best is trial 44 with value: 0.98.\u001b[0m\n",
      "\u001b[32m[I 2022-12-24 15:32:07,620]\u001b[0m Trial 54 finished with value: 0.9466666666666667 and parameters: {'classifier': 'SVC', 'svc_c': 278.15780562280355}. Best is trial 44 with value: 0.98.\u001b[0m\n",
      "\u001b[32m[I 2022-12-24 15:32:07,633]\u001b[0m Trial 55 finished with value: 0.9666666666666667 and parameters: {'classifier': 'SVC', 'svc_c': 0.1584994976900923}. Best is trial 44 with value: 0.98.\u001b[0m\n",
      "\u001b[32m[I 2022-12-24 15:32:07,646]\u001b[0m Trial 56 finished with value: 0.98 and parameters: {'classifier': 'SVC', 'svc_c': 1.7694030431619143}. Best is trial 44 with value: 0.98.\u001b[0m\n",
      "\u001b[32m[I 2022-12-24 15:32:07,660]\u001b[0m Trial 57 finished with value: 0.32 and parameters: {'classifier': 'SVC', 'svc_c': 2.2055968652362725e-05}. Best is trial 44 with value: 0.98.\u001b[0m\n",
      "\u001b[32m[I 2022-12-24 15:32:07,676]\u001b[0m Trial 58 finished with value: 0.32 and parameters: {'classifier': 'SVC', 'svc_c': 0.010872609786093307}. Best is trial 44 with value: 0.98.\u001b[0m\n",
      "\u001b[32m[I 2022-12-24 15:32:07,689]\u001b[0m Trial 59 finished with value: 0.96 and parameters: {'classifier': 'SVC', 'svc_c': 17451.5294445665}. Best is trial 44 with value: 0.98.\u001b[0m\n",
      "\u001b[32m[I 2022-12-24 15:32:07,702]\u001b[0m Trial 60 finished with value: 0.98 and parameters: {'classifier': 'SVC', 'svc_c': 8.44762514372932}. Best is trial 44 with value: 0.98.\u001b[0m\n",
      "\u001b[32m[I 2022-12-24 15:32:07,715]\u001b[0m Trial 61 finished with value: 0.96 and parameters: {'classifier': 'SVC', 'svc_c': 0.20542716782365802}. Best is trial 44 with value: 0.98.\u001b[0m\n",
      "\u001b[32m[I 2022-12-24 15:32:07,728]\u001b[0m Trial 62 finished with value: 0.98 and parameters: {'classifier': 'SVC', 'svc_c': 6.008262278966258}. Best is trial 44 with value: 0.98.\u001b[0m\n",
      "\u001b[32m[I 2022-12-24 15:32:07,742]\u001b[0m Trial 63 finished with value: 0.9666666666666667 and parameters: {'classifier': 'SVC', 'svc_c': 24.475312493323692}. Best is trial 44 with value: 0.98.\u001b[0m\n",
      "\u001b[32m[I 2022-12-24 15:32:07,755]\u001b[0m Trial 64 finished with value: 0.9466666666666667 and parameters: {'classifier': 'SVC', 'svc_c': 270.751740696998}. Best is trial 44 with value: 0.98.\u001b[0m\n",
      "\u001b[32m[I 2022-12-24 15:32:07,768]\u001b[0m Trial 65 finished with value: 0.9666666666666667 and parameters: {'classifier': 'SVC', 'svc_c': 26.947281471327706}. Best is trial 44 with value: 0.98.\u001b[0m\n",
      "\u001b[32m[I 2022-12-24 15:32:07,781]\u001b[0m Trial 66 finished with value: 0.96 and parameters: {'classifier': 'SVC', 'svc_c': 0.4781011776381592}. Best is trial 44 with value: 0.98.\u001b[0m\n",
      "\u001b[32m[I 2022-12-24 15:32:07,794]\u001b[0m Trial 67 finished with value: 0.98 and parameters: {'classifier': 'SVC', 'svc_c': 5.235305774317497}. Best is trial 44 with value: 0.98.\u001b[0m\n",
      "\u001b[32m[I 2022-12-24 15:32:07,808]\u001b[0m Trial 68 finished with value: 0.94 and parameters: {'classifier': 'SVC', 'svc_c': 242.8069016807027}. Best is trial 44 with value: 0.98.\u001b[0m\n",
      "\u001b[32m[I 2022-12-24 15:32:07,822]\u001b[0m Trial 69 finished with value: 0.8866666666666667 and parameters: {'classifier': 'SVC', 'svc_c': 0.042110120598732675}. Best is trial 44 with value: 0.98.\u001b[0m\n",
      "\u001b[32m[I 2022-12-24 15:32:07,836]\u001b[0m Trial 70 finished with value: 0.9666666666666667 and parameters: {'classifier': 'SVC', 'svc_c': 16.219474306379325}. Best is trial 44 with value: 0.98.\u001b[0m\n",
      "\u001b[32m[I 2022-12-24 15:32:07,851]\u001b[0m Trial 71 finished with value: 0.9866666666666667 and parameters: {'classifier': 'SVC', 'svc_c': 4.137632136570211}. Best is trial 71 with value: 0.9866666666666667.\u001b[0m\n",
      "\u001b[32m[I 2022-12-24 15:32:07,864]\u001b[0m Trial 72 finished with value: 0.98 and parameters: {'classifier': 'SVC', 'svc_c': 5.873912119885564}. Best is trial 71 with value: 0.9866666666666667.\u001b[0m\n",
      "\u001b[32m[I 2022-12-24 15:32:07,878]\u001b[0m Trial 73 finished with value: 0.98 and parameters: {'classifier': 'SVC', 'svc_c': 7.7141582368068}. Best is trial 71 with value: 0.9866666666666667.\u001b[0m\n",
      "\u001b[32m[I 2022-12-24 15:32:07,892]\u001b[0m Trial 74 finished with value: 0.96 and parameters: {'classifier': 'SVC', 'svc_c': 88.14653679890147}. Best is trial 71 with value: 0.9866666666666667.\u001b[0m\n",
      "\u001b[32m[I 2022-12-24 15:32:07,906]\u001b[0m Trial 75 finished with value: 0.96 and parameters: {'classifier': 'SVC', 'svc_c': 1170.591749254967}. Best is trial 71 with value: 0.9866666666666667.\u001b[0m\n",
      "\u001b[32m[I 2022-12-24 15:32:07,921]\u001b[0m Trial 76 finished with value: 0.98 and parameters: {'classifier': 'SVC', 'svc_c': 6.737212479960342}. Best is trial 71 with value: 0.9866666666666667.\u001b[0m\n",
      "\u001b[32m[I 2022-12-24 15:32:07,937]\u001b[0m Trial 77 finished with value: 0.96 and parameters: {'classifier': 'SVC', 'svc_c': 0.3162647110847665}. Best is trial 71 with value: 0.9866666666666667.\u001b[0m\n",
      "\u001b[32m[I 2022-12-24 15:32:07,953]\u001b[0m Trial 78 finished with value: 0.32 and parameters: {'classifier': 'SVC', 'svc_c': 0.0014510537130234275}. Best is trial 71 with value: 0.9866666666666667.\u001b[0m\n",
      "\u001b[32m[I 2022-12-24 15:32:07,968]\u001b[0m Trial 79 finished with value: 0.32 and parameters: {'classifier': 'SVC', 'svc_c': 3.4711946573873694e-09}. Best is trial 71 with value: 0.9866666666666667.\u001b[0m\n",
      "\u001b[32m[I 2022-12-24 15:32:08,020]\u001b[0m Trial 80 finished with value: 0.96 and parameters: {'classifier': 'RandomForest', 'rf_max_depth': 20}. Best is trial 71 with value: 0.9866666666666667.\u001b[0m\n",
      "\u001b[32m[I 2022-12-24 15:32:08,037]\u001b[0m Trial 81 finished with value: 0.98 and parameters: {'classifier': 'SVC', 'svc_c': 6.10019989842334}. Best is trial 71 with value: 0.9866666666666667.\u001b[0m\n",
      "\u001b[32m[I 2022-12-24 15:32:08,052]\u001b[0m Trial 82 finished with value: 0.96 and parameters: {'classifier': 'SVC', 'svc_c': 81.13271416884062}. Best is trial 71 with value: 0.9866666666666667.\u001b[0m\n",
      "\u001b[32m[I 2022-12-24 15:32:08,068]\u001b[0m Trial 83 finished with value: 0.96 and parameters: {'classifier': 'SVC', 'svc_c': 0.33535713989051485}. Best is trial 71 with value: 0.9866666666666667.\u001b[0m\n",
      "\u001b[32m[I 2022-12-24 15:32:08,083]\u001b[0m Trial 84 finished with value: 0.9733333333333333 and parameters: {'classifier': 'SVC', 'svc_c': 12.030428771886086}. Best is trial 71 with value: 0.9866666666666667.\u001b[0m\n",
      "\u001b[32m[I 2022-12-24 15:32:08,098]\u001b[0m Trial 85 finished with value: 0.9666666666666667 and parameters: {'classifier': 'SVC', 'svc_c': 0.8877740841439605}. Best is trial 71 with value: 0.9866666666666667.\u001b[0m\n",
      "\u001b[32m[I 2022-12-24 15:32:08,114]\u001b[0m Trial 86 finished with value: 0.7600000000000001 and parameters: {'classifier': 'SVC', 'svc_c': 0.03321967080379628}. Best is trial 71 with value: 0.9866666666666667.\u001b[0m\n",
      "\u001b[32m[I 2022-12-24 15:32:08,128]\u001b[0m Trial 87 finished with value: 0.98 and parameters: {'classifier': 'SVC', 'svc_c': 5.483793835409572}. Best is trial 71 with value: 0.9866666666666667.\u001b[0m\n",
      "\u001b[32m[I 2022-12-24 15:32:08,142]\u001b[0m Trial 88 finished with value: 0.96 and parameters: {'classifier': 'SVC', 'svc_c': 81.06442635911208}. Best is trial 71 with value: 0.9866666666666667.\u001b[0m\n",
      "\u001b[32m[I 2022-12-24 15:32:08,155]\u001b[0m Trial 89 finished with value: 0.9733333333333333 and parameters: {'classifier': 'SVC', 'svc_c': 1.126140105484286}. Best is trial 71 with value: 0.9866666666666667.\u001b[0m\n",
      "\u001b[32m[I 2022-12-24 15:32:08,169]\u001b[0m Trial 90 finished with value: 0.96 and parameters: {'classifier': 'SVC', 'svc_c': 21625.070890366304}. Best is trial 71 with value: 0.9866666666666667.\u001b[0m\n",
      "\u001b[32m[I 2022-12-24 15:32:08,185]\u001b[0m Trial 91 finished with value: 0.98 and parameters: {'classifier': 'SVC', 'svc_c': 10.06052194629478}. Best is trial 71 with value: 0.9866666666666667.\u001b[0m\n",
      "\u001b[32m[I 2022-12-24 15:32:08,200]\u001b[0m Trial 92 finished with value: 0.96 and parameters: {'classifier': 'SVC', 'svc_c': 606.6748545957488}. Best is trial 71 with value: 0.9866666666666667.\u001b[0m\n",
      "\u001b[32m[I 2022-12-24 15:32:08,215]\u001b[0m Trial 93 finished with value: 0.94 and parameters: {'classifier': 'SVC', 'svc_c': 0.09121493461107677}. Best is trial 71 with value: 0.9866666666666667.\u001b[0m\n",
      "\u001b[32m[I 2022-12-24 15:32:08,229]\u001b[0m Trial 94 finished with value: 0.98 and parameters: {'classifier': 'SVC', 'svc_c': 6.352632912992314}. Best is trial 71 with value: 0.9866666666666667.\u001b[0m\n",
      "\u001b[32m[I 2022-12-24 15:32:08,278]\u001b[0m Trial 95 finished with value: 0.9533333333333333 and parameters: {'classifier': 'RandomForest', 'rf_max_depth': 9}. Best is trial 71 with value: 0.9866666666666667.\u001b[0m\n",
      "\u001b[32m[I 2022-12-24 15:32:08,293]\u001b[0m Trial 96 finished with value: 0.98 and parameters: {'classifier': 'SVC', 'svc_c': 5.1331632843406725}. Best is trial 71 with value: 0.9866666666666667.\u001b[0m\n",
      "\u001b[32m[I 2022-12-24 15:32:08,307]\u001b[0m Trial 97 finished with value: 0.96 and parameters: {'classifier': 'SVC', 'svc_c': 48.541078498418095}. Best is trial 71 with value: 0.9866666666666667.\u001b[0m\n",
      "\u001b[32m[I 2022-12-24 15:32:08,320]\u001b[0m Trial 98 finished with value: 0.9733333333333333 and parameters: {'classifier': 'SVC', 'svc_c': 1.0918588273335736}. Best is trial 71 with value: 0.9866666666666667.\u001b[0m\n",
      "\u001b[32m[I 2022-12-24 15:32:08,333]\u001b[0m Trial 99 finished with value: 0.9733333333333333 and parameters: {'classifier': 'SVC', 'svc_c': 3.1491979789546543}. Best is trial 71 with value: 0.9866666666666667.\u001b[0m\n"
     ]
    },
    {
     "name": "stdout",
     "output_type": "stream",
     "text": [
      "FrozenTrial(number=71, values=[0.9866666666666667], datetime_start=datetime.datetime(2022, 12, 24, 15, 32, 7, 837266), datetime_complete=datetime.datetime(2022, 12, 24, 15, 32, 7, 850839), params={'classifier': 'SVC', 'svc_c': 4.137632136570211}, distributions={'classifier': CategoricalDistribution(choices=('SVC', 'RandomForest')), 'svc_c': FloatDistribution(high=10000000000.0, log=True, low=1e-10, step=None)}, user_attrs={}, system_attrs={}, intermediate_values={}, trial_id=71, state=TrialState.COMPLETE, value=None)\n"
     ]
    }
   ],
   "source": [
    "\"\"\"\n",
    "Optuna example that optimizes a classifier configuration for Iris dataset using sklearn.\n",
    "In this example, we optimize a classifier configuration for Iris dataset. Classifiers are from\n",
    "scikit-learn. We optimize both the choice of classifier (among SVC and RandomForest) and their\n",
    "hyperparameters.\n",
    "\"\"\"\n",
    "\n",
    "import optuna\n",
    "\n",
    "import sklearn.datasets\n",
    "import sklearn.ensemble\n",
    "import sklearn.model_selection\n",
    "import sklearn.svm\n",
    "\n",
    "\n",
    "# FYI: Objective functions can take additional arguments\n",
    "# (https://optuna.readthedocs.io/en/stable/faq.html#objective-func-additional-args).\n",
    "def objective(trial):\n",
    "    iris = sklearn.datasets.load_iris()\n",
    "    x, y = iris.data, iris.target\n",
    "\n",
    "    classifier_name = trial.suggest_categorical(\"classifier\", [\"SVC\", \"RandomForest\"])\n",
    "    if classifier_name == \"SVC\":\n",
    "        svc_c = trial.suggest_float(\"svc_c\", 1e-10, 1e10, log=True)\n",
    "        classifier_obj = sklearn.svm.SVC(C=svc_c, gamma=\"auto\")\n",
    "    else:\n",
    "        rf_max_depth = trial.suggest_int(\"rf_max_depth\", 2, 32, log=True)\n",
    "        classifier_obj = sklearn.ensemble.RandomForestClassifier(\n",
    "            max_depth=rf_max_depth, n_estimators=10\n",
    "        )\n",
    "\n",
    "    score = sklearn.model_selection.cross_val_score(classifier_obj, x, y, n_jobs=-1, cv=3)\n",
    "    accuracy = score.mean()\n",
    "    return accuracy\n",
    "\n",
    "\n",
    "if __name__ == \"__main__\":\n",
    "    study = optuna.create_study(direction=\"maximize\")\n",
    "    study.optimize(objective, n_trials=100)\n",
    "    print(study.best_trial)"
   ]
  },
  {
   "cell_type": "code",
   "execution_count": null,
   "metadata": {},
   "outputs": [],
   "source": []
  },
  {
   "cell_type": "code",
   "execution_count": 2,
   "metadata": {},
   "outputs": [
    {
     "name": "stderr",
     "output_type": "stream",
     "text": [
      "\u001b[32m[I 2022-12-24 15:33:52,851]\u001b[0m A new study created in memory with name: no-name-92967aaf-42d9-43b9-bdb2-01050f3a65b2\u001b[0m\n",
      "feature_fraction, val_score: inf:   0%|          | 0/7 [00:00<?, ?it/s]"
     ]
    },
    {
     "name": "stdout",
     "output_type": "stream",
     "text": [
      "Training until validation scores don't improve for 100 rounds\n",
      "[100]\tvalid_0's binary_logloss: 0.000569026\tvalid_1's binary_logloss: 0.153632\n"
     ]
    },
    {
     "name": "stderr",
     "output_type": "stream",
     "text": [
      "feature_fraction, val_score: 0.129305:  14%|#4        | 1/7 [06:17<37:44, 377.46s/it]\u001b[32m[I 2022-12-24 15:40:10,314]\u001b[0m Trial 0 finished with value: 0.12930499442223772 and parameters: {'feature_fraction': 0.8}. Best is trial 0 with value: 0.12930499442223772.\u001b[0m\n",
      "feature_fraction, val_score: 0.129305:  14%|#4        | 1/7 [06:17<37:44, 377.46s/it]"
     ]
    },
    {
     "name": "stdout",
     "output_type": "stream",
     "text": [
      "Early stopping, best iteration is:\n",
      "[68]\tvalid_0's binary_logloss: 0.00452093\tvalid_1's binary_logloss: 0.129305\n"
     ]
    },
    {
     "name": "stderr",
     "output_type": "stream",
     "text": [
      "feature_fraction, val_score: 0.129305:  29%|##8       | 2/7 [06:17<12:58, 155.68s/it]\u001b[32m[I 2022-12-24 15:40:10,744]\u001b[0m Trial 1 finished with value: 0.12930499442223772 and parameters: {'feature_fraction': 0.6}. Best is trial 0 with value: 0.12930499442223772.\u001b[0m\n",
      "feature_fraction, val_score: 0.129305:  29%|##8       | 2/7 [06:17<12:58, 155.68s/it]"
     ]
    },
    {
     "name": "stdout",
     "output_type": "stream",
     "text": [
      "[100]\tvalid_0's binary_logloss: 0.000614405\tvalid_1's binary_logloss: 0.141593\n",
      "Early stopping, best iteration is:\n",
      "[68]\tvalid_0's binary_logloss: 0.00452093\tvalid_1's binary_logloss: 0.129305\n"
     ]
    },
    {
     "name": "stderr",
     "output_type": "stream",
     "text": [
      "feature_fraction, val_score: 0.111585:  43%|####2     | 3/7 [06:18<05:39, 84.77s/it] \u001b[32m[I 2022-12-24 15:40:11,144]\u001b[0m Trial 2 finished with value: 0.11158475927075628 and parameters: {'feature_fraction': 0.5}. Best is trial 2 with value: 0.11158475927075628.\u001b[0m\n",
      "feature_fraction, val_score: 0.111585:  43%|####2     | 3/7 [06:18<05:39, 84.77s/it]"
     ]
    },
    {
     "name": "stdout",
     "output_type": "stream",
     "text": [
      "[100]\tvalid_0's binary_logloss: 0.000666246\tvalid_1's binary_logloss: 0.124933\n",
      "Early stopping, best iteration is:\n",
      "[53]\tvalid_0's binary_logloss: 0.0126495\tvalid_1's binary_logloss: 0.111585\n"
     ]
    },
    {
     "name": "stderr",
     "output_type": "stream",
     "text": [
      "feature_fraction, val_score: 0.111585:  57%|#####7    | 4/7 [06:18<02:34, 51.46s/it]\u001b[32m[I 2022-12-24 15:40:11,538]\u001b[0m Trial 3 finished with value: 0.11158475927075628 and parameters: {'feature_fraction': 0.8999999999999999}. Best is trial 2 with value: 0.11158475927075628.\u001b[0m\n",
      "feature_fraction, val_score: 0.111585:  57%|#####7    | 4/7 [06:18<02:34, 51.46s/it]"
     ]
    },
    {
     "name": "stdout",
     "output_type": "stream",
     "text": [
      "[100]\tvalid_0's binary_logloss: 0.000516499\tvalid_1's binary_logloss: 0.144907\n",
      "Early stopping, best iteration is:\n",
      "[53]\tvalid_0's binary_logloss: 0.0126495\tvalid_1's binary_logloss: 0.111585\n"
     ]
    },
    {
     "name": "stderr",
     "output_type": "stream",
     "text": [
      "feature_fraction, val_score: 0.111585:  71%|#######1  | 5/7 [06:19<01:06, 33.06s/it]\u001b[32m[I 2022-12-24 15:40:11,981]\u001b[0m Trial 4 finished with value: 0.11158475927075628 and parameters: {'feature_fraction': 0.4}. Best is trial 2 with value: 0.11158475927075628.\u001b[0m\n",
      "feature_fraction, val_score: 0.111585:  71%|#######1  | 5/7 [06:19<01:06, 33.06s/it]"
     ]
    },
    {
     "name": "stdout",
     "output_type": "stream",
     "text": [
      "[100]\tvalid_0's binary_logloss: 0.000791887\tvalid_1's binary_logloss: 0.147474\n",
      "Early stopping, best iteration is:\n",
      "[53]\tvalid_0's binary_logloss: 0.0126495\tvalid_1's binary_logloss: 0.111585\n"
     ]
    },
    {
     "name": "stderr",
     "output_type": "stream",
     "text": [
      "feature_fraction, val_score: 0.111585:  86%|########5 | 6/7 [06:19<00:21, 21.97s/it]\u001b[32m[I 2022-12-24 15:40:12,415]\u001b[0m Trial 5 finished with value: 0.11158475927075628 and parameters: {'feature_fraction': 1.0}. Best is trial 2 with value: 0.11158475927075628.\u001b[0m\n",
      "feature_fraction, val_score: 0.111585:  86%|########5 | 6/7 [06:19<00:21, 21.97s/it]"
     ]
    },
    {
     "name": "stdout",
     "output_type": "stream",
     "text": [
      "[100]\tvalid_0's binary_logloss: 0.00051187\tvalid_1's binary_logloss: 0.148713\n",
      "Early stopping, best iteration is:\n",
      "[53]\tvalid_0's binary_logloss: 0.0126495\tvalid_1's binary_logloss: 0.111585\n"
     ]
    },
    {
     "name": "stderr",
     "output_type": "stream",
     "text": [
      "feature_fraction, val_score: 0.111585: 100%|##########| 7/7 [06:19<00:00, 14.91s/it]\u001b[32m[I 2022-12-24 15:40:12,801]\u001b[0m Trial 6 finished with value: 0.11158475927075628 and parameters: {'feature_fraction': 0.7}. Best is trial 2 with value: 0.11158475927075628.\u001b[0m\n",
      "feature_fraction, val_score: 0.111585: 100%|##########| 7/7 [06:19<00:00, 54.28s/it]\n",
      "num_leaves, val_score: 0.111585:   0%|          | 0/20 [00:00<?, ?it/s]"
     ]
    },
    {
     "name": "stdout",
     "output_type": "stream",
     "text": [
      "[100]\tvalid_0's binary_logloss: 0.000498723\tvalid_1's binary_logloss: 0.156791\n",
      "Early stopping, best iteration is:\n",
      "[53]\tvalid_0's binary_logloss: 0.0126495\tvalid_1's binary_logloss: 0.111585\n",
      "[100]\tvalid_0's binary_logloss: 0.000666246\tvalid_1's binary_logloss: 0.124933\n"
     ]
    },
    {
     "name": "stderr",
     "output_type": "stream",
     "text": [
      "num_leaves, val_score: 0.111585:   5%|5         | 1/20 [00:00<00:14,  1.32it/s]\u001b[32m[I 2022-12-24 15:40:13,561]\u001b[0m Trial 7 finished with value: 0.11158475927075628 and parameters: {'num_leaves': 232}. Best is trial 7 with value: 0.11158475927075628.\u001b[0m\n",
      "num_leaves, val_score: 0.111585:   5%|5         | 1/20 [00:00<00:14,  1.32it/s]"
     ]
    },
    {
     "name": "stdout",
     "output_type": "stream",
     "text": [
      "Early stopping, best iteration is:\n",
      "[53]\tvalid_0's binary_logloss: 0.0126495\tvalid_1's binary_logloss: 0.111585\n"
     ]
    },
    {
     "name": "stderr",
     "output_type": "stream",
     "text": [
      "num_leaves, val_score: 0.111585:  10%|#         | 2/20 [00:01<00:10,  1.78it/s]\u001b[32m[I 2022-12-24 15:40:13,987]\u001b[0m Trial 8 finished with value: 0.11158475927075628 and parameters: {'num_leaves': 163}. Best is trial 7 with value: 0.11158475927075628.\u001b[0m\n",
      "num_leaves, val_score: 0.111585:  10%|#         | 2/20 [00:01<00:10,  1.78it/s]"
     ]
    },
    {
     "name": "stdout",
     "output_type": "stream",
     "text": [
      "[100]\tvalid_0's binary_logloss: 0.000666246\tvalid_1's binary_logloss: 0.124933\n",
      "Early stopping, best iteration is:\n",
      "[53]\tvalid_0's binary_logloss: 0.0126495\tvalid_1's binary_logloss: 0.111585\n"
     ]
    },
    {
     "name": "stderr",
     "output_type": "stream",
     "text": [
      "num_leaves, val_score: 0.111585:  15%|#5        | 3/20 [00:01<00:08,  2.06it/s]\u001b[32m[I 2022-12-24 15:40:14,380]\u001b[0m Trial 9 finished with value: 0.11158475927075628 and parameters: {'num_leaves': 168}. Best is trial 7 with value: 0.11158475927075628.\u001b[0m\n",
      "num_leaves, val_score: 0.111585:  15%|#5        | 3/20 [00:01<00:08,  2.06it/s]"
     ]
    },
    {
     "name": "stdout",
     "output_type": "stream",
     "text": [
      "[100]\tvalid_0's binary_logloss: 0.000666246\tvalid_1's binary_logloss: 0.124933\n",
      "Early stopping, best iteration is:\n",
      "[53]\tvalid_0's binary_logloss: 0.0126495\tvalid_1's binary_logloss: 0.111585\n"
     ]
    },
    {
     "name": "stderr",
     "output_type": "stream",
     "text": [
      "num_leaves, val_score: 0.111585:  20%|##        | 4/20 [00:02<00:07,  2.16it/s]\u001b[32m[I 2022-12-24 15:40:14,809]\u001b[0m Trial 10 finished with value: 0.11158475927075628 and parameters: {'num_leaves': 252}. Best is trial 7 with value: 0.11158475927075628.\u001b[0m\n",
      "num_leaves, val_score: 0.111585:  20%|##        | 4/20 [00:02<00:07,  2.16it/s]"
     ]
    },
    {
     "name": "stdout",
     "output_type": "stream",
     "text": [
      "[100]\tvalid_0's binary_logloss: 0.000666246\tvalid_1's binary_logloss: 0.124933\n",
      "Early stopping, best iteration is:\n",
      "[53]\tvalid_0's binary_logloss: 0.0126495\tvalid_1's binary_logloss: 0.111585\n"
     ]
    },
    {
     "name": "stderr",
     "output_type": "stream",
     "text": [
      "num_leaves, val_score: 0.111585:  25%|##5       | 5/20 [00:02<00:06,  2.26it/s]\u001b[32m[I 2022-12-24 15:40:15,215]\u001b[0m Trial 11 finished with value: 0.11158475927075627 and parameters: {'num_leaves': 56}. Best is trial 11 with value: 0.11158475927075627.\u001b[0m\n",
      "num_leaves, val_score: 0.111585:  25%|##5       | 5/20 [00:02<00:06,  2.26it/s]"
     ]
    },
    {
     "name": "stdout",
     "output_type": "stream",
     "text": [
      "[100]\tvalid_0's binary_logloss: 0.000666246\tvalid_1's binary_logloss: 0.124933\n",
      "Early stopping, best iteration is:\n",
      "[53]\tvalid_0's binary_logloss: 0.0126495\tvalid_1's binary_logloss: 0.111585\n"
     ]
    },
    {
     "name": "stderr",
     "output_type": "stream",
     "text": [
      "num_leaves, val_score: 0.111585:  30%|###       | 6/20 [00:02<00:06,  2.29it/s]\u001b[32m[I 2022-12-24 15:40:15,639]\u001b[0m Trial 12 finished with value: 0.11158475927075624 and parameters: {'num_leaves': 238}. Best is trial 12 with value: 0.11158475927075624.\u001b[0m\n",
      "num_leaves, val_score: 0.111585:  30%|###       | 6/20 [00:02<00:06,  2.29it/s]"
     ]
    },
    {
     "name": "stdout",
     "output_type": "stream",
     "text": [
      "[100]\tvalid_0's binary_logloss: 0.000666246\tvalid_1's binary_logloss: 0.124933\n",
      "Early stopping, best iteration is:\n",
      "[53]\tvalid_0's binary_logloss: 0.0126495\tvalid_1's binary_logloss: 0.111585\n"
     ]
    },
    {
     "name": "stderr",
     "output_type": "stream",
     "text": [
      "num_leaves, val_score: 0.111585:  35%|###5      | 7/20 [00:03<00:04,  2.69it/s]\u001b[32m[I 2022-12-24 15:40:15,879]\u001b[0m Trial 13 finished with value: 0.11158475927075624 and parameters: {'num_leaves': 10}. Best is trial 12 with value: 0.11158475927075624.\u001b[0m\n",
      "num_leaves, val_score: 0.111585:  35%|###5      | 7/20 [00:03<00:04,  2.69it/s]"
     ]
    },
    {
     "name": "stdout",
     "output_type": "stream",
     "text": [
      "[100]\tvalid_0's binary_logloss: 0.000760862\tvalid_1's binary_logloss: 0.130692\n",
      "Early stopping, best iteration is:\n",
      "[53]\tvalid_0's binary_logloss: 0.0126495\tvalid_1's binary_logloss: 0.111585\n"
     ]
    },
    {
     "name": "stderr",
     "output_type": "stream",
     "text": [
      "num_leaves, val_score: 0.111585:  40%|####      | 8/20 [00:03<00:04,  2.61it/s]\u001b[32m[I 2022-12-24 15:40:16,288]\u001b[0m Trial 14 finished with value: 0.11158475927075624 and parameters: {'num_leaves': 159}. Best is trial 12 with value: 0.11158475927075624.\u001b[0m\n",
      "num_leaves, val_score: 0.111585:  40%|####      | 8/20 [00:03<00:04,  2.61it/s]"
     ]
    },
    {
     "name": "stdout",
     "output_type": "stream",
     "text": [
      "[100]\tvalid_0's binary_logloss: 0.000666246\tvalid_1's binary_logloss: 0.124933\n",
      "Early stopping, best iteration is:\n",
      "[53]\tvalid_0's binary_logloss: 0.0126495\tvalid_1's binary_logloss: 0.111585\n"
     ]
    },
    {
     "name": "stderr",
     "output_type": "stream",
     "text": [
      "num_leaves, val_score: 0.111585:  45%|####5     | 9/20 [00:03<00:03,  2.81it/s]\u001b[32m[I 2022-12-24 15:40:16,582]\u001b[0m Trial 15 finished with value: 0.11158475927075624 and parameters: {'num_leaves': 13}. Best is trial 12 with value: 0.11158475927075624.\u001b[0m\n",
      "num_leaves, val_score: 0.111585:  45%|####5     | 9/20 [00:03<00:03,  2.81it/s]"
     ]
    },
    {
     "name": "stdout",
     "output_type": "stream",
     "text": [
      "[100]\tvalid_0's binary_logloss: 0.000682087\tvalid_1's binary_logloss: 0.144299\n",
      "Early stopping, best iteration is:\n",
      "[53]\tvalid_0's binary_logloss: 0.0126495\tvalid_1's binary_logloss: 0.111585\n"
     ]
    },
    {
     "name": "stderr",
     "output_type": "stream",
     "text": [
      "num_leaves, val_score: 0.111585:  50%|#####     | 10/20 [00:04<00:03,  2.66it/s]\u001b[32m[I 2022-12-24 15:40:17,005]\u001b[0m Trial 16 finished with value: 0.11158475927075624 and parameters: {'num_leaves': 225}. Best is trial 12 with value: 0.11158475927075624.\u001b[0m\n",
      "num_leaves, val_score: 0.111585:  50%|#####     | 10/20 [00:04<00:03,  2.66it/s]"
     ]
    },
    {
     "name": "stdout",
     "output_type": "stream",
     "text": [
      "[100]\tvalid_0's binary_logloss: 0.000666246\tvalid_1's binary_logloss: 0.124933\n",
      "Early stopping, best iteration is:\n",
      "[53]\tvalid_0's binary_logloss: 0.0126495\tvalid_1's binary_logloss: 0.111585\n",
      "[100]\tvalid_0's binary_logloss: 0.000666246\tvalid_1's binary_logloss: 0.124933\n"
     ]
    },
    {
     "name": "stderr",
     "output_type": "stream",
     "text": [
      "num_leaves, val_score: 0.111585:  55%|#####5    | 11/20 [00:04<00:03,  2.27it/s]\u001b[32m[I 2022-12-24 15:40:17,591]\u001b[0m Trial 17 finished with value: 0.11158475927075624 and parameters: {'num_leaves': 87}. Best is trial 12 with value: 0.11158475927075624.\u001b[0m\n",
      "num_leaves, val_score: 0.111585:  55%|#####5    | 11/20 [00:04<00:03,  2.27it/s]"
     ]
    },
    {
     "name": "stdout",
     "output_type": "stream",
     "text": [
      "Early stopping, best iteration is:\n",
      "[53]\tvalid_0's binary_logloss: 0.0126495\tvalid_1's binary_logloss: 0.111585\n"
     ]
    },
    {
     "name": "stderr",
     "output_type": "stream",
     "text": [
      "num_leaves, val_score: 0.111585:  60%|######    | 12/20 [00:05<00:03,  2.32it/s]\u001b[32m[I 2022-12-24 15:40:18,000]\u001b[0m Trial 18 finished with value: 0.11158475927075624 and parameters: {'num_leaves': 99}. Best is trial 12 with value: 0.11158475927075624.\u001b[0m\n",
      "num_leaves, val_score: 0.111585:  60%|######    | 12/20 [00:05<00:03,  2.32it/s]"
     ]
    },
    {
     "name": "stdout",
     "output_type": "stream",
     "text": [
      "[100]\tvalid_0's binary_logloss: 0.000666246\tvalid_1's binary_logloss: 0.124933\n",
      "Early stopping, best iteration is:\n",
      "[53]\tvalid_0's binary_logloss: 0.0126495\tvalid_1's binary_logloss: 0.111585\n"
     ]
    },
    {
     "name": "stderr",
     "output_type": "stream",
     "text": [
      "num_leaves, val_score: 0.111585:  65%|######5   | 13/20 [00:05<00:02,  2.66it/s]\u001b[32m[I 2022-12-24 15:40:18,252]\u001b[0m Trial 19 finished with value: 0.11158475927075624 and parameters: {'num_leaves': 10}. Best is trial 12 with value: 0.11158475927075624.\u001b[0m\n",
      "num_leaves, val_score: 0.111585:  65%|######5   | 13/20 [00:05<00:02,  2.66it/s]"
     ]
    },
    {
     "name": "stdout",
     "output_type": "stream",
     "text": [
      "[100]\tvalid_0's binary_logloss: 0.000760862\tvalid_1's binary_logloss: 0.130692\n",
      "Early stopping, best iteration is:\n",
      "[53]\tvalid_0's binary_logloss: 0.0126495\tvalid_1's binary_logloss: 0.111585\n",
      "[100]\tvalid_0's binary_logloss: 0.000666246\tvalid_1's binary_logloss: 0.124933\n"
     ]
    },
    {
     "name": "stderr",
     "output_type": "stream",
     "text": [
      "num_leaves, val_score: 0.111585:  70%|#######   | 14/20 [00:06<00:02,  2.05it/s]\u001b[32m[I 2022-12-24 15:40:18,994]\u001b[0m Trial 20 finished with value: 0.11158475927075624 and parameters: {'num_leaves': 202}. Best is trial 12 with value: 0.11158475927075624.\u001b[0m\n",
      "num_leaves, val_score: 0.111585:  70%|#######   | 14/20 [00:06<00:02,  2.05it/s]"
     ]
    },
    {
     "name": "stdout",
     "output_type": "stream",
     "text": [
      "Early stopping, best iteration is:\n",
      "[53]\tvalid_0's binary_logloss: 0.0126495\tvalid_1's binary_logloss: 0.111585\n"
     ]
    },
    {
     "name": "stderr",
     "output_type": "stream",
     "text": [
      "num_leaves, val_score: 0.111585:  75%|#######5  | 15/20 [00:06<00:02,  2.17it/s]\u001b[32m[I 2022-12-24 15:40:19,393]\u001b[0m Trial 21 finished with value: 0.11158475927075624 and parameters: {'num_leaves': 58}. Best is trial 12 with value: 0.11158475927075624.\u001b[0m\n",
      "num_leaves, val_score: 0.111585:  75%|#######5  | 15/20 [00:06<00:02,  2.17it/s]"
     ]
    },
    {
     "name": "stdout",
     "output_type": "stream",
     "text": [
      "[100]\tvalid_0's binary_logloss: 0.000666246\tvalid_1's binary_logloss: 0.124933\n",
      "Early stopping, best iteration is:\n",
      "[53]\tvalid_0's binary_logloss: 0.0126495\tvalid_1's binary_logloss: 0.111585\n"
     ]
    },
    {
     "name": "stderr",
     "output_type": "stream",
     "text": [
      "num_leaves, val_score: 0.111585:  80%|########  | 16/20 [00:06<00:01,  2.28it/s]\u001b[32m[I 2022-12-24 15:40:19,782]\u001b[0m Trial 22 finished with value: 0.11158475927075624 and parameters: {'num_leaves': 120}. Best is trial 12 with value: 0.11158475927075624.\u001b[0m\n",
      "num_leaves, val_score: 0.111585:  80%|########  | 16/20 [00:06<00:01,  2.28it/s]"
     ]
    },
    {
     "name": "stdout",
     "output_type": "stream",
     "text": [
      "[100]\tvalid_0's binary_logloss: 0.000666246\tvalid_1's binary_logloss: 0.124933\n",
      "Early stopping, best iteration is:\n",
      "[53]\tvalid_0's binary_logloss: 0.0126495\tvalid_1's binary_logloss: 0.111585\n"
     ]
    },
    {
     "name": "stderr",
     "output_type": "stream",
     "text": [
      "num_leaves, val_score: 0.111585:  85%|########5 | 17/20 [00:07<00:01,  2.34it/s]\u001b[32m[I 2022-12-24 15:40:20,180]\u001b[0m Trial 23 finished with value: 0.11158475927075624 and parameters: {'num_leaves': 189}. Best is trial 12 with value: 0.11158475927075624.\u001b[0m\n",
      "num_leaves, val_score: 0.111585:  85%|########5 | 17/20 [00:07<00:01,  2.34it/s]"
     ]
    },
    {
     "name": "stdout",
     "output_type": "stream",
     "text": [
      "[100]\tvalid_0's binary_logloss: 0.000666246\tvalid_1's binary_logloss: 0.124933\n",
      "Early stopping, best iteration is:\n",
      "[53]\tvalid_0's binary_logloss: 0.0126495\tvalid_1's binary_logloss: 0.111585\n"
     ]
    },
    {
     "name": "stderr",
     "output_type": "stream",
     "text": [
      "num_leaves, val_score: 0.111585:  90%|######### | 18/20 [00:07<00:00,  2.40it/s]\u001b[32m[I 2022-12-24 15:40:20,574]\u001b[0m Trial 24 finished with value: 0.11158475927075624 and parameters: {'num_leaves': 44}. Best is trial 12 with value: 0.11158475927075624.\u001b[0m\n",
      "num_leaves, val_score: 0.111585:  90%|######### | 18/20 [00:07<00:00,  2.40it/s]"
     ]
    },
    {
     "name": "stdout",
     "output_type": "stream",
     "text": [
      "[100]\tvalid_0's binary_logloss: 0.000666246\tvalid_1's binary_logloss: 0.124933\n",
      "Early stopping, best iteration is:\n",
      "[53]\tvalid_0's binary_logloss: 0.0126495\tvalid_1's binary_logloss: 0.111585\n"
     ]
    },
    {
     "name": "stderr",
     "output_type": "stream",
     "text": [
      "num_leaves, val_score: 0.111585:  95%|#########5| 19/20 [00:08<00:00,  2.46it/s]\u001b[32m[I 2022-12-24 15:40:20,957]\u001b[0m Trial 25 finished with value: 0.11158475927075624 and parameters: {'num_leaves': 127}. Best is trial 12 with value: 0.11158475927075624.\u001b[0m\n",
      "num_leaves, val_score: 0.111585:  95%|#########5| 19/20 [00:08<00:00,  2.46it/s]"
     ]
    },
    {
     "name": "stdout",
     "output_type": "stream",
     "text": [
      "[100]\tvalid_0's binary_logloss: 0.000666246\tvalid_1's binary_logloss: 0.124933\n",
      "Early stopping, best iteration is:\n",
      "[53]\tvalid_0's binary_logloss: 0.0126495\tvalid_1's binary_logloss: 0.111585\n"
     ]
    },
    {
     "name": "stderr",
     "output_type": "stream",
     "text": [
      "num_leaves, val_score: 0.111585: 100%|##########| 20/20 [00:08<00:00,  2.42it/s]\u001b[32m[I 2022-12-24 15:40:21,383]\u001b[0m Trial 26 finished with value: 0.11158475927075624 and parameters: {'num_leaves': 204}. Best is trial 12 with value: 0.11158475927075624.\u001b[0m\n",
      "num_leaves, val_score: 0.111585: 100%|##########| 20/20 [00:08<00:00,  2.33it/s]\n",
      "bagging, val_score: 0.111585:   0%|          | 0/10 [00:00<?, ?it/s]"
     ]
    },
    {
     "name": "stdout",
     "output_type": "stream",
     "text": [
      "[100]\tvalid_0's binary_logloss: 0.000666246\tvalid_1's binary_logloss: 0.124933\n",
      "Early stopping, best iteration is:\n",
      "[53]\tvalid_0's binary_logloss: 0.0126495\tvalid_1's binary_logloss: 0.111585\n"
     ]
    },
    {
     "name": "stderr",
     "output_type": "stream",
     "text": [
      "bagging, val_score: 0.111585:  10%|#         | 1/10 [00:00<00:03,  2.50it/s]\u001b[32m[I 2022-12-24 15:40:21,787]\u001b[0m Trial 27 finished with value: 0.11158475927075624 and parameters: {'bagging_fraction': 0.8785478060288046, 'bagging_freq': 7}. Best is trial 27 with value: 0.11158475927075624.\u001b[0m\n",
      "bagging, val_score: 0.111585:  10%|#         | 1/10 [00:00<00:03,  2.50it/s]"
     ]
    },
    {
     "name": "stdout",
     "output_type": "stream",
     "text": [
      "[100]\tvalid_0's binary_logloss: 0.000926451\tvalid_1's binary_logloss: 0.15261\n",
      "Early stopping, best iteration is:\n",
      "[53]\tvalid_0's binary_logloss: 0.0126495\tvalid_1's binary_logloss: 0.111585\n"
     ]
    },
    {
     "name": "stderr",
     "output_type": "stream",
     "text": [
      "bagging, val_score: 0.100430:  20%|##        | 2/10 [00:00<00:02,  3.15it/s]\u001b[32m[I 2022-12-24 15:40:22,047]\u001b[0m Trial 28 finished with value: 0.1004297256127364 and parameters: {'bagging_fraction': 0.41681724891423677, 'bagging_freq': 5}. Best is trial 28 with value: 0.1004297256127364.\u001b[0m\n",
      "bagging, val_score: 0.100430:  20%|##        | 2/10 [00:00<00:02,  3.15it/s]"
     ]
    },
    {
     "name": "stdout",
     "output_type": "stream",
     "text": [
      "[100]\tvalid_0's binary_logloss: 0.00891311\tvalid_1's binary_logloss: 0.104262\n",
      "Early stopping, best iteration is:\n",
      "[71]\tvalid_0's binary_logloss: 0.0211021\tvalid_1's binary_logloss: 0.10043\n"
     ]
    },
    {
     "name": "stderr",
     "output_type": "stream",
     "text": [
      "bagging, val_score: 0.100430:  30%|###       | 3/10 [00:01<00:02,  2.93it/s]\u001b[32m[I 2022-12-24 15:40:22,419]\u001b[0m Trial 29 finished with value: 0.1004297256127364 and parameters: {'bagging_fraction': 0.5009285276851753, 'bagging_freq': 7}. Best is trial 28 with value: 0.1004297256127364.\u001b[0m\n",
      "bagging, val_score: 0.100430:  30%|###       | 3/10 [00:01<00:02,  2.93it/s]"
     ]
    },
    {
     "name": "stdout",
     "output_type": "stream",
     "text": [
      "[100]\tvalid_0's binary_logloss: 0.00594297\tvalid_1's binary_logloss: 0.135526\n",
      "Early stopping, best iteration is:\n",
      "[71]\tvalid_0's binary_logloss: 0.0211021\tvalid_1's binary_logloss: 0.10043\n"
     ]
    },
    {
     "name": "stderr",
     "output_type": "stream",
     "text": [
      "bagging, val_score: 0.100430:  40%|####      | 4/10 [00:01<00:02,  2.63it/s]\u001b[32m[I 2022-12-24 15:40:22,858]\u001b[0m Trial 30 finished with value: 0.1004297256127364 and parameters: {'bagging_fraction': 0.8999744170907222, 'bagging_freq': 3}. Best is trial 28 with value: 0.1004297256127364.\u001b[0m\n",
      "bagging, val_score: 0.100430:  40%|####      | 4/10 [00:01<00:02,  2.63it/s]"
     ]
    },
    {
     "name": "stdout",
     "output_type": "stream",
     "text": [
      "[100]\tvalid_0's binary_logloss: 0.000978021\tvalid_1's binary_logloss: 0.140863\n",
      "Early stopping, best iteration is:\n",
      "[71]\tvalid_0's binary_logloss: 0.0211021\tvalid_1's binary_logloss: 0.10043\n"
     ]
    },
    {
     "name": "stderr",
     "output_type": "stream",
     "text": [
      "bagging, val_score: 0.100430:  50%|#####     | 5/10 [00:01<00:01,  2.88it/s]\u001b[32m[I 2022-12-24 15:40:23,145]\u001b[0m Trial 31 finished with value: 0.1004297256127364 and parameters: {'bagging_fraction': 0.43330411743882213, 'bagging_freq': 2}. Best is trial 28 with value: 0.1004297256127364.\u001b[0m\n",
      "bagging, val_score: 0.100430:  50%|#####     | 5/10 [00:01<00:01,  2.88it/s]"
     ]
    },
    {
     "name": "stdout",
     "output_type": "stream",
     "text": [
      "[100]\tvalid_0's binary_logloss: 0.00820833\tvalid_1's binary_logloss: 0.151312\n",
      "Early stopping, best iteration is:\n",
      "[71]\tvalid_0's binary_logloss: 0.0211021\tvalid_1's binary_logloss: 0.10043\n"
     ]
    },
    {
     "name": "stderr",
     "output_type": "stream",
     "text": [
      "bagging, val_score: 0.100430:  60%|######    | 6/10 [00:02<00:01,  2.03it/s]\u001b[32m[I 2022-12-24 15:40:23,923]\u001b[0m Trial 32 finished with value: 0.1004297256127364 and parameters: {'bagging_fraction': 0.8301789309281531, 'bagging_freq': 2}. Best is trial 28 with value: 0.1004297256127364.\u001b[0m\n",
      "bagging, val_score: 0.100430:  60%|######    | 6/10 [00:02<00:01,  2.03it/s]"
     ]
    },
    {
     "name": "stdout",
     "output_type": "stream",
     "text": [
      "[100]\tvalid_0's binary_logloss: 0.00112462\tvalid_1's binary_logloss: 0.141447\n",
      "Early stopping, best iteration is:\n",
      "[71]\tvalid_0's binary_logloss: 0.0211021\tvalid_1's binary_logloss: 0.10043\n"
     ]
    },
    {
     "name": "stderr",
     "output_type": "stream",
     "text": [
      "bagging, val_score: 0.100430:  70%|#######   | 7/10 [00:02<00:01,  2.26it/s]\u001b[32m[I 2022-12-24 15:40:24,262]\u001b[0m Trial 33 finished with value: 0.1004297256127364 and parameters: {'bagging_fraction': 0.5599378570302523, 'bagging_freq': 1}. Best is trial 28 with value: 0.1004297256127364.\u001b[0m\n",
      "bagging, val_score: 0.100430:  70%|#######   | 7/10 [00:02<00:01,  2.26it/s]"
     ]
    },
    {
     "name": "stdout",
     "output_type": "stream",
     "text": [
      "[100]\tvalid_0's binary_logloss: 0.00423579\tvalid_1's binary_logloss: 0.138029\n",
      "Early stopping, best iteration is:\n",
      "[71]\tvalid_0's binary_logloss: 0.0211021\tvalid_1's binary_logloss: 0.10043\n"
     ]
    },
    {
     "name": "stderr",
     "output_type": "stream",
     "text": [
      "bagging, val_score: 0.100430:  80%|########  | 8/10 [00:03<00:00,  2.48it/s]\u001b[32m[I 2022-12-24 15:40:24,582]\u001b[0m Trial 34 finished with value: 0.1004297256127364 and parameters: {'bagging_fraction': 0.5430008627473579, 'bagging_freq': 2}. Best is trial 28 with value: 0.1004297256127364.\u001b[0m\n",
      "bagging, val_score: 0.100430:  80%|########  | 8/10 [00:03<00:00,  2.48it/s]"
     ]
    },
    {
     "name": "stdout",
     "output_type": "stream",
     "text": [
      "[100]\tvalid_0's binary_logloss: 0.00447713\tvalid_1's binary_logloss: 0.13492\n",
      "Early stopping, best iteration is:\n",
      "[71]\tvalid_0's binary_logloss: 0.0211021\tvalid_1's binary_logloss: 0.10043\n"
     ]
    },
    {
     "name": "stderr",
     "output_type": "stream",
     "text": [
      "bagging, val_score: 0.100430:  90%|######### | 9/10 [00:03<00:00,  2.41it/s]\u001b[32m[I 2022-12-24 15:40:25,019]\u001b[0m Trial 35 finished with value: 0.1004297256127364 and parameters: {'bagging_fraction': 0.9844967267466518, 'bagging_freq': 6}. Best is trial 28 with value: 0.1004297256127364.\u001b[0m\n",
      "bagging, val_score: 0.100430:  90%|######### | 9/10 [00:03<00:00,  2.41it/s]"
     ]
    },
    {
     "name": "stdout",
     "output_type": "stream",
     "text": [
      "[100]\tvalid_0's binary_logloss: 0.000711118\tvalid_1's binary_logloss: 0.157422\n",
      "Early stopping, best iteration is:\n",
      "[71]\tvalid_0's binary_logloss: 0.0211021\tvalid_1's binary_logloss: 0.10043\n"
     ]
    },
    {
     "name": "stderr",
     "output_type": "stream",
     "text": [
      "bagging, val_score: 0.100430: 100%|##########| 10/10 [00:04<00:00,  2.35it/s]\u001b[32m[I 2022-12-24 15:40:25,469]\u001b[0m Trial 36 finished with value: 0.1004297256127364 and parameters: {'bagging_fraction': 0.922656303999529, 'bagging_freq': 5}. Best is trial 28 with value: 0.1004297256127364.\u001b[0m\n",
      "bagging, val_score: 0.100430: 100%|##########| 10/10 [00:04<00:00,  2.45it/s]\n",
      "feature_fraction_stage2, val_score: 0.100430:   0%|          | 0/6 [00:00<?, ?it/s]"
     ]
    },
    {
     "name": "stdout",
     "output_type": "stream",
     "text": [
      "[100]\tvalid_0's binary_logloss: 0.000901767\tvalid_1's binary_logloss: 0.140601\n",
      "Early stopping, best iteration is:\n",
      "[71]\tvalid_0's binary_logloss: 0.0211021\tvalid_1's binary_logloss: 0.10043\n"
     ]
    },
    {
     "name": "stderr",
     "output_type": "stream",
     "text": [
      "feature_fraction_stage2, val_score: 0.098259:  17%|#6        | 1/6 [00:00<00:01,  3.42it/s]\u001b[32m[I 2022-12-24 15:40:25,767]\u001b[0m Trial 37 finished with value: 0.09825941013359654 and parameters: {'feature_fraction': 0.5479999999999999}. Best is trial 37 with value: 0.09825941013359654.\u001b[0m\n",
      "feature_fraction_stage2, val_score: 0.098259:  17%|#6        | 1/6 [00:00<00:01,  3.42it/s]"
     ]
    },
    {
     "name": "stdout",
     "output_type": "stream",
     "text": [
      "[100]\tvalid_0's binary_logloss: 0.0092889\tvalid_1's binary_logloss: 0.101927\n",
      "[200]\tvalid_0's binary_logloss: 0.00121171\tvalid_1's binary_logloss: 0.14922\n",
      "Early stopping, best iteration is:\n",
      "[108]\tvalid_0's binary_logloss: 0.00707726\tvalid_1's binary_logloss: 0.0982594\n"
     ]
    },
    {
     "name": "stderr",
     "output_type": "stream",
     "text": [
      "feature_fraction_stage2, val_score: 0.098259:  33%|###3      | 2/6 [00:00<00:01,  3.39it/s]\u001b[32m[I 2022-12-24 15:40:26,063]\u001b[0m Trial 38 finished with value: 0.09825941013359654 and parameters: {'feature_fraction': 0.516}. Best is trial 37 with value: 0.09825941013359654.\u001b[0m\n",
      "feature_fraction_stage2, val_score: 0.098259:  33%|###3      | 2/6 [00:00<00:01,  3.39it/s]"
     ]
    },
    {
     "name": "stdout",
     "output_type": "stream",
     "text": [
      "[100]\tvalid_0's binary_logloss: 0.00891311\tvalid_1's binary_logloss: 0.104262\n",
      "[200]\tvalid_0's binary_logloss: 0.00135285\tvalid_1's binary_logloss: 0.133239\n",
      "Early stopping, best iteration is:\n",
      "[108]\tvalid_0's binary_logloss: 0.00707726\tvalid_1's binary_logloss: 0.0982594\n"
     ]
    },
    {
     "name": "stderr",
     "output_type": "stream",
     "text": [
      "feature_fraction_stage2, val_score: 0.090128:  50%|#####     | 3/6 [00:00<00:00,  3.64it/s]\u001b[32m[I 2022-12-24 15:40:26,313]\u001b[0m Trial 39 finished with value: 0.09012814261211856 and parameters: {'feature_fraction': 0.42}. Best is trial 39 with value: 0.09012814261211856.\u001b[0m\n",
      "feature_fraction_stage2, val_score: 0.090128:  50%|#####     | 3/6 [00:00<00:00,  3.64it/s]"
     ]
    },
    {
     "name": "stdout",
     "output_type": "stream",
     "text": [
      "[100]\tvalid_0's binary_logloss: 0.0111215\tvalid_1's binary_logloss: 0.0955283\n",
      "Early stopping, best iteration is:\n",
      "[72]\tvalid_0's binary_logloss: 0.0211422\tvalid_1's binary_logloss: 0.0901281\n"
     ]
    },
    {
     "name": "stderr",
     "output_type": "stream",
     "text": [
      "feature_fraction_stage2, val_score: 0.090128:  67%|######6   | 4/6 [00:01<00:00,  3.43it/s]\u001b[32m[I 2022-12-24 15:40:26,631]\u001b[0m Trial 40 finished with value: 0.09012814261211856 and parameters: {'feature_fraction': 0.45199999999999996}. Best is trial 39 with value: 0.09012814261211856.\u001b[0m\n",
      "feature_fraction_stage2, val_score: 0.090128:  67%|######6   | 4/6 [00:01<00:00,  3.43it/s]"
     ]
    },
    {
     "name": "stdout",
     "output_type": "stream",
     "text": [
      "[100]\tvalid_0's binary_logloss: 0.00985307\tvalid_1's binary_logloss: 0.106506\n",
      "Early stopping, best iteration is:\n",
      "[72]\tvalid_0's binary_logloss: 0.0211422\tvalid_1's binary_logloss: 0.0901281\n"
     ]
    },
    {
     "name": "stderr",
     "output_type": "stream",
     "text": [
      "feature_fraction_stage2, val_score: 0.090128:  83%|########3 | 5/6 [00:01<00:00,  3.57it/s]\u001b[32m[I 2022-12-24 15:40:26,892]\u001b[0m Trial 41 finished with value: 0.09012814261211856 and parameters: {'feature_fraction': 0.58}. Best is trial 39 with value: 0.09012814261211856.\u001b[0m\n",
      "feature_fraction_stage2, val_score: 0.090128:  83%|########3 | 5/6 [00:01<00:00,  3.57it/s]"
     ]
    },
    {
     "name": "stdout",
     "output_type": "stream",
     "text": [
      "[100]\tvalid_0's binary_logloss: 0.00908262\tvalid_1's binary_logloss: 0.104556\n",
      "Early stopping, best iteration is:\n",
      "[72]\tvalid_0's binary_logloss: 0.0211422\tvalid_1's binary_logloss: 0.0901281\n"
     ]
    },
    {
     "name": "stderr",
     "output_type": "stream",
     "text": [
      "feature_fraction_stage2, val_score: 0.090128: 100%|##########| 6/6 [00:01<00:00,  3.65it/s]\u001b[32m[I 2022-12-24 15:40:27,154]\u001b[0m Trial 42 finished with value: 0.09012814261211856 and parameters: {'feature_fraction': 0.484}. Best is trial 39 with value: 0.09012814261211856.\u001b[0m\n",
      "feature_fraction_stage2, val_score: 0.090128: 100%|##########| 6/6 [00:01<00:00,  3.57it/s]\n",
      "regularization_factors, val_score: 0.090128:   0%|          | 0/20 [00:00<?, ?it/s]"
     ]
    },
    {
     "name": "stdout",
     "output_type": "stream",
     "text": [
      "[100]\tvalid_0's binary_logloss: 0.00891311\tvalid_1's binary_logloss: 0.104262\n",
      "Early stopping, best iteration is:\n",
      "[72]\tvalid_0's binary_logloss: 0.0211422\tvalid_1's binary_logloss: 0.0901281\n"
     ]
    },
    {
     "name": "stderr",
     "output_type": "stream",
     "text": [
      "regularization_factors, val_score: 0.084400:   5%|5         | 1/20 [00:00<00:05,  3.43it/s]\u001b[32m[I 2022-12-24 15:40:27,450]\u001b[0m Trial 43 finished with value: 0.0843995912205059 and parameters: {'lambda_l1': 2.468076246848381e-08, 'lambda_l2': 0.0002974882493780231}. Best is trial 43 with value: 0.0843995912205059.\u001b[0m\n",
      "regularization_factors, val_score: 0.084400:   5%|5         | 1/20 [00:00<00:05,  3.43it/s]"
     ]
    },
    {
     "name": "stdout",
     "output_type": "stream",
     "text": [
      "[100]\tvalid_0's binary_logloss: 0.0108057\tvalid_1's binary_logloss: 0.0893681\n",
      "[200]\tvalid_0's binary_logloss: 0.00118635\tvalid_1's binary_logloss: 0.123641\n",
      "Early stopping, best iteration is:\n",
      "[108]\tvalid_0's binary_logloss: 0.00812764\tvalid_1's binary_logloss: 0.0843996\n"
     ]
    },
    {
     "name": "stderr",
     "output_type": "stream",
     "text": [
      "regularization_factors, val_score: 0.084400:  10%|#         | 2/20 [00:00<00:04,  3.80it/s]\u001b[32m[I 2022-12-24 15:40:27,696]\u001b[0m Trial 44 finished with value: 0.0843995912205059 and parameters: {'lambda_l1': 5.3841317608613446e-08, 'lambda_l2': 2.254755833758731}. Best is trial 43 with value: 0.0843995912205059.\u001b[0m\n",
      "regularization_factors, val_score: 0.084400:  10%|#         | 2/20 [00:00<00:04,  3.80it/s]"
     ]
    },
    {
     "name": "stdout",
     "output_type": "stream",
     "text": [
      "[100]\tvalid_0's binary_logloss: 0.0418397\tvalid_1's binary_logloss: 0.105532\n",
      "[200]\tvalid_0's binary_logloss: 0.0201733\tvalid_1's binary_logloss: 0.107642\n",
      "Early stopping, best iteration is:\n",
      "[108]\tvalid_0's binary_logloss: 0.00812764\tvalid_1's binary_logloss: 0.0843996\n"
     ]
    },
    {
     "name": "stderr",
     "output_type": "stream",
     "text": [
      "regularization_factors, val_score: 0.084400:  15%|#5        | 3/20 [00:00<00:04,  3.79it/s]\u001b[32m[I 2022-12-24 15:40:27,959]\u001b[0m Trial 45 finished with value: 0.0843995912205059 and parameters: {'lambda_l1': 0.00022893561982005272, 'lambda_l2': 2.6812266804927725}. Best is trial 43 with value: 0.0843995912205059.\u001b[0m\n",
      "regularization_factors, val_score: 0.084400:  15%|#5        | 3/20 [00:00<00:04,  3.79it/s]"
     ]
    },
    {
     "name": "stdout",
     "output_type": "stream",
     "text": [
      "[100]\tvalid_0's binary_logloss: 0.0440568\tvalid_1's binary_logloss: 0.110549\n",
      "[200]\tvalid_0's binary_logloss: 0.0223961\tvalid_1's binary_logloss: 0.110891\n",
      "Early stopping, best iteration is:\n",
      "[108]\tvalid_0's binary_logloss: 0.00812764\tvalid_1's binary_logloss: 0.0843996\n",
      "[100]\tvalid_0's binary_logloss: 0.0106015\tvalid_1's binary_logloss: 0.0978145\n",
      "[200]\tvalid_0's binary_logloss: 0.00151941\tvalid_1's binary_logloss: 0.131055\n",
      "Early stopping, best iteration is:\n",
      "[108]\tvalid_0's binary_logloss: 0.00812764\tvalid_1's binary_logloss: 0.0843996\n"
     ]
    },
    {
     "name": "stderr",
     "output_type": "stream",
     "text": [
      "regularization_factors, val_score: 0.084400:  20%|##        | 4/20 [00:01<00:04,  3.21it/s]\u001b[32m[I 2022-12-24 15:40:28,344]\u001b[0m Trial 46 finished with value: 0.0843995912205059 and parameters: {'lambda_l1': 1.9661280020153082e-05, 'lambda_l2': 0.011282402741706506}. Best is trial 43 with value: 0.0843995912205059.\u001b[0m\n",
      "regularization_factors, val_score: 0.084400:  25%|##5       | 5/20 [00:01<00:05,  2.62it/s]\u001b[32m[I 2022-12-24 15:40:28,850]\u001b[0m Trial 47 finished with value: 0.0843995912205059 and parameters: {'lambda_l1': 2.7968518751941765e-07, 'lambda_l2': 0.0017745741095824212}. Best is trial 43 with value: 0.0843995912205059.\u001b[0m\n",
      "regularization_factors, val_score: 0.084400:  25%|##5       | 5/20 [00:01<00:05,  2.62it/s]"
     ]
    },
    {
     "name": "stdout",
     "output_type": "stream",
     "text": [
      "[100]\tvalid_0's binary_logloss: 0.0115009\tvalid_1's binary_logloss: 0.0957193\n",
      "[200]\tvalid_0's binary_logloss: 0.00143811\tvalid_1's binary_logloss: 0.129497\n",
      "Early stopping, best iteration is:\n",
      "[108]\tvalid_0's binary_logloss: 0.00812764\tvalid_1's binary_logloss: 0.0843996\n"
     ]
    },
    {
     "name": "stderr",
     "output_type": "stream",
     "text": [
      "regularization_factors, val_score: 0.084400:  30%|###       | 6/20 [00:01<00:04,  3.29it/s]\u001b[32m[I 2022-12-24 15:40:29,002]\u001b[0m Trial 48 finished with value: 0.0843995912205059 and parameters: {'lambda_l1': 4.057046741279105, 'lambda_l2': 0.002017322766004183}. Best is trial 43 with value: 0.0843995912205059.\u001b[0m\n",
      "regularization_factors, val_score: 0.084400:  30%|###       | 6/20 [00:01<00:04,  3.29it/s]"
     ]
    },
    {
     "name": "stdout",
     "output_type": "stream",
     "text": [
      "[100]\tvalid_0's binary_logloss: 0.103834\tvalid_1's binary_logloss: 0.16269\n",
      "[200]\tvalid_0's binary_logloss: 0.0893878\tvalid_1's binary_logloss: 0.154614\n",
      "Early stopping, best iteration is:\n",
      "[108]\tvalid_0's binary_logloss: 0.00812764\tvalid_1's binary_logloss: 0.0843996\n",
      "[100]\tvalid_0's binary_logloss: 0.0135776\tvalid_1's binary_logloss: 0.0898856\n"
     ]
    },
    {
     "name": "stderr",
     "output_type": "stream",
     "text": [
      "regularization_factors, val_score: 0.084400:  35%|###5      | 7/20 [00:02<00:03,  3.66it/s]\u001b[32m[I 2022-12-24 15:40:29,212]\u001b[0m Trial 49 finished with value: 0.0843995912205059 and parameters: {'lambda_l1': 0.00017685747667705792, 'lambda_l2': 0.12276947510716794}. Best is trial 43 with value: 0.0843995912205059.\u001b[0m\n",
      "regularization_factors, val_score: 0.084400:  35%|###5      | 7/20 [00:02<00:03,  3.66it/s]"
     ]
    },
    {
     "name": "stdout",
     "output_type": "stream",
     "text": [
      "[200]\tvalid_0's binary_logloss: 0.0030574\tvalid_1's binary_logloss: 0.116143\n",
      "Early stopping, best iteration is:\n",
      "[108]\tvalid_0's binary_logloss: 0.00812764\tvalid_1's binary_logloss: 0.0843996\n",
      "[100]\tvalid_0's binary_logloss: 0.0112631\tvalid_1's binary_logloss: 0.103261\n"
     ]
    },
    {
     "name": "stderr",
     "output_type": "stream",
     "text": [
      "regularization_factors, val_score: 0.084400:  40%|####      | 8/20 [00:02<00:03,  3.89it/s]\u001b[32m[I 2022-12-24 15:40:29,435]\u001b[0m Trial 50 finished with value: 0.0843995912205059 and parameters: {'lambda_l1': 0.016534219586924505, 'lambda_l2': 7.335242062329038e-07}. Best is trial 43 with value: 0.0843995912205059.\u001b[0m\n",
      "regularization_factors, val_score: 0.084400:  40%|####      | 8/20 [00:02<00:03,  3.89it/s]"
     ]
    },
    {
     "name": "stdout",
     "output_type": "stream",
     "text": [
      "[200]\tvalid_0's binary_logloss: 0.00178133\tvalid_1's binary_logloss: 0.136595\n",
      "Early stopping, best iteration is:\n",
      "[108]\tvalid_0's binary_logloss: 0.00812764\tvalid_1's binary_logloss: 0.0843996\n",
      "[100]\tvalid_0's binary_logloss: 0.0544163\tvalid_1's binary_logloss: 0.115268\n",
      "[200]\tvalid_0's binary_logloss: 0.0303852\tvalid_1's binary_logloss: 0.111851\n",
      "Early stopping, best iteration is:\n",
      "[108]\tvalid_0's binary_logloss: 0.00812764\tvalid_1's binary_logloss: 0.0843996\n"
     ]
    },
    {
     "name": "stderr",
     "output_type": "stream",
     "text": [
      "regularization_factors, val_score: 0.084400:  45%|####5     | 9/20 [00:02<00:02,  4.20it/s]\u001b[32m[I 2022-12-24 15:40:29,632]\u001b[0m Trial 51 finished with value: 0.0843995912205059 and parameters: {'lambda_l1': 1.6868815541539995e-07, 'lambda_l2': 4.196038577319359}. Best is trial 43 with value: 0.0843995912205059.\u001b[0m\n",
      "regularization_factors, val_score: 0.084400:  50%|#####     | 10/20 [00:02<00:02,  4.58it/s]\u001b[32m[I 2022-12-24 15:40:29,806]\u001b[0m Trial 52 finished with value: 0.0843995912205059 and parameters: {'lambda_l1': 1.3140780440223896, 'lambda_l2': 0.016034784222206933}. Best is trial 43 with value: 0.0843995912205059.\u001b[0m\n",
      "regularization_factors, val_score: 0.084400:  50%|#####     | 10/20 [00:02<00:02,  4.58it/s]"
     ]
    },
    {
     "name": "stdout",
     "output_type": "stream",
     "text": [
      "[100]\tvalid_0's binary_logloss: 0.0445946\tvalid_1's binary_logloss: 0.112877\n",
      "[200]\tvalid_0's binary_logloss: 0.033944\tvalid_1's binary_logloss: 0.108413\n",
      "Early stopping, best iteration is:\n",
      "[108]\tvalid_0's binary_logloss: 0.00812764\tvalid_1's binary_logloss: 0.0843996\n"
     ]
    },
    {
     "name": "stderr",
     "output_type": "stream",
     "text": [
      "regularization_factors, val_score: 0.084400:  55%|#####5    | 11/20 [00:02<00:02,  4.30it/s]\u001b[32m[I 2022-12-24 15:40:30,070]\u001b[0m Trial 53 finished with value: 0.0843995912205059 and parameters: {'lambda_l1': 2.0949982782805023e-06, 'lambda_l2': 5.920006423192574e-06}. Best is trial 43 with value: 0.0843995912205059.\u001b[0m\n",
      "regularization_factors, val_score: 0.084400:  55%|#####5    | 11/20 [00:02<00:02,  4.30it/s]"
     ]
    },
    {
     "name": "stdout",
     "output_type": "stream",
     "text": [
      "[100]\tvalid_0's binary_logloss: 0.0114716\tvalid_1's binary_logloss: 0.089746\n",
      "[200]\tvalid_0's binary_logloss: 0.00147839\tvalid_1's binary_logloss: 0.116322\n",
      "Early stopping, best iteration is:\n",
      "[108]\tvalid_0's binary_logloss: 0.00812764\tvalid_1's binary_logloss: 0.0843996\n"
     ]
    },
    {
     "name": "stderr",
     "output_type": "stream",
     "text": [
      "regularization_factors, val_score: 0.084400:  60%|######    | 12/20 [00:03<00:01,  4.15it/s]\u001b[32m[I 2022-12-24 15:40:30,331]\u001b[0m Trial 54 finished with value: 0.0843995912205059 and parameters: {'lambda_l1': 2.260561015060513e-08, 'lambda_l2': 3.098050357375376e-05}. Best is trial 43 with value: 0.0843995912205059.\u001b[0m\n",
      "regularization_factors, val_score: 0.084400:  60%|######    | 12/20 [00:03<00:01,  4.15it/s]"
     ]
    },
    {
     "name": "stdout",
     "output_type": "stream",
     "text": [
      "[100]\tvalid_0's binary_logloss: 0.0111496\tvalid_1's binary_logloss: 0.0980247\n",
      "[200]\tvalid_0's binary_logloss: 0.00106711\tvalid_1's binary_logloss: 0.122239\n",
      "Early stopping, best iteration is:\n",
      "[108]\tvalid_0's binary_logloss: 0.00812764\tvalid_1's binary_logloss: 0.0843996\n"
     ]
    },
    {
     "name": "stderr",
     "output_type": "stream",
     "text": [
      "regularization_factors, val_score: 0.084400:  65%|######5   | 13/20 [00:03<00:01,  4.00it/s]\u001b[32m[I 2022-12-24 15:40:30,611]\u001b[0m Trial 55 finished with value: 0.0843995912205059 and parameters: {'lambda_l1': 1.2787388669676244e-08, 'lambda_l2': 0.0001307298956969473}. Best is trial 43 with value: 0.0843995912205059.\u001b[0m\n",
      "regularization_factors, val_score: 0.084400:  65%|######5   | 13/20 [00:03<00:01,  4.00it/s]"
     ]
    },
    {
     "name": "stdout",
     "output_type": "stream",
     "text": [
      "[100]\tvalid_0's binary_logloss: 0.0106714\tvalid_1's binary_logloss: 0.0945757\n",
      "[200]\tvalid_0's binary_logloss: 0.00115663\tvalid_1's binary_logloss: 0.127995\n",
      "Early stopping, best iteration is:\n",
      "[108]\tvalid_0's binary_logloss: 0.00812764\tvalid_1's binary_logloss: 0.0843996\n"
     ]
    },
    {
     "name": "stderr",
     "output_type": "stream",
     "text": [
      "regularization_factors, val_score: 0.084400:  70%|#######   | 14/20 [00:03<00:01,  3.96it/s]\u001b[32m[I 2022-12-24 15:40:30,860]\u001b[0m Trial 56 finished with value: 0.0843995912205059 and parameters: {'lambda_l1': 3.1845704699388067e-06, 'lambda_l2': 1.4798502478506322e-07}. Best is trial 43 with value: 0.0843995912205059.\u001b[0m\n",
      "regularization_factors, val_score: 0.084400:  70%|#######   | 14/20 [00:03<00:01,  3.96it/s]"
     ]
    },
    {
     "name": "stdout",
     "output_type": "stream",
     "text": [
      "[100]\tvalid_0's binary_logloss: 0.0111263\tvalid_1's binary_logloss: 0.0955471\n",
      "[200]\tvalid_0's binary_logloss: 0.00154628\tvalid_1's binary_logloss: 0.136007\n",
      "Early stopping, best iteration is:\n",
      "[108]\tvalid_0's binary_logloss: 0.00812764\tvalid_1's binary_logloss: 0.0843996\n"
     ]
    },
    {
     "name": "stderr",
     "output_type": "stream",
     "text": [
      "regularization_factors, val_score: 0.084400:  75%|#######5  | 15/20 [00:03<00:01,  3.95it/s]\u001b[32m[I 2022-12-24 15:40:31,113]\u001b[0m Trial 57 finished with value: 0.0843995912205059 and parameters: {'lambda_l1': 0.009423189884958485, 'lambda_l2': 0.1082055935327598}. Best is trial 43 with value: 0.0843995912205059.\u001b[0m\n",
      "regularization_factors, val_score: 0.084400:  75%|#######5  | 15/20 [00:03<00:01,  3.95it/s]"
     ]
    },
    {
     "name": "stdout",
     "output_type": "stream",
     "text": [
      "[100]\tvalid_0's binary_logloss: 0.014401\tvalid_1's binary_logloss: 0.0867029\n",
      "[200]\tvalid_0's binary_logloss: 0.0031539\tvalid_1's binary_logloss: 0.10336\n",
      "Early stopping, best iteration is:\n",
      "[108]\tvalid_0's binary_logloss: 0.00812764\tvalid_1's binary_logloss: 0.0843996\n"
     ]
    },
    {
     "name": "stderr",
     "output_type": "stream",
     "text": [
      "regularization_factors, val_score: 0.084400:  80%|########  | 16/20 [00:04<00:01,  3.88it/s]\u001b[32m[I 2022-12-24 15:40:31,382]\u001b[0m Trial 58 finished with value: 0.0843995912205059 and parameters: {'lambda_l1': 3.167974267179909e-07, 'lambda_l2': 4.138563337820802e-06}. Best is trial 43 with value: 0.0843995912205059.\u001b[0m\n",
      "regularization_factors, val_score: 0.084400:  80%|########  | 16/20 [00:04<00:01,  3.88it/s]"
     ]
    },
    {
     "name": "stdout",
     "output_type": "stream",
     "text": [
      "[100]\tvalid_0's binary_logloss: 0.0111254\tvalid_1's binary_logloss: 0.0955351\n",
      "[200]\tvalid_0's binary_logloss: 0.00158266\tvalid_1's binary_logloss: 0.140778\n",
      "Early stopping, best iteration is:\n",
      "[108]\tvalid_0's binary_logloss: 0.00812764\tvalid_1's binary_logloss: 0.0843996\n"
     ]
    },
    {
     "name": "stderr",
     "output_type": "stream",
     "text": [
      "regularization_factors, val_score: 0.084400:  85%|########5 | 17/20 [00:04<00:00,  3.59it/s]\u001b[32m[I 2022-12-24 15:40:31,711]\u001b[0m Trial 59 finished with value: 0.0843995912205059 and parameters: {'lambda_l1': 1.3510512577126626e-08, 'lambda_l2': 2.955648079005379e-08}. Best is trial 43 with value: 0.0843995912205059.\u001b[0m\n",
      "regularization_factors, val_score: 0.084400:  85%|########5 | 17/20 [00:04<00:00,  3.59it/s]"
     ]
    },
    {
     "name": "stdout",
     "output_type": "stream",
     "text": [
      "[100]\tvalid_0's binary_logloss: 0.0111213\tvalid_1's binary_logloss: 0.0955271\n",
      "[200]\tvalid_0's binary_logloss: 0.00136931\tvalid_1's binary_logloss: 0.132949\n",
      "Early stopping, best iteration is:\n",
      "[108]\tvalid_0's binary_logloss: 0.00812764\tvalid_1's binary_logloss: 0.0843996\n"
     ]
    },
    {
     "name": "stderr",
     "output_type": "stream",
     "text": [
      "regularization_factors, val_score: 0.084400:  90%|######### | 18/20 [00:04<00:00,  3.18it/s]\u001b[32m[I 2022-12-24 15:40:32,107]\u001b[0m Trial 60 finished with value: 0.0843995912205059 and parameters: {'lambda_l1': 0.013567680322385261, 'lambda_l2': 0.2790254538727802}. Best is trial 43 with value: 0.0843995912205059.\u001b[0m\n",
      "regularization_factors, val_score: 0.084400:  90%|######### | 18/20 [00:04<00:00,  3.18it/s]"
     ]
    },
    {
     "name": "stdout",
     "output_type": "stream",
     "text": [
      "[100]\tvalid_0's binary_logloss: 0.0179969\tvalid_1's binary_logloss: 0.10117\n",
      "[200]\tvalid_0's binary_logloss: 0.00530334\tvalid_1's binary_logloss: 0.113275\n",
      "Early stopping, best iteration is:\n",
      "[108]\tvalid_0's binary_logloss: 0.00812764\tvalid_1's binary_logloss: 0.0843996\n"
     ]
    },
    {
     "name": "stderr",
     "output_type": "stream",
     "text": [
      "regularization_factors, val_score: 0.084400:  95%|#########5| 19/20 [00:05<00:00,  3.32it/s]\u001b[32m[I 2022-12-24 15:40:32,379]\u001b[0m Trial 61 finished with value: 0.0843995912205059 and parameters: {'lambda_l1': 9.888531967085856e-07, 'lambda_l2': 4.6015685827095365e-06}. Best is trial 43 with value: 0.0843995912205059.\u001b[0m\n",
      "regularization_factors, val_score: 0.084400:  95%|#########5| 19/20 [00:05<00:00,  3.32it/s]"
     ]
    },
    {
     "name": "stdout",
     "output_type": "stream",
     "text": [
      "[100]\tvalid_0's binary_logloss: 0.0112256\tvalid_1's binary_logloss: 0.0928793\n",
      "[200]\tvalid_0's binary_logloss: 0.001158\tvalid_1's binary_logloss: 0.121805\n",
      "Early stopping, best iteration is:\n",
      "[108]\tvalid_0's binary_logloss: 0.00812764\tvalid_1's binary_logloss: 0.0843996\n",
      "[100]\tvalid_0's binary_logloss: 0.0112236\tvalid_1's binary_logloss: 0.0930513\n"
     ]
    },
    {
     "name": "stderr",
     "output_type": "stream",
     "text": [
      "regularization_factors, val_score: 0.084400: 100%|##########| 20/20 [00:05<00:00,  2.35it/s]\u001b[32m[I 2022-12-24 15:40:33,095]\u001b[0m Trial 62 finished with value: 0.0843995912205059 and parameters: {'lambda_l1': 1.2089901621262751e-05, 'lambda_l2': 1.6375827113871574e-08}. Best is trial 43 with value: 0.0843995912205059.\u001b[0m\n",
      "regularization_factors, val_score: 0.084400: 100%|##########| 20/20 [00:05<00:00,  3.37it/s]\n",
      "min_data_in_leaf, val_score: 0.084400:   0%|          | 0/5 [00:00<?, ?it/s]\u001b[32m[I 2022-12-24 15:40:33,192]\u001b[0m Trial 63 finished with value: 0.0843995912205059 and parameters: {'min_child_samples': 100}. Best is trial 63 with value: 0.0843995912205059.\u001b[0m\n",
      "min_data_in_leaf, val_score: 0.084400:  20%|##        | 1/5 [00:00<00:00, 10.51it/s]"
     ]
    },
    {
     "name": "stdout",
     "output_type": "stream",
     "text": [
      "[200]\tvalid_0's binary_logloss: 0.00131896\tvalid_1's binary_logloss: 0.125199\n",
      "Early stopping, best iteration is:\n",
      "[108]\tvalid_0's binary_logloss: 0.00812764\tvalid_1's binary_logloss: 0.0843996\n",
      "[100]\tvalid_0's binary_logloss: 0.250438\tvalid_1's binary_logloss: 0.277849\n",
      "[200]\tvalid_0's binary_logloss: 0.160196\tvalid_1's binary_logloss: 0.207477\n",
      "Early stopping, best iteration is:\n",
      "[108]\tvalid_0's binary_logloss: 0.00812764\tvalid_1's binary_logloss: 0.0843996\n"
     ]
    },
    {
     "name": "stderr",
     "output_type": "stream",
     "text": [
      "min_data_in_leaf, val_score: 0.084400:  40%|####      | 2/5 [00:00<00:00,  5.89it/s]\u001b[32m[I 2022-12-24 15:40:33,439]\u001b[0m Trial 64 finished with value: 0.0843995912205059 and parameters: {'min_child_samples': 25}. Best is trial 63 with value: 0.0843995912205059.\u001b[0m\n",
      "min_data_in_leaf, val_score: 0.084400:  40%|####      | 2/5 [00:00<00:00,  5.89it/s]"
     ]
    },
    {
     "name": "stdout",
     "output_type": "stream",
     "text": [
      "[100]\tvalid_0's binary_logloss: 0.0127161\tvalid_1's binary_logloss: 0.124298\n",
      "[200]\tvalid_0's binary_logloss: 0.00185554\tvalid_1's binary_logloss: 0.17303\n",
      "Early stopping, best iteration is:\n",
      "[108]\tvalid_0's binary_logloss: 0.00812764\tvalid_1's binary_logloss: 0.0843996\n"
     ]
    },
    {
     "name": "stderr",
     "output_type": "stream",
     "text": [
      "min_data_in_leaf, val_score: 0.084400:  60%|######    | 3/5 [00:00<00:00,  4.06it/s]\u001b[32m[I 2022-12-24 15:40:33,793]\u001b[0m Trial 65 finished with value: 0.0843995912205059 and parameters: {'min_child_samples': 10}. Best is trial 63 with value: 0.0843995912205059.\u001b[0m\n",
      "min_data_in_leaf, val_score: 0.084400:  60%|######    | 3/5 [00:00<00:00,  4.06it/s]"
     ]
    },
    {
     "name": "stdout",
     "output_type": "stream",
     "text": [
      "[100]\tvalid_0's binary_logloss: 0.00655477\tvalid_1's binary_logloss: 0.106369\n",
      "[200]\tvalid_0's binary_logloss: 0.000540024\tvalid_1's binary_logloss: 0.141279\n",
      "Early stopping, best iteration is:\n",
      "[108]\tvalid_0's binary_logloss: 0.00812764\tvalid_1's binary_logloss: 0.0843996\n"
     ]
    },
    {
     "name": "stderr",
     "output_type": "stream",
     "text": [
      "min_data_in_leaf, val_score: 0.084400:  80%|########  | 4/5 [00:00<00:00,  4.62it/s]\u001b[32m[I 2022-12-24 15:40:33,959]\u001b[0m Trial 66 finished with value: 0.0843995912205059 and parameters: {'min_child_samples': 50}. Best is trial 63 with value: 0.0843995912205059.\u001b[0m\n",
      "min_data_in_leaf, val_score: 0.084400:  80%|########  | 4/5 [00:00<00:00,  4.62it/s]"
     ]
    },
    {
     "name": "stdout",
     "output_type": "stream",
     "text": [
      "[100]\tvalid_0's binary_logloss: 0.0421961\tvalid_1's binary_logloss: 0.114875\n",
      "[200]\tvalid_0's binary_logloss: 0.016342\tvalid_1's binary_logloss: 0.122662\n",
      "Early stopping, best iteration is:\n",
      "[108]\tvalid_0's binary_logloss: 0.00812764\tvalid_1's binary_logloss: 0.0843996\n"
     ]
    },
    {
     "name": "stderr",
     "output_type": "stream",
     "text": [
      "min_data_in_leaf, val_score: 0.084400: 100%|##########| 5/5 [00:01<00:00,  3.59it/s]\u001b[32m[I 2022-12-24 15:40:34,355]\u001b[0m Trial 67 finished with value: 0.0843995912205059 and parameters: {'min_child_samples': 5}. Best is trial 63 with value: 0.0843995912205059.\u001b[0m\n",
      "min_data_in_leaf, val_score: 0.084400: 100%|##########| 5/5 [00:01<00:00,  3.97it/s]"
     ]
    },
    {
     "name": "stdout",
     "output_type": "stream",
     "text": [
      "[100]\tvalid_0's binary_logloss: 0.00435622\tvalid_1's binary_logloss: 0.12942\n",
      "[200]\tvalid_0's binary_logloss: 0.000350544\tvalid_1's binary_logloss: 0.140302\n",
      "Early stopping, best iteration is:\n",
      "[108]\tvalid_0's binary_logloss: 0.00812764\tvalid_1's binary_logloss: 0.0843996\n",
      "Best params: {'objective': 'binary', 'metric': 'binary_logloss', 'verbosity': -1, 'boosting_type': 'gbdt', 'feature_pre_filter': False, 'lambda_l1': 2.468076246848381e-08, 'lambda_l2': 0.0002974882493780231, 'num_leaves': 238, 'feature_fraction': 0.42, 'bagging_fraction': 0.41681724891423677, 'bagging_freq': 5, 'min_child_samples': 20, 'num_iterations': 1000, 'early_stopping_round': None}\n",
      "  Accuracy = 0.958041958041958\n",
      "  Params: \n",
      "    objective: binary\n",
      "    metric: binary_logloss\n",
      "    verbosity: -1\n",
      "    boosting_type: gbdt\n",
      "    feature_pre_filter: False\n",
      "    lambda_l1: 2.468076246848381e-08\n",
      "    lambda_l2: 0.0002974882493780231\n",
      "    num_leaves: 238\n",
      "    feature_fraction: 0.42\n",
      "    bagging_fraction: 0.41681724891423677\n",
      "    bagging_freq: 5\n",
      "    min_child_samples: 20\n",
      "    num_iterations: 1000\n",
      "    early_stopping_round: None\n"
     ]
    },
    {
     "name": "stderr",
     "output_type": "stream",
     "text": [
      "\n"
     ]
    }
   ],
   "source": [
    "\"\"\"\n",
    "Optuna example that optimizes a classifier configuration for cancer dataset using LightGBM tuner.\n",
    "In this example, we optimize the validation log loss of cancer detection.\n",
    "\"\"\"\n",
    "\n",
    "import numpy as np\n",
    "import optuna.integration.lightgbm as lgb\n",
    "\n",
    "from lightgbm import early_stopping\n",
    "from lightgbm import log_evaluation\n",
    "import sklearn.datasets\n",
    "from sklearn.metrics import accuracy_score\n",
    "from sklearn.model_selection import train_test_split\n",
    "\n",
    "\n",
    "if __name__ == \"__main__\":\n",
    "    data, target = sklearn.datasets.load_breast_cancer(return_X_y=True)\n",
    "    train_x, val_x, train_y, val_y = train_test_split(data, target, test_size=0.25)\n",
    "    dtrain = lgb.Dataset(train_x, label=train_y)\n",
    "    dval = lgb.Dataset(val_x, label=val_y)\n",
    "\n",
    "    params = {\n",
    "        \"objective\": \"binary\",\n",
    "        \"metric\": \"binary_logloss\",\n",
    "        \"verbosity\": -1,\n",
    "        \"boosting_type\": \"gbdt\",\n",
    "    }\n",
    "\n",
    "    model = lgb.train(\n",
    "        params,\n",
    "        dtrain,\n",
    "        valid_sets=[dtrain, dval],\n",
    "        callbacks=[early_stopping(100), log_evaluation(100)],\n",
    "    )\n",
    "\n",
    "    prediction = np.rint(model.predict(val_x, num_iteration=model.best_iteration))\n",
    "    accuracy = accuracy_score(val_y, prediction)\n",
    "\n",
    "    best_params = model.params\n",
    "    print(\"Best params:\", best_params)\n",
    "    print(\"  Accuracy = {}\".format(accuracy))\n",
    "    print(\"  Params: \")\n",
    "    for key, value in best_params.items():\n",
    "        print(\"    {}: {}\".format(key, value))"
   ]
  },
  {
   "cell_type": "code",
   "execution_count": null,
   "metadata": {},
   "outputs": [],
   "source": []
  },
  {
   "cell_type": "code",
   "execution_count": 4,
   "metadata": {},
   "outputs": [
    {
     "name": "stdout",
     "output_type": "stream",
     "text": [
      "Collecting pytorch_lightning\n",
      "  Downloading pytorch_lightning-1.8.6-py3-none-any.whl (800 kB)\n",
      "\u001b[K     |████████████████████████████████| 800 kB 5.5 MB/s eta 0:00:01\n",
      "\u001b[?25hRequirement already satisfied: torch>=1.9.0 in /opt/conda/lib/python3.7/site-packages (from pytorch_lightning) (1.10.1)\n",
      "Requirement already satisfied: tqdm>=4.57.0 in /opt/conda/lib/python3.7/site-packages (from pytorch_lightning) (4.60.0)\n",
      "Requirement already satisfied: tensorboardX>=2.2 in /opt/conda/lib/python3.7/site-packages (from pytorch_lightning) (2.5.1)\n",
      "Requirement already satisfied: packaging>=17.0 in /opt/conda/lib/python3.7/site-packages (from pytorch_lightning) (22.0)\n",
      "Requirement already satisfied: numpy>=1.17.2 in /opt/conda/lib/python3.7/site-packages (from pytorch_lightning) (1.21.6)\n",
      "Requirement already satisfied: torchmetrics>=0.7.0 in /opt/conda/lib/python3.7/site-packages (from pytorch_lightning) (0.11.0)\n",
      "Requirement already satisfied: typing-extensions>=4.0.0 in /opt/conda/lib/python3.7/site-packages (from pytorch_lightning) (4.4.0)\n",
      "Requirement already satisfied: fsspec[http]>2021.06.0 in /opt/conda/lib/python3.7/site-packages (from pytorch_lightning) (2022.11.0)\n",
      "Requirement already satisfied: aiohttp!=4.0.0a0,!=4.0.0a1 in /opt/conda/lib/python3.7/site-packages (from fsspec[http]>2021.06.0->pytorch_lightning) (3.7.3)\n",
      "Requirement already satisfied: requests in /opt/conda/lib/python3.7/site-packages (from fsspec[http]>2021.06.0->pytorch_lightning) (2.25.1)\n",
      "Requirement already satisfied: multidict<7.0,>=4.5 in /opt/conda/lib/python3.7/site-packages (from aiohttp!=4.0.0a0,!=4.0.0a1->fsspec[http]>2021.06.0->pytorch_lightning) (5.1.0)\n",
      "Requirement already satisfied: async-timeout<4.0,>=3.0 in /opt/conda/lib/python3.7/site-packages (from aiohttp!=4.0.0a0,!=4.0.0a1->fsspec[http]>2021.06.0->pytorch_lightning) (3.0.1)\n",
      "Requirement already satisfied: attrs>=17.3.0 in /opt/conda/lib/python3.7/site-packages (from aiohttp!=4.0.0a0,!=4.0.0a1->fsspec[http]>2021.06.0->pytorch_lightning) (20.3.0)\n",
      "Requirement already satisfied: chardet<4.0,>=2.0 in /opt/conda/lib/python3.7/site-packages (from aiohttp!=4.0.0a0,!=4.0.0a1->fsspec[http]>2021.06.0->pytorch_lightning) (3.0.4)\n",
      "Requirement already satisfied: yarl<2.0,>=1.0 in /opt/conda/lib/python3.7/site-packages (from aiohttp!=4.0.0a0,!=4.0.0a1->fsspec[http]>2021.06.0->pytorch_lightning) (1.6.3)\n",
      "Collecting lightning-utilities!=0.4.0,>=0.3.0\n",
      "  Downloading lightning_utilities-0.5.0-py3-none-any.whl (18 kB)\n",
      "Requirement already satisfied: importlib-metadata>=4.0.0 in /opt/conda/lib/python3.7/site-packages (from lightning-utilities!=0.4.0,>=0.3.0->pytorch_lightning) (4.9.0)\n",
      "Requirement already satisfied: zipp>=0.5 in /opt/conda/lib/python3.7/site-packages (from importlib-metadata>=4.0.0->lightning-utilities!=0.4.0,>=0.3.0->pytorch_lightning) (3.4.0)\n",
      "Collecting PyYAML>=5.4\n",
      "  Using cached PyYAML-6.0-cp37-cp37m-manylinux_2_5_x86_64.manylinux1_x86_64.manylinux_2_12_x86_64.manylinux2010_x86_64.whl (596 kB)\n",
      "Requirement already satisfied: protobuf<=3.20.1,>=3.8.0 in /opt/conda/lib/python3.7/site-packages (from tensorboardX>=2.2->pytorch_lightning) (3.14.0)\n",
      "Requirement already satisfied: six>=1.9 in /opt/conda/lib/python3.7/site-packages (from protobuf<=3.20.1,>=3.8.0->tensorboardX>=2.2->pytorch_lightning) (1.15.0)\n",
      "Requirement already satisfied: idna>=2.0 in /opt/conda/lib/python3.7/site-packages (from yarl<2.0,>=1.0->aiohttp!=4.0.0a0,!=4.0.0a1->fsspec[http]>2021.06.0->pytorch_lightning) (2.10)\n",
      "Requirement already satisfied: certifi>=2017.4.17 in /opt/conda/lib/python3.7/site-packages (from requests->fsspec[http]>2021.06.0->pytorch_lightning) (2020.12.5)\n",
      "Requirement already satisfied: urllib3<1.27,>=1.21.1 in /opt/conda/lib/python3.7/site-packages (from requests->fsspec[http]>2021.06.0->pytorch_lightning) (1.26.2)\n",
      "Installing collected packages: PyYAML, lightning-utilities, pytorch-lightning\n",
      "  Attempting uninstall: PyYAML\n",
      "    Found existing installation: PyYAML 5.3.1\n",
      "\u001b[31mERROR: Cannot uninstall 'PyYAML'. It is a distutils installed project and thus we cannot accurately determine which files belong to it which would lead to only a partial uninstall.\u001b[0m\n",
      "Note: you may need to restart the kernel to use updated packages.\n"
     ]
    }
   ],
   "source": [
    "pip install pytorch_lightning"
   ]
  },
  {
   "cell_type": "code",
   "execution_count": 20,
   "metadata": {},
   "outputs": [],
   "source": [
    "import numpy as np\n",
    "import optuna\n",
    "import torch\n",
    "import pandas as pd\n",
    "import holidays\n",
    "from darts import TimeSeries\n",
    "from darts.models import Theta, FFT, ExponentialSmoothing, Prophet, RegressionModel,NaiveSeasonal,LightGBMModel,RandomForest,forecasting\n"
   ]
  },
  {
   "cell_type": "code",
   "execution_count": 15,
   "metadata": {},
   "outputs": [
    {
     "data": {
      "text/html": [
       "<div>\n",
       "<style scoped>\n",
       "    .dataframe tbody tr th:only-of-type {\n",
       "        vertical-align: middle;\n",
       "    }\n",
       "\n",
       "    .dataframe tbody tr th {\n",
       "        vertical-align: top;\n",
       "    }\n",
       "\n",
       "    .dataframe thead th {\n",
       "        text-align: right;\n",
       "    }\n",
       "</style>\n",
       "<table border=\"1\" class=\"dataframe\">\n",
       "  <thead>\n",
       "    <tr style=\"text-align: right;\">\n",
       "      <th></th>\n",
       "      <th>y</th>\n",
       "      <th>Temperature</th>\n",
       "      <th>Day_of_week</th>\n",
       "      <th>Hour_of_day</th>\n",
       "      <th>Holidays</th>\n",
       "      <th>Smoothed_temperature</th>\n",
       "    </tr>\n",
       "    <tr>\n",
       "      <th>time</th>\n",
       "      <th></th>\n",
       "      <th></th>\n",
       "      <th></th>\n",
       "      <th></th>\n",
       "      <th></th>\n",
       "      <th></th>\n",
       "    </tr>\n",
       "  </thead>\n",
       "  <tbody>\n",
       "    <tr>\n",
       "      <th>2018-01-01 00:00:00</th>\n",
       "      <td>8.143500</td>\n",
       "      <td>3.50</td>\n",
       "      <td>0</td>\n",
       "      <td>0</td>\n",
       "      <td>1</td>\n",
       "      <td>NaN</td>\n",
       "    </tr>\n",
       "    <tr>\n",
       "      <th>2018-01-01 01:00:00</th>\n",
       "      <td>7.789000</td>\n",
       "      <td>3.74</td>\n",
       "      <td>0</td>\n",
       "      <td>1</td>\n",
       "      <td>1</td>\n",
       "      <td>NaN</td>\n",
       "    </tr>\n",
       "    <tr>\n",
       "      <th>2018-01-01 02:00:00</th>\n",
       "      <td>7.470750</td>\n",
       "      <td>2.57</td>\n",
       "      <td>0</td>\n",
       "      <td>2</td>\n",
       "      <td>1</td>\n",
       "      <td>NaN</td>\n",
       "    </tr>\n",
       "    <tr>\n",
       "      <th>2018-01-01 03:00:00</th>\n",
       "      <td>7.354500</td>\n",
       "      <td>1.96</td>\n",
       "      <td>0</td>\n",
       "      <td>3</td>\n",
       "      <td>1</td>\n",
       "      <td>NaN</td>\n",
       "    </tr>\n",
       "    <tr>\n",
       "      <th>2018-01-01 04:00:00</th>\n",
       "      <td>7.374250</td>\n",
       "      <td>1.44</td>\n",
       "      <td>0</td>\n",
       "      <td>4</td>\n",
       "      <td>1</td>\n",
       "      <td>NaN</td>\n",
       "    </tr>\n",
       "    <tr>\n",
       "      <th>...</th>\n",
       "      <td>...</td>\n",
       "      <td>...</td>\n",
       "      <td>...</td>\n",
       "      <td>...</td>\n",
       "      <td>...</td>\n",
       "      <td>...</td>\n",
       "    </tr>\n",
       "    <tr>\n",
       "      <th>2020-01-01 19:00:00</th>\n",
       "      <td>9.021000</td>\n",
       "      <td>0.19</td>\n",
       "      <td>2</td>\n",
       "      <td>19</td>\n",
       "      <td>1</td>\n",
       "      <td>NaN</td>\n",
       "    </tr>\n",
       "    <tr>\n",
       "      <th>2020-01-01 20:00:00</th>\n",
       "      <td>8.912250</td>\n",
       "      <td>0.62</td>\n",
       "      <td>2</td>\n",
       "      <td>20</td>\n",
       "      <td>1</td>\n",
       "      <td>NaN</td>\n",
       "    </tr>\n",
       "    <tr>\n",
       "      <th>2020-01-01 21:00:00</th>\n",
       "      <td>9.148667</td>\n",
       "      <td>-2.91</td>\n",
       "      <td>2</td>\n",
       "      <td>21</td>\n",
       "      <td>1</td>\n",
       "      <td>NaN</td>\n",
       "    </tr>\n",
       "    <tr>\n",
       "      <th>2020-01-01 22:00:00</th>\n",
       "      <td>9.291500</td>\n",
       "      <td>-2.47</td>\n",
       "      <td>2</td>\n",
       "      <td>22</td>\n",
       "      <td>1</td>\n",
       "      <td>NaN</td>\n",
       "    </tr>\n",
       "    <tr>\n",
       "      <th>2020-01-01 23:00:00</th>\n",
       "      <td>8.768333</td>\n",
       "      <td>-0.57</td>\n",
       "      <td>2</td>\n",
       "      <td>23</td>\n",
       "      <td>1</td>\n",
       "      <td>NaN</td>\n",
       "    </tr>\n",
       "  </tbody>\n",
       "</table>\n",
       "<p>17544 rows × 6 columns</p>\n",
       "</div>"
      ],
      "text/plain": [
       "                            y  Temperature  Day_of_week  Hour_of_day  \\\n",
       "time                                                                   \n",
       "2018-01-01 00:00:00  8.143500         3.50            0            0   \n",
       "2018-01-01 01:00:00  7.789000         3.74            0            1   \n",
       "2018-01-01 02:00:00  7.470750         2.57            0            2   \n",
       "2018-01-01 03:00:00  7.354500         1.96            0            3   \n",
       "2018-01-01 04:00:00  7.374250         1.44            0            4   \n",
       "...                       ...          ...          ...          ...   \n",
       "2020-01-01 19:00:00  9.021000         0.19            2           19   \n",
       "2020-01-01 20:00:00  8.912250         0.62            2           20   \n",
       "2020-01-01 21:00:00  9.148667        -2.91            2           21   \n",
       "2020-01-01 22:00:00  9.291500        -2.47            2           22   \n",
       "2020-01-01 23:00:00  8.768333        -0.57            2           23   \n",
       "\n",
       "                     Holidays  Smoothed_temperature  \n",
       "time                                                 \n",
       "2018-01-01 00:00:00         1                   NaN  \n",
       "2018-01-01 01:00:00         1                   NaN  \n",
       "2018-01-01 02:00:00         1                   NaN  \n",
       "2018-01-01 03:00:00         1                   NaN  \n",
       "2018-01-01 04:00:00         1                   NaN  \n",
       "...                       ...                   ...  \n",
       "2020-01-01 19:00:00         1                   NaN  \n",
       "2020-01-01 20:00:00         1                   NaN  \n",
       "2020-01-01 21:00:00         1                   NaN  \n",
       "2020-01-01 22:00:00         1                   NaN  \n",
       "2020-01-01 23:00:00         1                   NaN  \n",
       "\n",
       "[17544 rows x 6 columns]"
      ]
     },
     "execution_count": 15,
     "metadata": {},
     "output_type": "execute_result"
    },
    {
     "data": {
      "image/png": "[encoded data removed]",
      "text/plain": [
       "<Figure size 432x288 with 1 Axes>"
      ]
     },
     "metadata": {
      "needs_background": "light"
     },
     "output_type": "display_data"
    }
   ],
   "source": [
    "# data = pd.read_parquet('data/Elia/data_load_forecasts.parquet').loc['2019-01-01':'2019-04-25']\n",
    "data = pd.read_parquet('data/Elia/f4sg.parquet')#.loc['2019-01-01':'2019-04-25']\n",
    "data = data.reset_index()\n",
    "# data['time'] = pd.to_datetime(data.time).dt.tz_localize(None)\n",
    "data['Day_of_week'] = data['time'].dt.dayofweek\n",
    "data['Hour_of_day'] = data['time'].dt.hour\n",
    "data = data.set_index('time')\n",
    "data['Holidays'] = pd.Series(data.index).apply(lambda x: holidays.CountryHoliday('BE').get(x)).values\n",
    "data['Holidays'] = data['Holidays'].astype('bool').astype('int')\n",
    "data.columns = ['y','Temperature','Day_of_week','Hour_of_day','Holidays']\n",
    "data['Smoothed_temperature'] = data.Temperature.rolling(337, center=True).mean()\n",
    "data.y = data.y/1000\n",
    "data.y.plot()\n",
    "data\n"
   ]
  },
  {
   "cell_type": "code",
   "execution_count": 21,
   "metadata": {},
   "outputs": [
    {
     "data": {
      "text/html": [
       "<div><svg style=\"position: absolute; width: 0; height: 0; overflow: hidden\">\n",
       "<defs>\n",
       "<symbol id=\"icon-database\" viewBox=\"0 0 32 32\">\n",
       "<path d=\"M16 0c-8.837 0-16 2.239-16 5v4c0 2.761 7.163 5 16 5s16-2.239 16-5v-4c0-2.761-7.163-5-16-5z\"></path>\n",
       "<path d=\"M16 17c-8.837 0-16-2.239-16-5v6c0 2.761 7.163 5 16 5s16-2.239 16-5v-6c0 2.761-7.163 5-16 5z\"></path>\n",
       "<path d=\"M16 26c-8.837 0-16-2.239-16-5v6c0 2.761 7.163 5 16 5s16-2.239 16-5v-6c0 2.761-7.163 5-16 5z\"></path>\n",
       "</symbol>\n",
       "<symbol id=\"icon-file-text2\" viewBox=\"0 0 32 32\">\n",
       "<path d=\"M28.681 7.159c-0.694-0.947-1.662-2.053-2.724-3.116s-2.169-2.030-3.116-2.724c-1.612-1.182-2.393-1.319-2.841-1.319h-15.5c-1.378 0-2.5 1.121-2.5 2.5v27c0 1.378 1.122 2.5 2.5 2.5h23c1.378 0 2.5-1.122 2.5-2.5v-19.5c0-0.448-0.137-1.23-1.319-2.841zM24.543 5.457c0.959 0.959 1.712 1.825 2.268 2.543h-4.811v-4.811c0.718 0.556 1.584 1.309 2.543 2.268zM28 29.5c0 0.271-0.229 0.5-0.5 0.5h-23c-0.271 0-0.5-0.229-0.5-0.5v-27c0-0.271 0.229-0.5 0.5-0.5 0 0 15.499-0 15.5 0v7c0 0.552 0.448 1 1 1h7v19.5z\"></path>\n",
       "<path d=\"M23 26h-14c-0.552 0-1-0.448-1-1s0.448-1 1-1h14c0.552 0 1 0.448 1 1s-0.448 1-1 1z\"></path>\n",
       "<path d=\"M23 22h-14c-0.552 0-1-0.448-1-1s0.448-1 1-1h14c0.552 0 1 0.448 1 1s-0.448 1-1 1z\"></path>\n",
       "<path d=\"M23 18h-14c-0.552 0-1-0.448-1-1s0.448-1 1-1h14c0.552 0 1 0.448 1 1s-0.448 1-1 1z\"></path>\n",
       "</symbol>\n",
       "</defs>\n",
       "</svg>\n",
       "<style>/* CSS stylesheet for displaying xarray objects in jupyterlab.\n",
       " *\n",
       " */\n",
       "\n",
       ":root {\n",
       "  --xr-font-color0: var(--jp-content-font-color0, rgba(0, 0, 0, 1));\n",
       "  --xr-font-color2: var(--jp-content-font-color2, rgba(0, 0, 0, 0.54));\n",
       "  --xr-font-color3: var(--jp-content-font-color3, rgba(0, 0, 0, 0.38));\n",
       "  --xr-border-color: var(--jp-border-color2, #e0e0e0);\n",
       "  --xr-disabled-color: var(--jp-layout-color3, #bdbdbd);\n",
       "  --xr-background-color: var(--jp-layout-color0, white);\n",
       "  --xr-background-color-row-even: var(--jp-layout-color1, white);\n",
       "  --xr-background-color-row-odd: var(--jp-layout-color2, #eeeeee);\n",
       "}\n",
       "\n",
       "html[theme=dark],\n",
       "body.vscode-dark {\n",
       "  --xr-font-color0: rgba(255, 255, 255, 1);\n",
       "  --xr-font-color2: rgba(255, 255, 255, 0.54);\n",
       "  --xr-font-color3: rgba(255, 255, 255, 0.38);\n",
       "  --xr-border-color: #1F1F1F;\n",
       "  --xr-disabled-color: #515151;\n",
       "  --xr-background-color: #111111;\n",
       "  --xr-background-color-row-even: #111111;\n",
       "  --xr-background-color-row-odd: #313131;\n",
       "}\n",
       "\n",
       ".xr-wrap {\n",
       "  display: block !important;\n",
       "  min-width: 300px;\n",
       "  max-width: 700px;\n",
       "}\n",
       "\n",
       ".xr-text-repr-fallback {\n",
       "  /* fallback to plain text repr when CSS is not injected (untrusted notebook) */\n",
       "  display: none;\n",
       "}\n",
       "\n",
       ".xr-header {\n",
       "  padding-top: 6px;\n",
       "  padding-bottom: 6px;\n",
       "  margin-bottom: 4px;\n",
       "  border-bottom: solid 1px var(--xr-border-color);\n",
       "}\n",
       "\n",
       ".xr-header > div,\n",
       ".xr-header > ul {\n",
       "  display: inline;\n",
       "  margin-top: 0;\n",
       "  margin-bottom: 0;\n",
       "}\n",
       "\n",
       ".xr-obj-type,\n",
       ".xr-array-name {\n",
       "  margin-left: 2px;\n",
       "  margin-right: 10px;\n",
       "}\n",
       "\n",
       ".xr-obj-type {\n",
       "  color: var(--xr-font-color2);\n",
       "}\n",
       "\n",
       ".xr-sections {\n",
       "  padding-left: 0 !important;\n",
       "  display: grid;\n",
       "  grid-template-columns: 150px auto auto 1fr 20px 20px;\n",
       "}\n",
       "\n",
       ".xr-section-item {\n",
       "  display: contents;\n",
       "}\n",
       "\n",
       ".xr-section-item input {\n",
       "  display: none;\n",
       "}\n",
       "\n",
       ".xr-section-item input + label {\n",
       "  color: var(--xr-disabled-color);\n",
       "}\n",
       "\n",
       ".xr-section-item input:enabled + label {\n",
       "  cursor: pointer;\n",
       "  color: var(--xr-font-color2);\n",
       "}\n",
       "\n",
       ".xr-section-item input:enabled + label:hover {\n",
       "  color: var(--xr-font-color0);\n",
       "}\n",
       "\n",
       ".xr-section-summary {\n",
       "  grid-column: 1;\n",
       "  color: var(--xr-font-color2);\n",
       "  font-weight: 500;\n",
       "}\n",
       "\n",
       ".xr-section-summary > span {\n",
       "  display: inline-block;\n",
       "  padding-left: 0.5em;\n",
       "}\n",
       "\n",
       ".xr-section-summary-in:disabled + label {\n",
       "  color: var(--xr-font-color2);\n",
       "}\n",
       "\n",
       ".xr-section-summary-in + label:before {\n",
       "  display: inline-block;\n",
       "  content: '►';\n",
       "  font-size: 11px;\n",
       "  width: 15px;\n",
       "  text-align: center;\n",
       "}\n",
       "\n",
       ".xr-section-summary-in:disabled + label:before {\n",
       "  color: var(--xr-disabled-color);\n",
       "}\n",
       "\n",
       ".xr-section-summary-in:checked + label:before {\n",
       "  content: '▼';\n",
       "}\n",
       "\n",
       ".xr-section-summary-in:checked + label > span {\n",
       "  display: none;\n",
       "}\n",
       "\n",
       ".xr-section-summary,\n",
       ".xr-section-inline-details {\n",
       "  padding-top: 4px;\n",
       "  padding-bottom: 4px;\n",
       "}\n",
       "\n",
       ".xr-section-inline-details {\n",
       "  grid-column: 2 / -1;\n",
       "}\n",
       "\n",
       ".xr-section-details {\n",
       "  display: none;\n",
       "  grid-column: 1 / -1;\n",
       "  margin-bottom: 5px;\n",
       "}\n",
       "\n",
       ".xr-section-summary-in:checked ~ .xr-section-details {\n",
       "  display: contents;\n",
       "}\n",
       "\n",
       ".xr-array-wrap {\n",
       "  grid-column: 1 / -1;\n",
       "  display: grid;\n",
       "  grid-template-columns: 20px auto;\n",
       "}\n",
       "\n",
       ".xr-array-wrap > label {\n",
       "  grid-column: 1;\n",
       "  vertical-align: top;\n",
       "}\n",
       "\n",
       ".xr-preview {\n",
       "  color: var(--xr-font-color3);\n",
       "}\n",
       "\n",
       ".xr-array-preview,\n",
       ".xr-array-data {\n",
       "  padding: 0 5px !important;\n",
       "  grid-column: 2;\n",
       "}\n",
       "\n",
       ".xr-array-data,\n",
       ".xr-array-in:checked ~ .xr-array-preview {\n",
       "  display: none;\n",
       "}\n",
       "\n",
       ".xr-array-in:checked ~ .xr-array-data,\n",
       ".xr-array-preview {\n",
       "  display: inline-block;\n",
       "}\n",
       "\n",
       ".xr-dim-list {\n",
       "  display: inline-block !important;\n",
       "  list-style: none;\n",
       "  padding: 0 !important;\n",
       "  margin: 0;\n",
       "}\n",
       "\n",
       ".xr-dim-list li {\n",
       "  display: inline-block;\n",
       "  padding: 0;\n",
       "  margin: 0;\n",
       "}\n",
       "\n",
       ".xr-dim-list:before {\n",
       "  content: '(';\n",
       "}\n",
       "\n",
       ".xr-dim-list:after {\n",
       "  content: ')';\n",
       "}\n",
       "\n",
       ".xr-dim-list li:not(:last-child):after {\n",
       "  content: ',';\n",
       "  padding-right: 5px;\n",
       "}\n",
       "\n",
       ".xr-has-index {\n",
       "  font-weight: bold;\n",
       "}\n",
       "\n",
       ".xr-var-list,\n",
       ".xr-var-item {\n",
       "  display: contents;\n",
       "}\n",
       "\n",
       ".xr-var-item > div,\n",
       ".xr-var-item label,\n",
       ".xr-var-item > .xr-var-name span {\n",
       "  background-color: var(--xr-background-color-row-even);\n",
       "  margin-bottom: 0;\n",
       "}\n",
       "\n",
       ".xr-var-item > .xr-var-name:hover span {\n",
       "  padding-right: 5px;\n",
       "}\n",
       "\n",
       ".xr-var-list > li:nth-child(odd) > div,\n",
       ".xr-var-list > li:nth-child(odd) > label,\n",
       ".xr-var-list > li:nth-child(odd) > .xr-var-name span {\n",
       "  background-color: var(--xr-background-color-row-odd);\n",
       "}\n",
       "\n",
       ".xr-var-name {\n",
       "  grid-column: 1;\n",
       "}\n",
       "\n",
       ".xr-var-dims {\n",
       "  grid-column: 2;\n",
       "}\n",
       "\n",
       ".xr-var-dtype {\n",
       "  grid-column: 3;\n",
       "  text-align: right;\n",
       "  color: var(--xr-font-color2);\n",
       "}\n",
       "\n",
       ".xr-var-preview {\n",
       "  grid-column: 4;\n",
       "}\n",
       "\n",
       ".xr-var-name,\n",
       ".xr-var-dims,\n",
       ".xr-var-dtype,\n",
       ".xr-preview,\n",
       ".xr-attrs dt {\n",
       "  white-space: nowrap;\n",
       "  overflow: hidden;\n",
       "  text-overflow: ellipsis;\n",
       "  padding-right: 10px;\n",
       "}\n",
       "\n",
       ".xr-var-name:hover,\n",
       ".xr-var-dims:hover,\n",
       ".xr-var-dtype:hover,\n",
       ".xr-attrs dt:hover {\n",
       "  overflow: visible;\n",
       "  width: auto;\n",
       "  z-index: 1;\n",
       "}\n",
       "\n",
       ".xr-var-attrs,\n",
       ".xr-var-data {\n",
       "  display: none;\n",
       "  background-color: var(--xr-background-color) !important;\n",
       "  padding-bottom: 5px !important;\n",
       "}\n",
       "\n",
       ".xr-var-attrs-in:checked ~ .xr-var-attrs,\n",
       ".xr-var-data-in:checked ~ .xr-var-data {\n",
       "  display: block;\n",
       "}\n",
       "\n",
       ".xr-var-data > table {\n",
       "  float: right;\n",
       "}\n",
       "\n",
       ".xr-var-name span,\n",
       ".xr-var-data,\n",
       ".xr-attrs {\n",
       "  padding-left: 25px !important;\n",
       "}\n",
       "\n",
       ".xr-attrs,\n",
       ".xr-var-attrs,\n",
       ".xr-var-data {\n",
       "  grid-column: 1 / -1;\n",
       "}\n",
       "\n",
       "dl.xr-attrs {\n",
       "  padding: 0;\n",
       "  margin: 0;\n",
       "  display: grid;\n",
       "  grid-template-columns: 125px auto;\n",
       "}\n",
       "\n",
       ".xr-attrs dt,\n",
       ".xr-attrs dd {\n",
       "  padding: 0;\n",
       "  margin: 0;\n",
       "  float: left;\n",
       "  padding-right: 10px;\n",
       "  width: auto;\n",
       "}\n",
       "\n",
       ".xr-attrs dt {\n",
       "  font-weight: normal;\n",
       "  grid-column: 1;\n",
       "}\n",
       "\n",
       ".xr-attrs dt:hover span {\n",
       "  display: inline-block;\n",
       "  background: var(--xr-background-color);\n",
       "  padding-right: 10px;\n",
       "}\n",
       "\n",
       ".xr-attrs dd {\n",
       "  grid-column: 2;\n",
       "  white-space: pre-wrap;\n",
       "  word-break: break-all;\n",
       "}\n",
       "\n",
       ".xr-icon-database,\n",
       ".xr-icon-file-text2 {\n",
       "  display: inline-block;\n",
       "  vertical-align: middle;\n",
       "  width: 1em;\n",
       "  height: 1.5em !important;\n",
       "  stroke-width: 0;\n",
       "  stroke: currentColor;\n",
       "  fill: currentColor;\n",
       "}\n",
       "</style><pre class='xr-text-repr-fallback'>&lt;TimeSeries (DataArray) (time: 17544, component: 1, sample: 1)&gt;\n",
       "array([[[8.1435    ]],\n",
       "\n",
       "       [[7.789     ]],\n",
       "\n",
       "       [[7.47075   ]],\n",
       "\n",
       "       ...,\n",
       "\n",
       "       [[9.14866667]],\n",
       "\n",
       "       [[9.2915    ]],\n",
       "\n",
       "       [[8.76833333]]])\n",
       "Coordinates:\n",
       "  * time       (time) datetime64[ns] 2018-01-01 ... 2020-01-01T23:00:00\n",
       "  * component  (component) object &#x27;y&#x27;\n",
       "Dimensions without coordinates: sample</pre><div class='xr-wrap' style='display:none'><div class='xr-header'><div class='xr-obj-type'>TimeSeries (DataArray)</div><div class='xr-array-name'></div><ul class='xr-dim-list'><li><span class='xr-has-index'>time</span>: 17544</li><li><span class='xr-has-index'>component</span>: 1</li><li><span>sample</span>: 1</li></ul></div><ul class='xr-sections'><li class='xr-section-item'><div class='xr-array-wrap'><input id='section-5cd953b1-4abb-41f2-8e00-f02c4c024481' class='xr-array-in' type='checkbox' checked><label for='section-5cd953b1-4abb-41f2-8e00-f02c4c024481' title='Show/hide data repr'><svg class='icon xr-icon-database'><use xlink:href='#icon-database'></use></svg></label><div class='xr-array-preview xr-preview'><span>8.143 7.789 7.471 7.354 7.374 7.455 ... 9.021 8.912 9.149 9.291 8.768</span></div><div class='xr-array-data'><pre>array([[[8.1435    ]],\n",
       "\n",
       "       [[7.789     ]],\n",
       "\n",
       "       [[7.47075   ]],\n",
       "\n",
       "       ...,\n",
       "\n",
       "       [[9.14866667]],\n",
       "\n",
       "       [[9.2915    ]],\n",
       "\n",
       "       [[8.76833333]]])</pre></div></div></li><li class='xr-section-item'><input id='section-bba16681-6db5-45d2-be99-716bfbd528e6' class='xr-section-summary-in' type='checkbox'  checked><label for='section-bba16681-6db5-45d2-be99-716bfbd528e6' class='xr-section-summary' >Coordinates: <span>(2)</span></label><div class='xr-section-inline-details'></div><div class='xr-section-details'><ul class='xr-var-list'><li class='xr-var-item'><div class='xr-var-name'><span class='xr-has-index'>time</span></div><div class='xr-var-dims'>(time)</div><div class='xr-var-dtype'>datetime64[ns]</div><div class='xr-var-preview xr-preview'>2018-01-01 ... 2020-01-01T23:00:00</div><input id='attrs-84b9f48b-d90f-4488-89fc-bc64d9c825b3' class='xr-var-attrs-in' type='checkbox' disabled><label for='attrs-84b9f48b-d90f-4488-89fc-bc64d9c825b3' title='Show/Hide attributes'><svg class='icon xr-icon-file-text2'><use xlink:href='#icon-file-text2'></use></svg></label><input id='data-ec3919f4-0502-4118-973a-730d08c7f4da' class='xr-var-data-in' type='checkbox'><label for='data-ec3919f4-0502-4118-973a-730d08c7f4da' title='Show/Hide data repr'><svg class='icon xr-icon-database'><use xlink:href='#icon-database'></use></svg></label><div class='xr-var-attrs'><dl class='xr-attrs'></dl></div><div class='xr-var-data'><pre>array([&#x27;2018-01-01T00:00:00.000000000&#x27;, &#x27;2018-01-01T01:00:00.000000000&#x27;,\n",
       "       &#x27;2018-01-01T02:00:00.000000000&#x27;, ..., &#x27;2020-01-01T21:00:00.000000000&#x27;,\n",
       "       &#x27;2020-01-01T22:00:00.000000000&#x27;, &#x27;2020-01-01T23:00:00.000000000&#x27;],\n",
       "      dtype=&#x27;datetime64[ns]&#x27;)</pre></div></li><li class='xr-var-item'><div class='xr-var-name'><span class='xr-has-index'>component</span></div><div class='xr-var-dims'>(component)</div><div class='xr-var-dtype'>object</div><div class='xr-var-preview xr-preview'>&#x27;y&#x27;</div><input id='attrs-f967dcf5-7269-4b90-85e3-2c264347ed23' class='xr-var-attrs-in' type='checkbox' disabled><label for='attrs-f967dcf5-7269-4b90-85e3-2c264347ed23' title='Show/Hide attributes'><svg class='icon xr-icon-file-text2'><use xlink:href='#icon-file-text2'></use></svg></label><input id='data-6a0e0451-58e9-45bc-a69b-b1adaab5feb3' class='xr-var-data-in' type='checkbox'><label for='data-6a0e0451-58e9-45bc-a69b-b1adaab5feb3' title='Show/Hide data repr'><svg class='icon xr-icon-database'><use xlink:href='#icon-database'></use></svg></label><div class='xr-var-attrs'><dl class='xr-attrs'></dl></div><div class='xr-var-data'><pre>array([&#x27;y&#x27;], dtype=object)</pre></div></li></ul></div></li><li class='xr-section-item'><input id='section-37fe2d8d-a1cb-4aeb-899c-313b488c6247' class='xr-section-summary-in' type='checkbox' disabled ><label for='section-37fe2d8d-a1cb-4aeb-899c-313b488c6247' class='xr-section-summary'  title='Expand/collapse section'>Attributes: <span>(0)</span></label><div class='xr-section-inline-details'></div><div class='xr-section-details'><dl class='xr-attrs'></dl></div></li></ul></div></div>"
      ],
      "text/plain": [
       "<TimeSeries (DataArray) (time: 17544, component: 1, sample: 1)>\n",
       "array([[[8.1435    ]],\n",
       "\n",
       "       [[7.789     ]],\n",
       "\n",
       "       [[7.47075   ]],\n",
       "\n",
       "       ...,\n",
       "\n",
       "       [[9.14866667]],\n",
       "\n",
       "       [[9.2915    ]],\n",
       "\n",
       "       [[8.76833333]]])\n",
       "Coordinates:\n",
       "  * time       (time) datetime64[ns] 2018-01-01 ... 2020-01-01T23:00:00\n",
       "  * component  (component) object 'y'\n",
       "Dimensions without coordinates: sample"
      ]
     },
     "execution_count": 21,
     "metadata": {},
     "output_type": "execute_result"
    }
   ],
   "source": [
    "input_timeseries = TimeSeries.from_dataframe(data, value_cols=['y'])#[0:-24]\n",
    "# future = TimeSeries.from_dataframe(data, value_cols=['Pressure_kpa', 'Cloud Cover (%)',\n",
    "#                                                      'Humidity (%)','Temperature (C)', \n",
    "#                                                      'Wind Direction (deg)', 'Wind Speed (kmh)'])\n",
    "# future = TimeSeries.from_dataframe(data, value_cols=['Temperature (C)', 'sin_hour', 'cos_hour'])\n",
    "input_timeseries"
   ]
  },
  {
   "cell_type": "code",
   "execution_count": 22,
   "metadata": {},
   "outputs": [],
   "source": [
    "input_train, input_test = input_timeseries.split_before(pd.to_datetime('2019-01-01'))"
   ]
  },
  {
   "cell_type": "code",
   "execution_count": 24,
   "metadata": {},
   "outputs": [
    {
     "name": "stderr",
     "output_type": "stream",
     "text": [
      "\u001b[32m[I 2022-12-24 16:38:40,776]\u001b[0m A new study created in memory with name: no-name-995a49f8-177d-42a1-9db8-1743613944bc\u001b[0m\n"
     ]
    },
    {
     "data": {
      "application/vnd.jupyter.widget-view+json": {
       "model_id": "a90271cabe414ad0abd381c3a9db5add",
       "version_major": 2,
       "version_minor": 0
      },
      "text/plain": [
       "  0%|          | 0/8761 [00:00<?, ?it/s]"
      ]
     },
     "metadata": {},
     "output_type": "display_data"
    },
    {
     "name": "stderr",
     "output_type": "stream",
     "text": [
      "\u001b[32m[I 2022-12-24 16:39:44,272]\u001b[0m Trial 0 finished with value: 0.5263496318902852 and parameters: {'in_len': 119}. Best is trial 0 with value: 0.5263496318902852.\u001b[0m\n"
     ]
    },
    {
     "name": "stdout",
     "output_type": "stream",
     "text": [
      "Current value: 0.5263496318902852, Current params: {'in_len': 119}\n",
      "Best value: 0.5263496318902852, Best params: {'in_len': 119}\n"
     ]
    },
    {
     "data": {
      "application/vnd.jupyter.widget-view+json": {
       "model_id": "08104b5a43b84254a3041509978c460a",
       "version_major": 2,
       "version_minor": 0
      },
      "text/plain": [
       "  0%|          | 0/8761 [00:00<?, ?it/s]"
      ]
     },
     "metadata": {},
     "output_type": "display_data"
    },
    {
     "name": "stderr",
     "output_type": "stream",
     "text": [
      "\u001b[32m[I 2022-12-24 16:40:51,528]\u001b[0m Trial 1 finished with value: 0.3504057922576553 and parameters: {'in_len': 303}. Best is trial 1 with value: 0.3504057922576553.\u001b[0m\n"
     ]
    },
    {
     "name": "stdout",
     "output_type": "stream",
     "text": [
      "Current value: 0.3504057922576553, Current params: {'in_len': 303}\n",
      "Best value: 0.3504057922576553, Best params: {'in_len': 303}\n"
     ]
    },
    {
     "data": {
      "application/vnd.jupyter.widget-view+json": {
       "model_id": "daffddc91af74543abb91ba7067de2ef",
       "version_major": 2,
       "version_minor": 0
      },
      "text/plain": [
       "  0%|          | 0/8761 [00:00<?, ?it/s]"
      ]
     },
     "metadata": {},
     "output_type": "display_data"
    },
    {
     "name": "stderr",
     "output_type": "stream",
     "text": [
      "\u001b[32m[I 2022-12-24 16:41:56,207]\u001b[0m Trial 2 finished with value: 0.4788826914175695 and parameters: {'in_len': 145}. Best is trial 1 with value: 0.3504057922576553.\u001b[0m\n"
     ]
    },
    {
     "name": "stdout",
     "output_type": "stream",
     "text": [
      "Current value: 0.4788826914175695, Current params: {'in_len': 145}\n",
      "Best value: 0.3504057922576553, Best params: {'in_len': 303}\n"
     ]
    },
    {
     "data": {
      "application/vnd.jupyter.widget-view+json": {
       "model_id": "6d6f3713e0644746bd6dfd3fc0f8003f",
       "version_major": 2,
       "version_minor": 0
      },
      "text/plain": [
       "  0%|          | 0/8761 [00:00<?, ?it/s]"
      ]
     },
     "metadata": {},
     "output_type": "display_data"
    },
    {
     "name": "stderr",
     "output_type": "stream",
     "text": [
      "\u001b[32m[I 2022-12-24 16:43:04,769]\u001b[0m Trial 3 finished with value: 0.35101571603648285 and parameters: {'in_len': 300}. Best is trial 1 with value: 0.3504057922576553.\u001b[0m\n"
     ]
    },
    {
     "name": "stdout",
     "output_type": "stream",
     "text": [
      "Current value: 0.35101571603648285, Current params: {'in_len': 300}\n",
      "Best value: 0.3504057922576553, Best params: {'in_len': 303}\n"
     ]
    },
    {
     "data": {
      "application/vnd.jupyter.widget-view+json": {
       "model_id": "97c8b3b65576454c8d8cda3c8facf1e0",
       "version_major": 2,
       "version_minor": 0
      },
      "text/plain": [
       "  0%|          | 0/8761 [00:00<?, ?it/s]"
      ]
     },
     "metadata": {},
     "output_type": "display_data"
    },
    {
     "name": "stderr",
     "output_type": "stream",
     "text": [
      "\u001b[32m[I 2022-12-24 16:44:09,443]\u001b[0m Trial 4 finished with value: 0.5241620674199459 and parameters: {'in_len': 126}. Best is trial 1 with value: 0.3504057922576553.\u001b[0m\n"
     ]
    },
    {
     "name": "stdout",
     "output_type": "stream",
     "text": [
      "Current value: 0.5241620674199459, Current params: {'in_len': 126}\n",
      "Best value: 0.3504057922576553, Best params: {'in_len': 303}\n"
     ]
    },
    {
     "data": {
      "application/vnd.jupyter.widget-view+json": {
       "model_id": "b7f20a0ac20747a380abbc8952fed66e",
       "version_major": 2,
       "version_minor": 0
      },
      "text/plain": [
       "  0%|          | 0/8761 [00:00<?, ?it/s]"
      ]
     },
     "metadata": {},
     "output_type": "display_data"
    },
    {
     "name": "stderr",
     "output_type": "stream",
     "text": [
      "\u001b[32m[I 2022-12-24 16:45:16,326]\u001b[0m Trial 5 finished with value: 0.3491383922831136 and parameters: {'in_len': 215}. Best is trial 5 with value: 0.3491383922831136.\u001b[0m\n"
     ]
    },
    {
     "name": "stdout",
     "output_type": "stream",
     "text": [
      "Current value: 0.3491383922831136, Current params: {'in_len': 215}\n",
      "Best value: 0.3491383922831136, Best params: {'in_len': 215}\n"
     ]
    },
    {
     "data": {
      "application/vnd.jupyter.widget-view+json": {
       "model_id": "a21109fb73004df893f71fc140ad1bcc",
       "version_major": 2,
       "version_minor": 0
      },
      "text/plain": [
       "  0%|          | 0/8761 [00:00<?, ?it/s]"
      ]
     },
     "metadata": {},
     "output_type": "display_data"
    },
    {
     "name": "stderr",
     "output_type": "stream",
     "text": [
      "\u001b[32m[I 2022-12-24 16:46:22,123]\u001b[0m Trial 6 finished with value: 0.34969619742243924 and parameters: {'in_len': 195}. Best is trial 5 with value: 0.3491383922831136.\u001b[0m\n"
     ]
    },
    {
     "name": "stdout",
     "output_type": "stream",
     "text": [
      "Current value: 0.34969619742243924, Current params: {'in_len': 195}\n",
      "Best value: 0.3491383922831136, Best params: {'in_len': 215}\n"
     ]
    },
    {
     "data": {
      "application/vnd.jupyter.widget-view+json": {
       "model_id": "4addc6c890144aab9e3ea2d46f2f8468",
       "version_major": 2,
       "version_minor": 0
      },
      "text/plain": [
       "  0%|          | 0/8761 [00:00<?, ?it/s]"
      ]
     },
     "metadata": {},
     "output_type": "display_data"
    },
    {
     "name": "stderr",
     "output_type": "stream",
     "text": [
      "\u001b[32m[I 2022-12-24 16:47:27,731]\u001b[0m Trial 7 finished with value: 0.4026837866534354 and parameters: {'in_len': 157}. Best is trial 5 with value: 0.3491383922831136.\u001b[0m\n"
     ]
    },
    {
     "name": "stdout",
     "output_type": "stream",
     "text": [
      "Current value: 0.4026837866534354, Current params: {'in_len': 157}\n",
      "Best value: 0.3491383922831136, Best params: {'in_len': 215}\n"
     ]
    },
    {
     "data": {
      "application/vnd.jupyter.widget-view+json": {
       "model_id": "dcd9678077244b25950fa22bc14b8365",
       "version_major": 2,
       "version_minor": 0
      },
      "text/plain": [
       "  0%|          | 0/8761 [00:00<?, ?it/s]"
      ]
     },
     "metadata": {},
     "output_type": "display_data"
    },
    {
     "name": "stderr",
     "output_type": "stream",
     "text": [
      "\u001b[32m[I 2022-12-24 16:48:37,206]\u001b[0m Trial 8 finished with value: 0.3509369835785367 and parameters: {'in_len': 309}. Best is trial 5 with value: 0.3491383922831136.\u001b[0m\n"
     ]
    },
    {
     "name": "stdout",
     "output_type": "stream",
     "text": [
      "Current value: 0.3509369835785367, Current params: {'in_len': 309}\n",
      "Best value: 0.3491383922831136, Best params: {'in_len': 215}\n"
     ]
    },
    {
     "data": {
      "application/vnd.jupyter.widget-view+json": {
       "model_id": "2b64693d79e5437eae646b9a2bd0d7b7",
       "version_major": 2,
       "version_minor": 0
      },
      "text/plain": [
       "  0%|          | 0/8761 [00:00<?, ?it/s]"
      ]
     },
     "metadata": {},
     "output_type": "display_data"
    },
    {
     "name": "stderr",
     "output_type": "stream",
     "text": [
      "\u001b[32m[I 2022-12-24 16:49:43,312]\u001b[0m Trial 9 finished with value: 0.3499339890313693 and parameters: {'in_len': 200}. Best is trial 5 with value: 0.3491383922831136.\u001b[0m\n"
     ]
    },
    {
     "name": "stdout",
     "output_type": "stream",
     "text": [
      "Current value: 0.3499339890313693, Current params: {'in_len': 200}\n",
      "Best value: 0.3491383922831136, Best params: {'in_len': 215}\n"
     ]
    },
    {
     "data": {
      "application/vnd.jupyter.widget-view+json": {
       "model_id": "053f70a428a14c9797ef642b23020589",
       "version_major": 2,
       "version_minor": 0
      },
      "text/plain": [
       "  0%|          | 0/8761 [00:00<?, ?it/s]"
      ]
     },
     "metadata": {},
     "output_type": "display_data"
    },
    {
     "name": "stderr",
     "output_type": "stream",
     "text": [
      "\u001b[32m[I 2022-12-24 16:50:46,237]\u001b[0m Trial 10 finished with value: 0.576543530899142 and parameters: {'in_len': 46}. Best is trial 5 with value: 0.3491383922831136.\u001b[0m\n"
     ]
    },
    {
     "name": "stdout",
     "output_type": "stream",
     "text": [
      "Current value: 0.576543530899142, Current params: {'in_len': 46}\n",
      "Best value: 0.3491383922831136, Best params: {'in_len': 215}\n"
     ]
    },
    {
     "data": {
      "application/vnd.jupyter.widget-view+json": {
       "model_id": "456a9275cf3a416fb1888ba86e54574c",
       "version_major": 2,
       "version_minor": 0
      },
      "text/plain": [
       "  0%|          | 0/8761 [00:00<?, ?it/s]"
      ]
     },
     "metadata": {},
     "output_type": "display_data"
    },
    {
     "name": "stderr",
     "output_type": "stream",
     "text": [
      "\u001b[32m[I 2022-12-24 16:51:52,718]\u001b[0m Trial 11 finished with value: 0.3496602210536914 and parameters: {'in_len': 227}. Best is trial 5 with value: 0.3491383922831136.\u001b[0m\n"
     ]
    },
    {
     "name": "stdout",
     "output_type": "stream",
     "text": [
      "Current value: 0.3496602210536914, Current params: {'in_len': 227}\n",
      "Best value: 0.3491383922831136, Best params: {'in_len': 215}\n"
     ]
    },
    {
     "data": {
      "application/vnd.jupyter.widget-view+json": {
       "model_id": "b7d6465cceb94e25abf2eddbccf32b54",
       "version_major": 2,
       "version_minor": 0
      },
      "text/plain": [
       "  0%|          | 0/8761 [00:00<?, ?it/s]"
      ]
     },
     "metadata": {},
     "output_type": "display_data"
    },
    {
     "name": "stderr",
     "output_type": "stream",
     "text": [
      "\u001b[32m[I 2022-12-24 16:52:58,748]\u001b[0m Trial 12 finished with value: 0.35132096885481934 and parameters: {'in_len': 248}. Best is trial 5 with value: 0.3491383922831136.\u001b[0m\n"
     ]
    },
    {
     "name": "stdout",
     "output_type": "stream",
     "text": [
      "Current value: 0.35132096885481934, Current params: {'in_len': 248}\n",
      "Best value: 0.3491383922831136, Best params: {'in_len': 215}\n"
     ]
    },
    {
     "data": {
      "application/vnd.jupyter.widget-view+json": {
       "model_id": "80433278652642e289636065fcd80882",
       "version_major": 2,
       "version_minor": 0
      },
      "text/plain": [
       "  0%|          | 0/8761 [00:00<?, ?it/s]"
      ]
     },
     "metadata": {},
     "output_type": "display_data"
    },
    {
     "name": "stderr",
     "output_type": "stream",
     "text": [
      "\u001b[32m[I 2022-12-24 16:54:04,775]\u001b[0m Trial 13 finished with value: 0.35054408930535275 and parameters: {'in_len': 238}. Best is trial 5 with value: 0.3491383922831136.\u001b[0m\n"
     ]
    },
    {
     "name": "stdout",
     "output_type": "stream",
     "text": [
      "Current value: 0.35054408930535275, Current params: {'in_len': 238}\n",
      "Best value: 0.3491383922831136, Best params: {'in_len': 215}\n"
     ]
    },
    {
     "data": {
      "application/vnd.jupyter.widget-view+json": {
       "model_id": "e86c6d78cfde416995e983634af12f46",
       "version_major": 2,
       "version_minor": 0
      },
      "text/plain": [
       "  0%|          | 0/8761 [00:00<?, ?it/s]"
      ]
     },
     "metadata": {},
     "output_type": "display_data"
    },
    {
     "name": "stderr",
     "output_type": "stream",
     "text": [
      "\u001b[32m[I 2022-12-24 16:55:12,820]\u001b[0m Trial 14 finished with value: 0.349985012006376 and parameters: {'in_len': 245}. Best is trial 5 with value: 0.3491383922831136.\u001b[0m\n"
     ]
    },
    {
     "name": "stdout",
     "output_type": "stream",
     "text": [
      "Current value: 0.349985012006376, Current params: {'in_len': 245}\n",
      "Best value: 0.3491383922831136, Best params: {'in_len': 215}\n"
     ]
    },
    {
     "data": {
      "application/vnd.jupyter.widget-view+json": {
       "model_id": "e9359c930e29433497a0de684dc54262",
       "version_major": 2,
       "version_minor": 0
      },
      "text/plain": [
       "  0%|          | 0/8761 [00:00<?, ?it/s]"
      ]
     },
     "metadata": {},
     "output_type": "display_data"
    },
    {
     "name": "stderr",
     "output_type": "stream",
     "text": [
      "\u001b[32m[I 2022-12-24 16:56:15,813]\u001b[0m Trial 15 finished with value: 0.5759623023694558 and parameters: {'in_len': 71}. Best is trial 5 with value: 0.3491383922831136.\u001b[0m\n"
     ]
    },
    {
     "name": "stdout",
     "output_type": "stream",
     "text": [
      "Current value: 0.5759623023694558, Current params: {'in_len': 71}\n",
      "Best value: 0.3491383922831136, Best params: {'in_len': 215}\n"
     ]
    },
    {
     "data": {
      "application/vnd.jupyter.widget-view+json": {
       "model_id": "b7165a55f7ce4c8c89c232e0b0f36de7",
       "version_major": 2,
       "version_minor": 0
      },
      "text/plain": [
       "  0%|          | 0/8761 [00:00<?, ?it/s]"
      ]
     },
     "metadata": {},
     "output_type": "display_data"
    },
    {
     "name": "stderr",
     "output_type": "stream",
     "text": [
      "\u001b[32m[I 2022-12-24 16:57:21,621]\u001b[0m Trial 16 finished with value: 0.35063855879816236 and parameters: {'in_len': 206}. Best is trial 5 with value: 0.3491383922831136.\u001b[0m\n"
     ]
    },
    {
     "name": "stdout",
     "output_type": "stream",
     "text": [
      "Current value: 0.35063855879816236, Current params: {'in_len': 206}\n",
      "Best value: 0.3491383922831136, Best params: {'in_len': 215}\n"
     ]
    },
    {
     "data": {
      "application/vnd.jupyter.widget-view+json": {
       "model_id": "3a7ca28bacaa4dd48f9b995a3dbfabb0",
       "version_major": 2,
       "version_minor": 0
      },
      "text/plain": [
       "  0%|          | 0/8761 [00:00<?, ?it/s]"
      ]
     },
     "metadata": {},
     "output_type": "display_data"
    },
    {
     "name": "stderr",
     "output_type": "stream",
     "text": [
      "\u001b[32m[I 2022-12-24 16:58:28,345]\u001b[0m Trial 17 finished with value: 0.35355708425914756 and parameters: {'in_len': 269}. Best is trial 5 with value: 0.3491383922831136.\u001b[0m\n"
     ]
    },
    {
     "name": "stdout",
     "output_type": "stream",
     "text": [
      "Current value: 0.35355708425914756, Current params: {'in_len': 269}\n",
      "Best value: 0.3491383922831136, Best params: {'in_len': 215}\n"
     ]
    },
    {
     "data": {
      "application/vnd.jupyter.widget-view+json": {
       "model_id": "c74c6d8a8fbf4f1197bb709c22b73df9",
       "version_major": 2,
       "version_minor": 0
      },
      "text/plain": [
       "  0%|          | 0/8761 [00:00<?, ?it/s]"
      ]
     },
     "metadata": {},
     "output_type": "display_data"
    },
    {
     "name": "stderr",
     "output_type": "stream",
     "text": [
      "\u001b[32m[I 2022-12-24 16:59:31,232]\u001b[0m Trial 18 finished with value: 0.567394408924997 and parameters: {'in_len': 94}. Best is trial 5 with value: 0.3491383922831136.\u001b[0m\n"
     ]
    },
    {
     "name": "stdout",
     "output_type": "stream",
     "text": [
      "Current value: 0.567394408924997, Current params: {'in_len': 94}\n",
      "Best value: 0.3491383922831136, Best params: {'in_len': 215}\n"
     ]
    },
    {
     "data": {
      "application/vnd.jupyter.widget-view+json": {
       "model_id": "545d1258a1cb4987bf01be4df45afcc8",
       "version_major": 2,
       "version_minor": 0
      },
      "text/plain": [
       "  0%|          | 0/8761 [00:00<?, ?it/s]"
      ]
     },
     "metadata": {},
     "output_type": "display_data"
    },
    {
     "name": "stderr",
     "output_type": "stream",
     "text": [
      "\u001b[32m[I 2022-12-24 17:00:39,108]\u001b[0m Trial 19 finished with value: 0.3521959733600969 and parameters: {'in_len': 336}. Best is trial 5 with value: 0.3491383922831136.\u001b[0m\n"
     ]
    },
    {
     "name": "stdout",
     "output_type": "stream",
     "text": [
      "Current value: 0.3521959733600969, Current params: {'in_len': 336}\n",
      "Best value: 0.3491383922831136, Best params: {'in_len': 215}\n"
     ]
    },
    {
     "data": {
      "application/vnd.jupyter.widget-view+json": {
       "model_id": "da60949be712431395a4166c73f0f291",
       "version_major": 2,
       "version_minor": 0
      },
      "text/plain": [
       "  0%|          | 0/8761 [00:00<?, ?it/s]"
      ]
     },
     "metadata": {},
     "output_type": "display_data"
    },
    {
     "name": "stderr",
     "output_type": "stream",
     "text": [
      "\u001b[32m[I 2022-12-24 17:01:40,674]\u001b[0m Trial 20 finished with value: 1.1266697981969414 and parameters: {'in_len': 12}. Best is trial 5 with value: 0.3491383922831136.\u001b[0m\n"
     ]
    },
    {
     "name": "stdout",
     "output_type": "stream",
     "text": [
      "Current value: 1.1266697981969414, Current params: {'in_len': 12}\n",
      "Best value: 0.3491383922831136, Best params: {'in_len': 215}\n"
     ]
    },
    {
     "data": {
      "application/vnd.jupyter.widget-view+json": {
       "model_id": "61dae36d233141daabe80b91181ec592",
       "version_major": 2,
       "version_minor": 0
      },
      "text/plain": [
       "  0%|          | 0/8761 [00:00<?, ?it/s]"
      ]
     },
     "metadata": {},
     "output_type": "display_data"
    },
    {
     "name": "stderr",
     "output_type": "stream",
     "text": [
      "\u001b[32m[I 2022-12-24 17:02:46,428]\u001b[0m Trial 21 finished with value: 0.3495164917315833 and parameters: {'in_len': 193}. Best is trial 5 with value: 0.3491383922831136.\u001b[0m\n"
     ]
    },
    {
     "name": "stdout",
     "output_type": "stream",
     "text": [
      "Current value: 0.3495164917315833, Current params: {'in_len': 193}\n",
      "Best value: 0.3491383922831136, Best params: {'in_len': 215}\n"
     ]
    },
    {
     "data": {
      "application/vnd.jupyter.widget-view+json": {
       "model_id": "7543baca5c7d48238fa1ce8e9b5fbc5a",
       "version_major": 2,
       "version_minor": 0
      },
      "text/plain": [
       "  0%|          | 0/8761 [00:00<?, ?it/s]"
      ]
     },
     "metadata": {},
     "output_type": "display_data"
    },
    {
     "name": "stderr",
     "output_type": "stream",
     "text": [
      "\u001b[32m[I 2022-12-24 17:03:51,220]\u001b[0m Trial 22 finished with value: 0.3514198879933579 and parameters: {'in_len': 176}. Best is trial 5 with value: 0.3491383922831136.\u001b[0m\n"
     ]
    },
    {
     "name": "stdout",
     "output_type": "stream",
     "text": [
      "Current value: 0.3514198879933579, Current params: {'in_len': 176}\n",
      "Best value: 0.3491383922831136, Best params: {'in_len': 215}\n"
     ]
    },
    {
     "data": {
      "application/vnd.jupyter.widget-view+json": {
       "model_id": "dce629d57fdb4e0ab9673a2179c91921",
       "version_major": 2,
       "version_minor": 0
      },
      "text/plain": [
       "  0%|          | 0/8761 [00:00<?, ?it/s]"
      ]
     },
     "metadata": {},
     "output_type": "display_data"
    },
    {
     "name": "stderr",
     "output_type": "stream",
     "text": [
      "\u001b[32m[I 2022-12-24 17:04:57,877]\u001b[0m Trial 23 finished with value: 0.3488042446147211 and parameters: {'in_len': 221}. Best is trial 23 with value: 0.3488042446147211.\u001b[0m\n"
     ]
    },
    {
     "name": "stdout",
     "output_type": "stream",
     "text": [
      "Current value: 0.3488042446147211, Current params: {'in_len': 221}\n",
      "Best value: 0.3488042446147211, Best params: {'in_len': 221}\n"
     ]
    },
    {
     "data": {
      "application/vnd.jupyter.widget-view+json": {
       "model_id": "38be4d37c2994758811512a062432f77",
       "version_major": 2,
       "version_minor": 0
      },
      "text/plain": [
       "  0%|          | 0/8761 [00:00<?, ?it/s]"
      ]
     },
     "metadata": {},
     "output_type": "display_data"
    },
    {
     "name": "stderr",
     "output_type": "stream",
     "text": [
      "\u001b[32m[I 2022-12-24 17:06:03,186]\u001b[0m Trial 24 finished with value: 0.35057500328827634 and parameters: {'in_len': 178}. Best is trial 23 with value: 0.3488042446147211.\u001b[0m\n"
     ]
    },
    {
     "name": "stdout",
     "output_type": "stream",
     "text": [
      "Current value: 0.35057500328827634, Current params: {'in_len': 178}\n",
      "Best value: 0.3488042446147211, Best params: {'in_len': 221}\n"
     ]
    },
    {
     "data": {
      "application/vnd.jupyter.widget-view+json": {
       "model_id": "166b35ade4074ddfa53196dc9658db79",
       "version_major": 2,
       "version_minor": 0
      },
      "text/plain": [
       "  0%|          | 0/8761 [00:00<?, ?it/s]"
      ]
     },
     "metadata": {},
     "output_type": "display_data"
    },
    {
     "name": "stderr",
     "output_type": "stream",
     "text": [
      "\u001b[32m[I 2022-12-24 17:07:11,328]\u001b[0m Trial 25 finished with value: 0.353205416076511 and parameters: {'in_len': 271}. Best is trial 23 with value: 0.3488042446147211.\u001b[0m\n"
     ]
    },
    {
     "name": "stdout",
     "output_type": "stream",
     "text": [
      "Current value: 0.353205416076511, Current params: {'in_len': 271}\n",
      "Best value: 0.3488042446147211, Best params: {'in_len': 221}\n"
     ]
    },
    {
     "data": {
      "application/vnd.jupyter.widget-view+json": {
       "model_id": "caf4a6d5d3314d37a1c563fe5db7d8b2",
       "version_major": 2,
       "version_minor": 0
      },
      "text/plain": [
       "  0%|          | 0/8761 [00:00<?, ?it/s]"
      ]
     },
     "metadata": {},
     "output_type": "display_data"
    },
    {
     "name": "stderr",
     "output_type": "stream",
     "text": [
      "\u001b[32m[I 2022-12-24 17:08:17,907]\u001b[0m Trial 26 finished with value: 0.3492382695872089 and parameters: {'in_len': 212}. Best is trial 23 with value: 0.3488042446147211.\u001b[0m\n"
     ]
    },
    {
     "name": "stdout",
     "output_type": "stream",
     "text": [
      "Current value: 0.3492382695872089, Current params: {'in_len': 212}\n",
      "Best value: 0.3488042446147211, Best params: {'in_len': 221}\n"
     ]
    },
    {
     "data": {
      "application/vnd.jupyter.widget-view+json": {
       "model_id": "111bdd81358041c7809853a1d49840a0",
       "version_major": 2,
       "version_minor": 0
      },
      "text/plain": [
       "  0%|          | 0/8761 [00:00<?, ?it/s]"
      ]
     },
     "metadata": {},
     "output_type": "display_data"
    },
    {
     "name": "stderr",
     "output_type": "stream",
     "text": [
      "\u001b[32m[I 2022-12-24 17:09:23,835]\u001b[0m Trial 27 finished with value: 0.34873090647504895 and parameters: {'in_len': 217}. Best is trial 27 with value: 0.34873090647504895.\u001b[0m\n"
     ]
    },
    {
     "name": "stdout",
     "output_type": "stream",
     "text": [
      "Current value: 0.34873090647504895, Current params: {'in_len': 217}\n",
      "Best value: 0.34873090647504895, Best params: {'in_len': 217}\n"
     ]
    },
    {
     "data": {
      "application/vnd.jupyter.widget-view+json": {
       "model_id": "6346bdf92e30470ba944a9da88efbaed",
       "version_major": 2,
       "version_minor": 0
      },
      "text/plain": [
       "  0%|          | 0/8761 [00:00<?, ?it/s]"
      ]
     },
     "metadata": {},
     "output_type": "display_data"
    },
    {
     "name": "stderr",
     "output_type": "stream",
     "text": [
      "\u001b[32m[I 2022-12-24 17:10:32,078]\u001b[0m Trial 28 finished with value: 0.3533287236419124 and parameters: {'in_len': 272}. Best is trial 27 with value: 0.34873090647504895.\u001b[0m\n"
     ]
    },
    {
     "name": "stdout",
     "output_type": "stream",
     "text": [
      "Current value: 0.3533287236419124, Current params: {'in_len': 272}\n",
      "Best value: 0.34873090647504895, Best params: {'in_len': 217}\n"
     ]
    },
    {
     "data": {
      "application/vnd.jupyter.widget-view+json": {
       "model_id": "6033cad1b5a943a185a211b1d536cc9c",
       "version_major": 2,
       "version_minor": 0
      },
      "text/plain": [
       "  0%|          | 0/8761 [00:00<?, ?it/s]"
      ]
     },
     "metadata": {},
     "output_type": "display_data"
    },
    {
     "name": "stderr",
     "output_type": "stream",
     "text": [
      "\u001b[32m[I 2022-12-24 17:11:37,545]\u001b[0m Trial 29 finished with value: 0.4421110763095259 and parameters: {'in_len': 151}. Best is trial 27 with value: 0.34873090647504895.\u001b[0m\n"
     ]
    },
    {
     "name": "stdout",
     "output_type": "stream",
     "text": [
      "Current value: 0.4421110763095259, Current params: {'in_len': 151}\n",
      "Best value: 0.34873090647504895, Best params: {'in_len': 217}\n"
     ]
    },
    {
     "data": {
      "application/vnd.jupyter.widget-view+json": {
       "model_id": "56c48b4e4c424256a3e5e4cbca1cfdcd",
       "version_major": 2,
       "version_minor": 0
      },
      "text/plain": [
       "  0%|          | 0/8761 [00:00<?, ?it/s]"
      ]
     },
     "metadata": {},
     "output_type": "display_data"
    },
    {
     "name": "stderr",
     "output_type": "stream",
     "text": [
      "\u001b[32m[I 2022-12-24 17:12:48,087]\u001b[0m Trial 30 finished with value: 0.34873090647504895 and parameters: {'in_len': 217}. Best is trial 27 with value: 0.34873090647504895.\u001b[0m\n"
     ]
    },
    {
     "name": "stdout",
     "output_type": "stream",
     "text": [
      "Current value: 0.34873090647504895, Current params: {'in_len': 217}\n",
      "Best value: 0.34873090647504895, Best params: {'in_len': 217}\n"
     ]
    },
    {
     "data": {
      "application/vnd.jupyter.widget-view+json": {
       "model_id": "57ccf4c916284b67a4ef592749f34f6d",
       "version_major": 2,
       "version_minor": 0
      },
      "text/plain": [
       "  0%|          | 0/8761 [00:00<?, ?it/s]"
      ]
     },
     "metadata": {},
     "output_type": "display_data"
    },
    {
     "name": "stderr",
     "output_type": "stream",
     "text": [
      "\u001b[32m[I 2022-12-24 17:13:54,129]\u001b[0m Trial 31 finished with value: 0.3496602210536914 and parameters: {'in_len': 227}. Best is trial 27 with value: 0.34873090647504895.\u001b[0m\n"
     ]
    },
    {
     "name": "stdout",
     "output_type": "stream",
     "text": [
      "Current value: 0.3496602210536914, Current params: {'in_len': 227}\n",
      "Best value: 0.34873090647504895, Best params: {'in_len': 217}\n"
     ]
    },
    {
     "data": {
      "application/vnd.jupyter.widget-view+json": {
       "model_id": "5475e6258855488a848ec010bc6b8fb8",
       "version_major": 2,
       "version_minor": 0
      },
      "text/plain": [
       "  0%|          | 0/8761 [00:00<?, ?it/s]"
      ]
     },
     "metadata": {},
     "output_type": "display_data"
    },
    {
     "name": "stderr",
     "output_type": "stream",
     "text": [
      "\u001b[32m[I 2022-12-24 17:15:00,883]\u001b[0m Trial 32 finished with value: 0.35294258032291764 and parameters: {'in_len': 259}. Best is trial 27 with value: 0.34873090647504895.\u001b[0m\n"
     ]
    },
    {
     "name": "stdout",
     "output_type": "stream",
     "text": [
      "Current value: 0.35294258032291764, Current params: {'in_len': 259}\n",
      "Best value: 0.34873090647504895, Best params: {'in_len': 217}\n"
     ]
    },
    {
     "data": {
      "application/vnd.jupyter.widget-view+json": {
       "model_id": "8c1bef20206145299411d247865ee61a",
       "version_major": 2,
       "version_minor": 0
      },
      "text/plain": [
       "  0%|          | 0/8761 [00:00<?, ?it/s]"
      ]
     },
     "metadata": {},
     "output_type": "display_data"
    },
    {
     "name": "stderr",
     "output_type": "stream",
     "text": [
      "\u001b[32m[I 2022-12-24 17:16:06,647]\u001b[0m Trial 33 finished with value: 0.3491961207145458 and parameters: {'in_len': 226}. Best is trial 27 with value: 0.34873090647504895.\u001b[0m\n"
     ]
    },
    {
     "name": "stdout",
     "output_type": "stream",
     "text": [
      "Current value: 0.3491961207145458, Current params: {'in_len': 226}\n",
      "Best value: 0.34873090647504895, Best params: {'in_len': 217}\n"
     ]
    },
    {
     "data": {
      "application/vnd.jupyter.widget-view+json": {
       "model_id": "006cce8efd5a4860af35e6f1a97ac8c2",
       "version_major": 2,
       "version_minor": 0
      },
      "text/plain": [
       "  0%|          | 0/8761 [00:00<?, ?it/s]"
      ]
     },
     "metadata": {},
     "output_type": "display_data"
    },
    {
     "name": "stderr",
     "output_type": "stream",
     "text": [
      "\u001b[32m[I 2022-12-24 17:17:14,529]\u001b[0m Trial 34 finished with value: 0.35270687415745167 and parameters: {'in_len': 289}. Best is trial 27 with value: 0.34873090647504895.\u001b[0m\n"
     ]
    },
    {
     "name": "stdout",
     "output_type": "stream",
     "text": [
      "Current value: 0.35270687415745167, Current params: {'in_len': 289}\n",
      "Best value: 0.34873090647504895, Best params: {'in_len': 217}\n"
     ]
    },
    {
     "data": {
      "application/vnd.jupyter.widget-view+json": {
       "model_id": "d4676e3d0b544c63a0ce0c8ef0e43aba",
       "version_major": 2,
       "version_minor": 0
      },
      "text/plain": [
       "  0%|          | 0/8761 [00:00<?, ?it/s]"
      ]
     },
     "metadata": {},
     "output_type": "display_data"
    },
    {
     "name": "stderr",
     "output_type": "stream",
     "text": [
      "\u001b[32m[I 2022-12-24 17:18:19,853]\u001b[0m Trial 35 finished with value: 0.3576244825483585 and parameters: {'in_len': 173}. Best is trial 27 with value: 0.34873090647504895.\u001b[0m\n"
     ]
    },
    {
     "name": "stdout",
     "output_type": "stream",
     "text": [
      "Current value: 0.3576244825483585, Current params: {'in_len': 173}\n",
      "Best value: 0.34873090647504895, Best params: {'in_len': 217}\n"
     ]
    },
    {
     "data": {
      "application/vnd.jupyter.widget-view+json": {
       "model_id": "70c6568f32bb45fcb93751a05dd6c56a",
       "version_major": 2,
       "version_minor": 0
      },
      "text/plain": [
       "  0%|          | 0/8761 [00:00<?, ?it/s]"
      ]
     },
     "metadata": {},
     "output_type": "display_data"
    },
    {
     "name": "stderr",
     "output_type": "stream",
     "text": [
      "\u001b[32m[I 2022-12-24 17:19:24,182]\u001b[0m Trial 36 finished with value: 0.5028230073947835 and parameters: {'in_len': 129}. Best is trial 27 with value: 0.34873090647504895.\u001b[0m\n"
     ]
    },
    {
     "name": "stdout",
     "output_type": "stream",
     "text": [
      "Current value: 0.5028230073947835, Current params: {'in_len': 129}\n",
      "Best value: 0.34873090647504895, Best params: {'in_len': 217}\n"
     ]
    },
    {
     "data": {
      "application/vnd.jupyter.widget-view+json": {
       "model_id": "dd93dbd6c93649c986b1e2124f3d7157",
       "version_major": 2,
       "version_minor": 0
      },
      "text/plain": [
       "  0%|          | 0/8761 [00:00<?, ?it/s]"
      ]
     },
     "metadata": {},
     "output_type": "display_data"
    },
    {
     "name": "stderr",
     "output_type": "stream",
     "text": [
      "\u001b[32m[I 2022-12-24 17:20:30,536]\u001b[0m Trial 37 finished with value: 0.348729571071885 and parameters: {'in_len': 219}. Best is trial 37 with value: 0.348729571071885.\u001b[0m\n"
     ]
    },
    {
     "name": "stdout",
     "output_type": "stream",
     "text": [
      "Current value: 0.348729571071885, Current params: {'in_len': 219}\n",
      "Best value: 0.348729571071885, Best params: {'in_len': 219}\n"
     ]
    },
    {
     "data": {
      "application/vnd.jupyter.widget-view+json": {
       "model_id": "a0b2f780ff4e42b19e1ed43b81c02c67",
       "version_major": 2,
       "version_minor": 0
      },
      "text/plain": [
       "  0%|          | 0/8761 [00:00<?, ?it/s]"
      ]
     },
     "metadata": {},
     "output_type": "display_data"
    },
    {
     "name": "stderr",
     "output_type": "stream",
     "text": [
      "\u001b[32m[I 2022-12-24 17:21:35,678]\u001b[0m Trial 38 finished with value: 0.34939057231903164 and parameters: {'in_len': 192}. Best is trial 37 with value: 0.348729571071885.\u001b[0m\n"
     ]
    },
    {
     "name": "stdout",
     "output_type": "stream",
     "text": [
      "Current value: 0.34939057231903164, Current params: {'in_len': 192}\n",
      "Best value: 0.348729571071885, Best params: {'in_len': 219}\n"
     ]
    },
    {
     "data": {
      "application/vnd.jupyter.widget-view+json": {
       "model_id": "496c6adf6d814a9a876fc52cc7f37270",
       "version_major": 2,
       "version_minor": 0
      },
      "text/plain": [
       "  0%|          | 0/8761 [00:00<?, ?it/s]"
      ]
     },
     "metadata": {},
     "output_type": "display_data"
    },
    {
     "name": "stderr",
     "output_type": "stream",
     "text": [
      "\u001b[32m[I 2022-12-24 17:22:40,662]\u001b[0m Trial 39 finished with value: 0.4005061694915704 and parameters: {'in_len': 164}. Best is trial 37 with value: 0.348729571071885.\u001b[0m\n"
     ]
    },
    {
     "name": "stdout",
     "output_type": "stream",
     "text": [
      "Current value: 0.4005061694915704, Current params: {'in_len': 164}\n",
      "Best value: 0.348729571071885, Best params: {'in_len': 219}\n"
     ]
    },
    {
     "data": {
      "application/vnd.jupyter.widget-view+json": {
       "model_id": "48c194f8be68496b8de77823f73d7a6a",
       "version_major": 2,
       "version_minor": 0
      },
      "text/plain": [
       "  0%|          | 0/8761 [00:00<?, ?it/s]"
      ]
     },
     "metadata": {},
     "output_type": "display_data"
    },
    {
     "name": "stderr",
     "output_type": "stream",
     "text": [
      "\u001b[32m[I 2022-12-24 17:23:44,980]\u001b[0m Trial 40 finished with value: 0.4581762781330291 and parameters: {'in_len': 138}. Best is trial 37 with value: 0.348729571071885.\u001b[0m\n"
     ]
    },
    {
     "name": "stdout",
     "output_type": "stream",
     "text": [
      "Current value: 0.4581762781330291, Current params: {'in_len': 138}\n",
      "Best value: 0.348729571071885, Best params: {'in_len': 219}\n"
     ]
    },
    {
     "data": {
      "application/vnd.jupyter.widget-view+json": {
       "model_id": "7d449990da304ebe8c429da618198810",
       "version_major": 2,
       "version_minor": 0
      },
      "text/plain": [
       "  0%|          | 0/8761 [00:00<?, ?it/s]"
      ]
     },
     "metadata": {},
     "output_type": "display_data"
    },
    {
     "name": "stderr",
     "output_type": "stream",
     "text": [
      "\u001b[32m[I 2022-12-24 17:24:51,008]\u001b[0m Trial 41 finished with value: 0.3490134600540266 and parameters: {'in_len': 216}. Best is trial 37 with value: 0.348729571071885.\u001b[0m\n"
     ]
    },
    {
     "name": "stdout",
     "output_type": "stream",
     "text": [
      "Current value: 0.3490134600540266, Current params: {'in_len': 216}\n",
      "Best value: 0.348729571071885, Best params: {'in_len': 219}\n"
     ]
    },
    {
     "data": {
      "application/vnd.jupyter.widget-view+json": {
       "model_id": "63d70a1d09674f95a433052732ac0159",
       "version_major": 2,
       "version_minor": 0
      },
      "text/plain": [
       "  0%|          | 0/8761 [00:00<?, ?it/s]"
      ]
     },
     "metadata": {},
     "output_type": "display_data"
    },
    {
     "name": "stderr",
     "output_type": "stream",
     "text": [
      "\u001b[32m[I 2022-12-24 17:25:56,597]\u001b[0m Trial 42 finished with value: 0.3489004116337671 and parameters: {'in_len': 214}. Best is trial 37 with value: 0.348729571071885.\u001b[0m\n"
     ]
    },
    {
     "name": "stdout",
     "output_type": "stream",
     "text": [
      "Current value: 0.3489004116337671, Current params: {'in_len': 214}\n",
      "Best value: 0.348729571071885, Best params: {'in_len': 219}\n"
     ]
    },
    {
     "data": {
      "application/vnd.jupyter.widget-view+json": {
       "model_id": "27ec31b48aa14691a0078cdc1a9889d7",
       "version_major": 2,
       "version_minor": 0
      },
      "text/plain": [
       "  0%|          | 0/8761 [00:00<?, ?it/s]"
      ]
     },
     "metadata": {},
     "output_type": "display_data"
    },
    {
     "name": "stderr",
     "output_type": "stream",
     "text": [
      "\u001b[32m[I 2022-12-24 17:27:04,089]\u001b[0m Trial 43 finished with value: 0.349377977677919 and parameters: {'in_len': 240}. Best is trial 37 with value: 0.348729571071885.\u001b[0m\n"
     ]
    },
    {
     "name": "stdout",
     "output_type": "stream",
     "text": [
      "Current value: 0.349377977677919, Current params: {'in_len': 240}\n",
      "Best value: 0.348729571071885, Best params: {'in_len': 219}\n"
     ]
    },
    {
     "data": {
      "application/vnd.jupyter.widget-view+json": {
       "model_id": "68c1d77391fe487992328a959a5050d4",
       "version_major": 2,
       "version_minor": 0
      },
      "text/plain": [
       "  0%|          | 0/8761 [00:00<?, ?it/s]"
      ]
     },
     "metadata": {},
     "output_type": "display_data"
    },
    {
     "name": "stderr",
     "output_type": "stream",
     "text": [
      "\u001b[32m[I 2022-12-24 17:28:10,272]\u001b[0m Trial 44 finished with value: 0.3488726043151634 and parameters: {'in_len': 187}. Best is trial 37 with value: 0.348729571071885.\u001b[0m\n"
     ]
    },
    {
     "name": "stdout",
     "output_type": "stream",
     "text": [
      "Current value: 0.3488726043151634, Current params: {'in_len': 187}\n",
      "Best value: 0.348729571071885, Best params: {'in_len': 219}\n"
     ]
    },
    {
     "data": {
      "application/vnd.jupyter.widget-view+json": {
       "model_id": "ee1fcc955c21408e8e3e33abb21271e9",
       "version_major": 2,
       "version_minor": 0
      },
      "text/plain": [
       "  0%|          | 0/8761 [00:00<?, ?it/s]"
      ]
     },
     "metadata": {},
     "output_type": "display_data"
    },
    {
     "name": "stderr",
     "output_type": "stream",
     "text": [
      "\u001b[32m[I 2022-12-24 17:29:16,481]\u001b[0m Trial 45 finished with value: 0.3491880234263785 and parameters: {'in_len': 181}. Best is trial 37 with value: 0.348729571071885.\u001b[0m\n"
     ]
    },
    {
     "name": "stdout",
     "output_type": "stream",
     "text": [
      "Current value: 0.3491880234263785, Current params: {'in_len': 181}\n",
      "Best value: 0.348729571071885, Best params: {'in_len': 219}\n"
     ]
    },
    {
     "data": {
      "application/vnd.jupyter.widget-view+json": {
       "model_id": "96fbfb1756c4468493b9d994b39c81f5",
       "version_major": 2,
       "version_minor": 0
      },
      "text/plain": [
       "  0%|          | 0/8761 [00:00<?, ?it/s]"
      ]
     },
     "metadata": {},
     "output_type": "display_data"
    },
    {
     "name": "stderr",
     "output_type": "stream",
     "text": [
      "\u001b[32m[I 2022-12-24 17:30:22,257]\u001b[0m Trial 46 finished with value: 0.35263132399078956 and parameters: {'in_len': 254}. Best is trial 37 with value: 0.348729571071885.\u001b[0m\n"
     ]
    },
    {
     "name": "stdout",
     "output_type": "stream",
     "text": [
      "Current value: 0.35263132399078956, Current params: {'in_len': 254}\n",
      "Best value: 0.348729571071885, Best params: {'in_len': 219}\n"
     ]
    },
    {
     "data": {
      "application/vnd.jupyter.widget-view+json": {
       "model_id": "4eb3285ea3274a9e942e58610e85c796",
       "version_major": 2,
       "version_minor": 0
      },
      "text/plain": [
       "  0%|          | 0/8761 [00:00<?, ?it/s]"
      ]
     },
     "metadata": {},
     "output_type": "display_data"
    },
    {
     "name": "stderr",
     "output_type": "stream",
     "text": [
      "\u001b[32m[I 2022-12-24 17:31:25,443]\u001b[0m Trial 47 finished with value: 0.541233583220614 and parameters: {'in_len': 114}. Best is trial 37 with value: 0.348729571071885.\u001b[0m\n"
     ]
    },
    {
     "name": "stdout",
     "output_type": "stream",
     "text": [
      "Current value: 0.541233583220614, Current params: {'in_len': 114}\n",
      "Best value: 0.348729571071885, Best params: {'in_len': 219}\n"
     ]
    },
    {
     "data": {
      "application/vnd.jupyter.widget-view+json": {
       "model_id": "736d9d3d6dbf477597aa1de5f8ba7770",
       "version_major": 2,
       "version_minor": 0
      },
      "text/plain": [
       "  0%|          | 0/8761 [00:00<?, ?it/s]"
      ]
     },
     "metadata": {},
     "output_type": "display_data"
    },
    {
     "name": "stderr",
     "output_type": "stream",
     "text": [
      "\u001b[32m[I 2022-12-24 17:32:31,799]\u001b[0m Trial 48 finished with value: 0.35018280889154974 and parameters: {'in_len': 232}. Best is trial 37 with value: 0.348729571071885.\u001b[0m\n"
     ]
    },
    {
     "name": "stdout",
     "output_type": "stream",
     "text": [
      "Current value: 0.35018280889154974, Current params: {'in_len': 232}\n",
      "Best value: 0.348729571071885, Best params: {'in_len': 219}\n"
     ]
    },
    {
     "data": {
      "application/vnd.jupyter.widget-view+json": {
       "model_id": "0636c317d98f4affbcf8c5a3cb211da2",
       "version_major": 2,
       "version_minor": 0
      },
      "text/plain": [
       "  0%|          | 0/8761 [00:00<?, ?it/s]"
      ]
     },
     "metadata": {},
     "output_type": "display_data"
    },
    {
     "name": "stderr",
     "output_type": "stream",
     "text": [
      "\u001b[32m[I 2022-12-24 17:33:38,919]\u001b[0m Trial 49 finished with value: 0.34899705424778255 and parameters: {'in_len': 199}. Best is trial 37 with value: 0.348729571071885.\u001b[0m\n"
     ]
    },
    {
     "name": "stdout",
     "output_type": "stream",
     "text": [
      "Current value: 0.34899705424778255, Current params: {'in_len': 199}\n",
      "Best value: 0.348729571071885, Best params: {'in_len': 219}\n"
     ]
    },
    {
     "data": {
      "application/vnd.jupyter.widget-view+json": {
       "model_id": "c036e3e3e6664e44b420dc1b554e4650",
       "version_major": 2,
       "version_minor": 0
      },
      "text/plain": [
       "  0%|          | 0/8761 [00:00<?, ?it/s]"
      ]
     },
     "metadata": {},
     "output_type": "display_data"
    },
    {
     "name": "stderr",
     "output_type": "stream",
     "text": [
      "\u001b[32m[I 2022-12-24 17:34:46,697]\u001b[0m Trial 50 finished with value: 0.353051314798362 and parameters: {'in_len': 290}. Best is trial 37 with value: 0.348729571071885.\u001b[0m\n"
     ]
    },
    {
     "name": "stdout",
     "output_type": "stream",
     "text": [
      "Current value: 0.353051314798362, Current params: {'in_len': 290}\n",
      "Best value: 0.348729571071885, Best params: {'in_len': 219}\n"
     ]
    },
    {
     "data": {
      "application/vnd.jupyter.widget-view+json": {
       "model_id": "a9a1586233b2482e9f27d03e3efb1b14",
       "version_major": 2,
       "version_minor": 0
      },
      "text/plain": [
       "  0%|          | 0/8761 [00:00<?, ?it/s]"
      ]
     },
     "metadata": {},
     "output_type": "display_data"
    },
    {
     "name": "stderr",
     "output_type": "stream",
     "text": [
      "\u001b[32m[I 2022-12-24 17:35:52,563]\u001b[0m Trial 51 finished with value: 0.348729571071885 and parameters: {'in_len': 219}. Best is trial 37 with value: 0.348729571071885.\u001b[0m\n"
     ]
    },
    {
     "name": "stdout",
     "output_type": "stream",
     "text": [
      "Current value: 0.348729571071885, Current params: {'in_len': 219}\n",
      "Best value: 0.348729571071885, Best params: {'in_len': 219}\n"
     ]
    },
    {
     "data": {
      "application/vnd.jupyter.widget-view+json": {
       "model_id": "8e68cbbc3a374688ab4178bf296c860d",
       "version_major": 2,
       "version_minor": 0
      },
      "text/plain": [
       "  0%|          | 0/8761 [00:00<?, ?it/s]"
      ]
     },
     "metadata": {},
     "output_type": "display_data"
    },
    {
     "name": "stderr",
     "output_type": "stream",
     "text": [
      "\u001b[32m[I 2022-12-24 17:36:58,620]\u001b[0m Trial 52 finished with value: 0.3487461969157822 and parameters: {'in_len': 220}. Best is trial 37 with value: 0.348729571071885.\u001b[0m\n"
     ]
    },
    {
     "name": "stdout",
     "output_type": "stream",
     "text": [
      "Current value: 0.3487461969157822, Current params: {'in_len': 220}\n",
      "Best value: 0.348729571071885, Best params: {'in_len': 219}\n"
     ]
    },
    {
     "data": {
      "application/vnd.jupyter.widget-view+json": {
       "model_id": "a31af01fe28440e6a478c25ec35fcc0e",
       "version_major": 2,
       "version_minor": 0
      },
      "text/plain": [
       "  0%|          | 0/8761 [00:00<?, ?it/s]"
      ]
     },
     "metadata": {},
     "output_type": "display_data"
    },
    {
     "name": "stderr",
     "output_type": "stream",
     "text": [
      "\u001b[32m[I 2022-12-24 17:38:04,127]\u001b[0m Trial 53 finished with value: 0.3487461969157822 and parameters: {'in_len': 220}. Best is trial 37 with value: 0.348729571071885.\u001b[0m\n"
     ]
    },
    {
     "name": "stdout",
     "output_type": "stream",
     "text": [
      "Current value: 0.3487461969157822, Current params: {'in_len': 220}\n",
      "Best value: 0.348729571071885, Best params: {'in_len': 219}\n"
     ]
    },
    {
     "data": {
      "application/vnd.jupyter.widget-view+json": {
       "model_id": "9816b2e21b1e4224af8d46a936997276",
       "version_major": 2,
       "version_minor": 0
      },
      "text/plain": [
       "  0%|          | 0/8761 [00:00<?, ?it/s]"
      ]
     },
     "metadata": {},
     "output_type": "display_data"
    },
    {
     "name": "stderr",
     "output_type": "stream",
     "text": [
      "\u001b[32m[I 2022-12-24 17:39:09,856]\u001b[0m Trial 54 finished with value: 0.35090577083760327 and parameters: {'in_len': 205}. Best is trial 37 with value: 0.348729571071885.\u001b[0m\n"
     ]
    },
    {
     "name": "stdout",
     "output_type": "stream",
     "text": [
      "Current value: 0.35090577083760327, Current params: {'in_len': 205}\n",
      "Best value: 0.348729571071885, Best params: {'in_len': 219}\n"
     ]
    },
    {
     "data": {
      "application/vnd.jupyter.widget-view+json": {
       "model_id": "7c689a50a1454663a3fbafd2de254124",
       "version_major": 2,
       "version_minor": 0
      },
      "text/plain": [
       "  0%|          | 0/8761 [00:00<?, ?it/s]"
      ]
     },
     "metadata": {},
     "output_type": "display_data"
    },
    {
     "name": "stderr",
     "output_type": "stream",
     "text": [
      "\u001b[32m[I 2022-12-24 17:40:16,632]\u001b[0m Trial 55 finished with value: 0.35066911607882567 and parameters: {'in_len': 237}. Best is trial 37 with value: 0.348729571071885.\u001b[0m\n"
     ]
    },
    {
     "name": "stdout",
     "output_type": "stream",
     "text": [
      "Current value: 0.35066911607882567, Current params: {'in_len': 237}\n",
      "Best value: 0.348729571071885, Best params: {'in_len': 219}\n"
     ]
    },
    {
     "data": {
      "application/vnd.jupyter.widget-view+json": {
       "model_id": "3b708fef92a74d69aa94fa6798f75c14",
       "version_major": 2,
       "version_minor": 0
      },
      "text/plain": [
       "  0%|          | 0/8761 [00:00<?, ?it/s]"
      ]
     },
     "metadata": {},
     "output_type": "display_data"
    },
    {
     "name": "stderr",
     "output_type": "stream",
     "text": [
      "\u001b[32m[I 2022-12-24 17:41:23,169]\u001b[0m Trial 56 finished with value: 0.35256627328847756 and parameters: {'in_len': 253}. Best is trial 37 with value: 0.348729571071885.\u001b[0m\n"
     ]
    },
    {
     "name": "stdout",
     "output_type": "stream",
     "text": [
      "Current value: 0.35256627328847756, Current params: {'in_len': 253}\n",
      "Best value: 0.348729571071885, Best params: {'in_len': 219}\n"
     ]
    },
    {
     "data": {
      "application/vnd.jupyter.widget-view+json": {
       "model_id": "fca3baa5913947598aaa792fb0915763",
       "version_major": 2,
       "version_minor": 0
      },
      "text/plain": [
       "  0%|          | 0/8761 [00:00<?, ?it/s]"
      ]
     },
     "metadata": {},
     "output_type": "display_data"
    },
    {
     "name": "stderr",
     "output_type": "stream",
     "text": [
      "\u001b[32m[I 2022-12-24 17:42:28,998]\u001b[0m Trial 57 finished with value: 0.4052978882646859 and parameters: {'in_len': 165}. Best is trial 37 with value: 0.348729571071885.\u001b[0m\n"
     ]
    },
    {
     "name": "stdout",
     "output_type": "stream",
     "text": [
      "Current value: 0.4052978882646859, Current params: {'in_len': 165}\n",
      "Best value: 0.348729571071885, Best params: {'in_len': 219}\n"
     ]
    },
    {
     "data": {
      "application/vnd.jupyter.widget-view+json": {
       "model_id": "c48307e8dfb44ff39bed09c6813663e8",
       "version_major": 2,
       "version_minor": 0
      },
      "text/plain": [
       "  0%|          | 0/8761 [00:00<?, ?it/s]"
      ]
     },
     "metadata": {},
     "output_type": "display_data"
    },
    {
     "name": "stderr",
     "output_type": "stream",
     "text": [
      "\u001b[32m[I 2022-12-24 17:43:36,415]\u001b[0m Trial 58 finished with value: 0.35325114900139765 and parameters: {'in_len': 262}. Best is trial 37 with value: 0.348729571071885.\u001b[0m\n"
     ]
    },
    {
     "name": "stdout",
     "output_type": "stream",
     "text": [
      "Current value: 0.35325114900139765, Current params: {'in_len': 262}\n",
      "Best value: 0.348729571071885, Best params: {'in_len': 219}\n"
     ]
    },
    {
     "data": {
      "application/vnd.jupyter.widget-view+json": {
       "model_id": "9b0f6c4d17fd4fb19c8deb099d265a6e",
       "version_major": 2,
       "version_minor": 0
      },
      "text/plain": [
       "  0%|          | 0/8761 [00:00<?, ?it/s]"
      ]
     },
     "metadata": {},
     "output_type": "display_data"
    },
    {
     "name": "stderr",
     "output_type": "stream",
     "text": [
      "\u001b[32m[I 2022-12-24 17:44:43,024]\u001b[0m Trial 59 finished with value: 0.35096628868036867 and parameters: {'in_len': 207}. Best is trial 37 with value: 0.348729571071885.\u001b[0m\n"
     ]
    },
    {
     "name": "stdout",
     "output_type": "stream",
     "text": [
      "Current value: 0.35096628868036867, Current params: {'in_len': 207}\n",
      "Best value: 0.348729571071885, Best params: {'in_len': 219}\n"
     ]
    },
    {
     "data": {
      "application/vnd.jupyter.widget-view+json": {
       "model_id": "433d9f0b71c247dbbce67e69a41abd7c",
       "version_major": 2,
       "version_minor": 0
      },
      "text/plain": [
       "  0%|          | 0/8761 [00:00<?, ?it/s]"
      ]
     },
     "metadata": {},
     "output_type": "display_data"
    },
    {
     "name": "stderr",
     "output_type": "stream",
     "text": [
      "\u001b[32m[I 2022-12-24 17:45:50,692]\u001b[0m Trial 60 finished with value: 0.3541795346988703 and parameters: {'in_len': 282}. Best is trial 37 with value: 0.348729571071885.\u001b[0m\n"
     ]
    },
    {
     "name": "stdout",
     "output_type": "stream",
     "text": [
      "Current value: 0.3541795346988703, Current params: {'in_len': 282}\n",
      "Best value: 0.348729571071885, Best params: {'in_len': 219}\n"
     ]
    },
    {
     "data": {
      "application/vnd.jupyter.widget-view+json": {
       "model_id": "047472043b0949eaa78c1cf7daaae8ad",
       "version_major": 2,
       "version_minor": 0
      },
      "text/plain": [
       "  0%|          | 0/8761 [00:00<?, ?it/s]"
      ]
     },
     "metadata": {},
     "output_type": "display_data"
    },
    {
     "name": "stderr",
     "output_type": "stream",
     "text": [
      "\u001b[32m[I 2022-12-24 17:46:56,412]\u001b[0m Trial 61 finished with value: 0.34920542538372124 and parameters: {'in_len': 223}. Best is trial 37 with value: 0.348729571071885.\u001b[0m\n"
     ]
    },
    {
     "name": "stdout",
     "output_type": "stream",
     "text": [
      "Current value: 0.34920542538372124, Current params: {'in_len': 223}\n",
      "Best value: 0.348729571071885, Best params: {'in_len': 219}\n"
     ]
    },
    {
     "data": {
      "application/vnd.jupyter.widget-view+json": {
       "model_id": "54711cee6cd044efa997206adc5f8e1e",
       "version_major": 2,
       "version_minor": 0
      },
      "text/plain": [
       "  0%|          | 0/8761 [00:00<?, ?it/s]"
      ]
     },
     "metadata": {},
     "output_type": "display_data"
    },
    {
     "name": "stderr",
     "output_type": "stream",
     "text": [
      "\u001b[32m[I 2022-12-24 17:48:04,126]\u001b[0m Trial 62 finished with value: 0.35055669524777755 and parameters: {'in_len': 243}. Best is trial 37 with value: 0.348729571071885.\u001b[0m\n"
     ]
    },
    {
     "name": "stdout",
     "output_type": "stream",
     "text": [
      "Current value: 0.35055669524777755, Current params: {'in_len': 243}\n",
      "Best value: 0.348729571071885, Best params: {'in_len': 219}\n"
     ]
    },
    {
     "data": {
      "application/vnd.jupyter.widget-view+json": {
       "model_id": "aeefacdc20124f058a172900568f0738",
       "version_major": 2,
       "version_minor": 0
      },
      "text/plain": [
       "  0%|          | 0/8761 [00:00<?, ?it/s]"
      ]
     },
     "metadata": {},
     "output_type": "display_data"
    },
    {
     "name": "stderr",
     "output_type": "stream",
     "text": [
      "\u001b[32m[I 2022-12-24 17:49:09,531]\u001b[0m Trial 63 finished with value: 0.3490570845644504 and parameters: {'in_len': 218}. Best is trial 37 with value: 0.348729571071885.\u001b[0m\n"
     ]
    },
    {
     "name": "stdout",
     "output_type": "stream",
     "text": [
      "Current value: 0.3490570845644504, Current params: {'in_len': 218}\n",
      "Best value: 0.348729571071885, Best params: {'in_len': 219}\n"
     ]
    },
    {
     "data": {
      "application/vnd.jupyter.widget-view+json": {
       "model_id": "00749078b65a481c9dabc43ebcba27aa",
       "version_major": 2,
       "version_minor": 0
      },
      "text/plain": [
       "  0%|          | 0/8761 [00:00<?, ?it/s]"
      ]
     },
     "metadata": {},
     "output_type": "display_data"
    },
    {
     "name": "stderr",
     "output_type": "stream",
     "text": [
      "\u001b[32m[I 2022-12-24 17:50:15,535]\u001b[0m Trial 64 finished with value: 0.34899705424778255 and parameters: {'in_len': 199}. Best is trial 37 with value: 0.348729571071885.\u001b[0m\n"
     ]
    },
    {
     "name": "stdout",
     "output_type": "stream",
     "text": [
      "Current value: 0.34899705424778255, Current params: {'in_len': 199}\n",
      "Best value: 0.348729571071885, Best params: {'in_len': 219}\n"
     ]
    },
    {
     "data": {
      "application/vnd.jupyter.widget-view+json": {
       "model_id": "6e95a44722d040e3b1c2c7448b9cb85f",
       "version_major": 2,
       "version_minor": 0
      },
      "text/plain": [
       "  0%|          | 0/8761 [00:00<?, ?it/s]"
      ]
     },
     "metadata": {},
     "output_type": "display_data"
    },
    {
     "name": "stderr",
     "output_type": "stream",
     "text": [
      "\u001b[32m[I 2022-12-24 17:51:21,367]\u001b[0m Trial 65 finished with value: 0.3505818812354803 and parameters: {'in_len': 234}. Best is trial 37 with value: 0.348729571071885.\u001b[0m\n"
     ]
    },
    {
     "name": "stdout",
     "output_type": "stream",
     "text": [
      "Current value: 0.3505818812354803, Current params: {'in_len': 234}\n",
      "Best value: 0.348729571071885, Best params: {'in_len': 219}\n"
     ]
    },
    {
     "data": {
      "application/vnd.jupyter.widget-view+json": {
       "model_id": "088debf9f27849929f974cee53f903d8",
       "version_major": 2,
       "version_minor": 0
      },
      "text/plain": [
       "  0%|          | 0/8761 [00:00<?, ?it/s]"
      ]
     },
     "metadata": {},
     "output_type": "display_data"
    },
    {
     "name": "stderr",
     "output_type": "stream",
     "text": [
      "\u001b[32m[I 2022-12-24 17:52:26,455]\u001b[0m Trial 66 finished with value: 0.35026604154755325 and parameters: {'in_len': 190}. Best is trial 37 with value: 0.348729571071885.\u001b[0m\n"
     ]
    },
    {
     "name": "stdout",
     "output_type": "stream",
     "text": [
      "Current value: 0.35026604154755325, Current params: {'in_len': 190}\n",
      "Best value: 0.348729571071885, Best params: {'in_len': 219}\n"
     ]
    },
    {
     "data": {
      "application/vnd.jupyter.widget-view+json": {
       "model_id": "98158d93c34d4f9da7a242d3b4ebedcd",
       "version_major": 2,
       "version_minor": 0
      },
      "text/plain": [
       "  0%|          | 0/8761 [00:00<?, ?it/s]"
      ]
     },
     "metadata": {},
     "output_type": "display_data"
    },
    {
     "name": "stderr",
     "output_type": "stream",
     "text": [
      "\u001b[32m[I 2022-12-24 17:53:34,280]\u001b[0m Trial 67 finished with value: 0.35240317337331106 and parameters: {'in_len': 249}. Best is trial 37 with value: 0.348729571071885.\u001b[0m\n"
     ]
    },
    {
     "name": "stdout",
     "output_type": "stream",
     "text": [
      "Current value: 0.35240317337331106, Current params: {'in_len': 249}\n",
      "Best value: 0.348729571071885, Best params: {'in_len': 219}\n"
     ]
    },
    {
     "data": {
      "application/vnd.jupyter.widget-view+json": {
       "model_id": "c844896ca86d4cbe800da379496425a6",
       "version_major": 2,
       "version_minor": 0
      },
      "text/plain": [
       "  0%|          | 0/8761 [00:00<?, ?it/s]"
      ]
     },
     "metadata": {},
     "output_type": "display_data"
    },
    {
     "name": "stderr",
     "output_type": "stream",
     "text": [
      "\u001b[32m[I 2022-12-24 17:54:40,847]\u001b[0m Trial 68 finished with value: 0.34889956517534165 and parameters: {'in_len': 224}. Best is trial 37 with value: 0.348729571071885.\u001b[0m\n"
     ]
    },
    {
     "name": "stdout",
     "output_type": "stream",
     "text": [
      "Current value: 0.34889956517534165, Current params: {'in_len': 224}\n",
      "Best value: 0.348729571071885, Best params: {'in_len': 219}\n"
     ]
    },
    {
     "data": {
      "application/vnd.jupyter.widget-view+json": {
       "model_id": "b0eea94de320428fb96cb3af11525e58",
       "version_major": 2,
       "version_minor": 0
      },
      "text/plain": [
       "  0%|          | 0/8761 [00:00<?, ?it/s]"
      ]
     },
     "metadata": {},
     "output_type": "display_data"
    },
    {
     "name": "stderr",
     "output_type": "stream",
     "text": [
      "\u001b[32m[I 2022-12-24 17:55:46,531]\u001b[0m Trial 69 finished with value: 0.35088242481371534 and parameters: {'in_len': 209}. Best is trial 37 with value: 0.348729571071885.\u001b[0m\n"
     ]
    },
    {
     "name": "stdout",
     "output_type": "stream",
     "text": [
      "Current value: 0.35088242481371534, Current params: {'in_len': 209}\n",
      "Best value: 0.348729571071885, Best params: {'in_len': 219}\n"
     ]
    },
    {
     "data": {
      "application/vnd.jupyter.widget-view+json": {
       "model_id": "c5fe729595b04bba86802fb46cb98e6b",
       "version_major": 2,
       "version_minor": 0
      },
      "text/plain": [
       "  0%|          | 0/8761 [00:00<?, ?it/s]"
      ]
     },
     "metadata": {},
     "output_type": "display_data"
    },
    {
     "name": "stderr",
     "output_type": "stream",
     "text": [
      "\u001b[32m[I 2022-12-24 17:56:53,544]\u001b[0m Trial 70 finished with value: 0.35359721955352164 and parameters: {'in_len': 264}. Best is trial 37 with value: 0.348729571071885.\u001b[0m\n"
     ]
    },
    {
     "name": "stdout",
     "output_type": "stream",
     "text": [
      "Current value: 0.35359721955352164, Current params: {'in_len': 264}\n",
      "Best value: 0.348729571071885, Best params: {'in_len': 219}\n"
     ]
    },
    {
     "data": {
      "application/vnd.jupyter.widget-view+json": {
       "model_id": "bb93f122c3a946df906ca702761d183e",
       "version_major": 2,
       "version_minor": 0
      },
      "text/plain": [
       "  0%|          | 0/8761 [00:00<?, ?it/s]"
      ]
     },
     "metadata": {},
     "output_type": "display_data"
    },
    {
     "name": "stderr",
     "output_type": "stream",
     "text": [
      "\u001b[32m[I 2022-12-24 17:57:59,193]\u001b[0m Trial 71 finished with value: 0.3487147929781023 and parameters: {'in_len': 186}. Best is trial 71 with value: 0.3487147929781023.\u001b[0m\n"
     ]
    },
    {
     "name": "stdout",
     "output_type": "stream",
     "text": [
      "Current value: 0.3487147929781023, Current params: {'in_len': 186}\n",
      "Best value: 0.3487147929781023, Best params: {'in_len': 186}\n"
     ]
    },
    {
     "data": {
      "application/vnd.jupyter.widget-view+json": {
       "model_id": "d85525e6584e4d59967e9879af4aa5bb",
       "version_major": 2,
       "version_minor": 0
      },
      "text/plain": [
       "  0%|          | 0/8761 [00:00<?, ?it/s]"
      ]
     },
     "metadata": {},
     "output_type": "display_data"
    },
    {
     "name": "stderr",
     "output_type": "stream",
     "text": [
      "\u001b[32m[I 2022-12-24 17:59:05,247]\u001b[0m Trial 72 finished with value: 0.3490570845644504 and parameters: {'in_len': 218}. Best is trial 71 with value: 0.3487147929781023.\u001b[0m\n"
     ]
    },
    {
     "name": "stdout",
     "output_type": "stream",
     "text": [
      "Current value: 0.3490570845644504, Current params: {'in_len': 218}\n",
      "Best value: 0.3487147929781023, Best params: {'in_len': 186}\n"
     ]
    },
    {
     "data": {
      "application/vnd.jupyter.widget-view+json": {
       "model_id": "3bed0a03874b47678937f3b674438743",
       "version_major": 2,
       "version_minor": 0
      },
      "text/plain": [
       "  0%|          | 0/8761 [00:00<?, ?it/s]"
      ]
     },
     "metadata": {},
     "output_type": "display_data"
    },
    {
     "name": "stderr",
     "output_type": "stream",
     "text": [
      "\u001b[32m[I 2022-12-24 18:00:11,937]\u001b[0m Trial 73 finished with value: 0.3486094128670294 and parameters: {'in_len': 185}. Best is trial 73 with value: 0.3486094128670294.\u001b[0m\n"
     ]
    },
    {
     "name": "stdout",
     "output_type": "stream",
     "text": [
      "Current value: 0.3486094128670294, Current params: {'in_len': 185}\n",
      "Best value: 0.3486094128670294, Best params: {'in_len': 185}\n"
     ]
    },
    {
     "data": {
      "application/vnd.jupyter.widget-view+json": {
       "model_id": "81270438afc441cf9e645582480e66fe",
       "version_major": 2,
       "version_minor": 0
      },
      "text/plain": [
       "  0%|          | 0/8761 [00:00<?, ?it/s]"
      ]
     },
     "metadata": {},
     "output_type": "display_data"
    },
    {
     "name": "stderr",
     "output_type": "stream",
     "text": [
      "\u001b[32m[I 2022-12-24 18:01:17,608]\u001b[0m Trial 74 finished with value: 0.34864502810623127 and parameters: {'in_len': 184}. Best is trial 73 with value: 0.3486094128670294.\u001b[0m\n"
     ]
    },
    {
     "name": "stdout",
     "output_type": "stream",
     "text": [
      "Current value: 0.34864502810623127, Current params: {'in_len': 184}\n",
      "Best value: 0.3486094128670294, Best params: {'in_len': 185}\n"
     ]
    },
    {
     "data": {
      "application/vnd.jupyter.widget-view+json": {
       "model_id": "8bea8bbb823e4a9fa330a0e9d074faca",
       "version_major": 2,
       "version_minor": 0
      },
      "text/plain": [
       "  0%|          | 0/8761 [00:00<?, ?it/s]"
      ]
     },
     "metadata": {},
     "output_type": "display_data"
    },
    {
     "name": "stderr",
     "output_type": "stream",
     "text": [
      "\u001b[32m[I 2022-12-24 18:02:24,819]\u001b[0m Trial 75 finished with value: 0.4107312185591766 and parameters: {'in_len': 166}. Best is trial 73 with value: 0.3486094128670294.\u001b[0m\n"
     ]
    },
    {
     "name": "stdout",
     "output_type": "stream",
     "text": [
      "Current value: 0.4107312185591766, Current params: {'in_len': 166}\n",
      "Best value: 0.3486094128670294, Best params: {'in_len': 185}\n"
     ]
    },
    {
     "data": {
      "application/vnd.jupyter.widget-view+json": {
       "model_id": "108e5827a8b84ad18fd1310a5d5ce7f3",
       "version_major": 2,
       "version_minor": 0
      },
      "text/plain": [
       "  0%|          | 0/8761 [00:00<?, ?it/s]"
      ]
     },
     "metadata": {},
     "output_type": "display_data"
    },
    {
     "name": "stderr",
     "output_type": "stream",
     "text": [
      "\u001b[32m[I 2022-12-24 18:03:29,501]\u001b[0m Trial 76 finished with value: 0.4421110763095259 and parameters: {'in_len': 151}. Best is trial 73 with value: 0.3486094128670294.\u001b[0m\n"
     ]
    },
    {
     "name": "stdout",
     "output_type": "stream",
     "text": [
      "Current value: 0.4421110763095259, Current params: {'in_len': 151}\n",
      "Best value: 0.3486094128670294, Best params: {'in_len': 185}\n"
     ]
    },
    {
     "data": {
      "application/vnd.jupyter.widget-view+json": {
       "model_id": "668857b8d60142be8b793392bf51f3c9",
       "version_major": 2,
       "version_minor": 0
      },
      "text/plain": [
       "  0%|          | 0/8761 [00:00<?, ?it/s]"
      ]
     },
     "metadata": {},
     "output_type": "display_data"
    },
    {
     "name": "stderr",
     "output_type": "stream",
     "text": [
      "\u001b[32m[I 2022-12-24 18:04:34,739]\u001b[0m Trial 77 finished with value: 0.34864502810623127 and parameters: {'in_len': 184}. Best is trial 73 with value: 0.3486094128670294.\u001b[0m\n"
     ]
    },
    {
     "name": "stdout",
     "output_type": "stream",
     "text": [
      "Current value: 0.34864502810623127, Current params: {'in_len': 184}\n",
      "Best value: 0.3486094128670294, Best params: {'in_len': 185}\n"
     ]
    },
    {
     "data": {
      "application/vnd.jupyter.widget-view+json": {
       "model_id": "08e304c58fbd4bb3bc423061b9be7777",
       "version_major": 2,
       "version_minor": 0
      },
      "text/plain": [
       "  0%|          | 0/8761 [00:00<?, ?it/s]"
      ]
     },
     "metadata": {},
     "output_type": "display_data"
    },
    {
     "name": "stderr",
     "output_type": "stream",
     "text": [
      "\u001b[32m[I 2022-12-24 18:05:38,566]\u001b[0m Trial 78 finished with value: 0.3514198879933579 and parameters: {'in_len': 176}. Best is trial 73 with value: 0.3486094128670294.\u001b[0m\n"
     ]
    },
    {
     "name": "stdout",
     "output_type": "stream",
     "text": [
      "Current value: 0.3514198879933579, Current params: {'in_len': 176}\n",
      "Best value: 0.3486094128670294, Best params: {'in_len': 185}\n"
     ]
    },
    {
     "data": {
      "application/vnd.jupyter.widget-view+json": {
       "model_id": "4f800c8e184b46d6bbdcb030dd17a4e2",
       "version_major": 2,
       "version_minor": 0
      },
      "text/plain": [
       "  0%|          | 0/8761 [00:00<?, ?it/s]"
      ]
     },
     "metadata": {},
     "output_type": "display_data"
    },
    {
     "name": "stderr",
     "output_type": "stream",
     "text": [
      "\u001b[32m[I 2022-12-24 18:06:42,666]\u001b[0m Trial 79 finished with value: 0.3491880234263785 and parameters: {'in_len': 181}. Best is trial 73 with value: 0.3486094128670294.\u001b[0m\n"
     ]
    },
    {
     "name": "stdout",
     "output_type": "stream",
     "text": [
      "Current value: 0.3491880234263785, Current params: {'in_len': 181}\n",
      "Best value: 0.3486094128670294, Best params: {'in_len': 185}\n"
     ]
    },
    {
     "data": {
      "application/vnd.jupyter.widget-view+json": {
       "model_id": "8cb4463959e9409185dde22115d1fef2",
       "version_major": 2,
       "version_minor": 0
      },
      "text/plain": [
       "  0%|          | 0/8761 [00:00<?, ?it/s]"
      ]
     },
     "metadata": {},
     "output_type": "display_data"
    },
    {
     "name": "stderr",
     "output_type": "stream",
     "text": [
      "\u001b[32m[I 2022-12-24 18:07:46,626]\u001b[0m Trial 80 finished with value: 0.40632760445410787 and parameters: {'in_len': 156}. Best is trial 73 with value: 0.3486094128670294.\u001b[0m\n"
     ]
    },
    {
     "name": "stdout",
     "output_type": "stream",
     "text": [
      "Current value: 0.40632760445410787, Current params: {'in_len': 156}\n",
      "Best value: 0.3486094128670294, Best params: {'in_len': 185}\n"
     ]
    },
    {
     "data": {
      "application/vnd.jupyter.widget-view+json": {
       "model_id": "2ed882b81f7c4c2581d54c0e9500ecf6",
       "version_major": 2,
       "version_minor": 0
      },
      "text/plain": [
       "  0%|          | 0/8761 [00:00<?, ?it/s]"
      ]
     },
     "metadata": {},
     "output_type": "display_data"
    },
    {
     "name": "stderr",
     "output_type": "stream",
     "text": [
      "\u001b[32m[I 2022-12-24 18:08:51,678]\u001b[0m Trial 81 finished with value: 0.3486094128670294 and parameters: {'in_len': 185}. Best is trial 73 with value: 0.3486094128670294.\u001b[0m\n"
     ]
    },
    {
     "name": "stdout",
     "output_type": "stream",
     "text": [
      "Current value: 0.3486094128670294, Current params: {'in_len': 185}\n",
      "Best value: 0.3486094128670294, Best params: {'in_len': 185}\n"
     ]
    },
    {
     "data": {
      "application/vnd.jupyter.widget-view+json": {
       "model_id": "e6ff03dc20e74015bb2f3f7c49a3465a",
       "version_major": 2,
       "version_minor": 0
      },
      "text/plain": [
       "  0%|          | 0/8761 [00:00<?, ?it/s]"
      ]
     },
     "metadata": {},
     "output_type": "display_data"
    },
    {
     "name": "stderr",
     "output_type": "stream",
     "text": [
      "\u001b[32m[I 2022-12-24 18:09:56,779]\u001b[0m Trial 82 finished with value: 0.34969619742243924 and parameters: {'in_len': 195}. Best is trial 73 with value: 0.3486094128670294.\u001b[0m\n"
     ]
    },
    {
     "name": "stdout",
     "output_type": "stream",
     "text": [
      "Current value: 0.34969619742243924, Current params: {'in_len': 195}\n",
      "Best value: 0.3486094128670294, Best params: {'in_len': 185}\n"
     ]
    },
    {
     "data": {
      "application/vnd.jupyter.widget-view+json": {
       "model_id": "0500bb852b6a49049682e7edbd93797c",
       "version_major": 2,
       "version_minor": 0
      },
      "text/plain": [
       "  0%|          | 0/8761 [00:00<?, ?it/s]"
      ]
     },
     "metadata": {},
     "output_type": "display_data"
    },
    {
     "name": "stderr",
     "output_type": "stream",
     "text": [
      "\u001b[32m[I 2022-12-24 18:11:01,627]\u001b[0m Trial 83 finished with value: 0.3487147929781023 and parameters: {'in_len': 186}. Best is trial 73 with value: 0.3486094128670294.\u001b[0m\n"
     ]
    },
    {
     "name": "stdout",
     "output_type": "stream",
     "text": [
      "Current value: 0.3487147929781023, Current params: {'in_len': 186}\n",
      "Best value: 0.3486094128670294, Best params: {'in_len': 185}\n"
     ]
    },
    {
     "data": {
      "application/vnd.jupyter.widget-view+json": {
       "model_id": "2be0099575ca4a0c867c2618c1ef8682",
       "version_major": 2,
       "version_minor": 0
      },
      "text/plain": [
       "  0%|          | 0/8761 [00:00<?, ?it/s]"
      ]
     },
     "metadata": {},
     "output_type": "display_data"
    },
    {
     "name": "stderr",
     "output_type": "stream",
     "text": [
      "\u001b[32m[I 2022-12-24 18:12:05,519]\u001b[0m Trial 84 finished with value: 0.4581762781330291 and parameters: {'in_len': 138}. Best is trial 73 with value: 0.3486094128670294.\u001b[0m\n"
     ]
    },
    {
     "name": "stdout",
     "output_type": "stream",
     "text": [
      "Current value: 0.4581762781330291, Current params: {'in_len': 138}\n",
      "Best value: 0.3486094128670294, Best params: {'in_len': 185}\n"
     ]
    },
    {
     "data": {
      "application/vnd.jupyter.widget-view+json": {
       "model_id": "e9ca579b161145c28678684df1114344",
       "version_major": 2,
       "version_minor": 0
      },
      "text/plain": [
       "  0%|          | 0/8761 [00:00<?, ?it/s]"
      ]
     },
     "metadata": {},
     "output_type": "display_data"
    },
    {
     "name": "stderr",
     "output_type": "stream",
     "text": [
      "\u001b[32m[I 2022-12-24 18:13:10,171]\u001b[0m Trial 85 finished with value: 0.3486094128670294 and parameters: {'in_len': 185}. Best is trial 73 with value: 0.3486094128670294.\u001b[0m\n"
     ]
    },
    {
     "name": "stdout",
     "output_type": "stream",
     "text": [
      "Current value: 0.3486094128670294, Current params: {'in_len': 185}\n",
      "Best value: 0.3486094128670294, Best params: {'in_len': 185}\n"
     ]
    },
    {
     "data": {
      "application/vnd.jupyter.widget-view+json": {
       "model_id": "95eda4d65c774a9ba3f27a6d6b7c2737",
       "version_major": 2,
       "version_minor": 0
      },
      "text/plain": [
       "  0%|          | 0/8761 [00:00<?, ?it/s]"
      ]
     },
     "metadata": {},
     "output_type": "display_data"
    },
    {
     "name": "stderr",
     "output_type": "stream",
     "text": [
      "\u001b[32m[I 2022-12-24 18:14:15,085]\u001b[0m Trial 86 finished with value: 0.3488726043151634 and parameters: {'in_len': 187}. Best is trial 73 with value: 0.3486094128670294.\u001b[0m\n"
     ]
    },
    {
     "name": "stdout",
     "output_type": "stream",
     "text": [
      "Current value: 0.3488726043151634, Current params: {'in_len': 187}\n",
      "Best value: 0.3486094128670294, Best params: {'in_len': 185}\n"
     ]
    },
    {
     "data": {
      "application/vnd.jupyter.widget-view+json": {
       "model_id": "30e4321b59aa459880892cbbb3a13f02",
       "version_major": 2,
       "version_minor": 0
      },
      "text/plain": [
       "  0%|          | 0/8761 [00:00<?, ?it/s]"
      ]
     },
     "metadata": {},
     "output_type": "display_data"
    },
    {
     "name": "stderr",
     "output_type": "stream",
     "text": [
      "\u001b[32m[I 2022-12-24 18:15:19,545]\u001b[0m Trial 87 finished with value: 0.3573767045768815 and parameters: {'in_len': 170}. Best is trial 73 with value: 0.3486094128670294.\u001b[0m\n"
     ]
    },
    {
     "name": "stdout",
     "output_type": "stream",
     "text": [
      "Current value: 0.3573767045768815, Current params: {'in_len': 170}\n",
      "Best value: 0.3486094128670294, Best params: {'in_len': 185}\n"
     ]
    },
    {
     "data": {
      "application/vnd.jupyter.widget-view+json": {
       "model_id": "1172e2cc1aa2454ea1c4978e62756d17",
       "version_major": 2,
       "version_minor": 0
      },
      "text/plain": [
       "  0%|          | 0/8761 [00:00<?, ?it/s]"
      ]
     },
     "metadata": {},
     "output_type": "display_data"
    },
    {
     "name": "stderr",
     "output_type": "stream",
     "text": [
      "\u001b[32m[I 2022-12-24 18:16:23,228]\u001b[0m Trial 88 finished with value: 0.41258733423202226 and parameters: {'in_len': 155}. Best is trial 73 with value: 0.3486094128670294.\u001b[0m\n"
     ]
    },
    {
     "name": "stdout",
     "output_type": "stream",
     "text": [
      "Current value: 0.41258733423202226, Current params: {'in_len': 155}\n",
      "Best value: 0.3486094128670294, Best params: {'in_len': 185}\n"
     ]
    },
    {
     "data": {
      "application/vnd.jupyter.widget-view+json": {
       "model_id": "c225005569b8492aa10935470d10d434",
       "version_major": 2,
       "version_minor": 0
      },
      "text/plain": [
       "  0%|          | 0/8761 [00:00<?, ?it/s]"
      ]
     },
     "metadata": {},
     "output_type": "display_data"
    },
    {
     "name": "stderr",
     "output_type": "stream",
     "text": [
      "\u001b[32m[I 2022-12-24 18:17:27,049]\u001b[0m Trial 89 finished with value: 0.3486094128670294 and parameters: {'in_len': 185}. Best is trial 73 with value: 0.3486094128670294.\u001b[0m\n"
     ]
    },
    {
     "name": "stdout",
     "output_type": "stream",
     "text": [
      "Current value: 0.3486094128670294, Current params: {'in_len': 185}\n",
      "Best value: 0.3486094128670294, Best params: {'in_len': 185}\n"
     ]
    },
    {
     "data": {
      "application/vnd.jupyter.widget-view+json": {
       "model_id": "301a2e019a2b453a92954ec151bd8eaf",
       "version_major": 2,
       "version_minor": 0
      },
      "text/plain": [
       "  0%|          | 0/8761 [00:00<?, ?it/s]"
      ]
     },
     "metadata": {},
     "output_type": "display_data"
    },
    {
     "name": "stderr",
     "output_type": "stream",
     "text": [
      "\u001b[32m[I 2022-12-24 18:18:30,727]\u001b[0m Trial 90 finished with value: 0.34864502810623127 and parameters: {'in_len': 184}. Best is trial 73 with value: 0.3486094128670294.\u001b[0m\n"
     ]
    },
    {
     "name": "stdout",
     "output_type": "stream",
     "text": [
      "Current value: 0.34864502810623127, Current params: {'in_len': 184}\n",
      "Best value: 0.3486094128670294, Best params: {'in_len': 185}\n"
     ]
    },
    {
     "data": {
      "application/vnd.jupyter.widget-view+json": {
       "model_id": "0808c4d951294dadafbe7a92a371279f",
       "version_major": 2,
       "version_minor": 0
      },
      "text/plain": [
       "  0%|          | 0/8761 [00:00<?, ?it/s]"
      ]
     },
     "metadata": {},
     "output_type": "display_data"
    },
    {
     "name": "stderr",
     "output_type": "stream",
     "text": [
      "\u001b[32m[I 2022-12-24 18:19:34,957]\u001b[0m Trial 91 finished with value: 0.34890009918413967 and parameters: {'in_len': 182}. Best is trial 73 with value: 0.3486094128670294.\u001b[0m\n"
     ]
    },
    {
     "name": "stdout",
     "output_type": "stream",
     "text": [
      "Current value: 0.34890009918413967, Current params: {'in_len': 182}\n",
      "Best value: 0.3486094128670294, Best params: {'in_len': 185}\n"
     ]
    },
    {
     "data": {
      "application/vnd.jupyter.widget-view+json": {
       "model_id": "9471f88e2cde4efd97706c0fa587efd3",
       "version_major": 2,
       "version_minor": 0
      },
      "text/plain": [
       "  0%|          | 0/8761 [00:00<?, ?it/s]"
      ]
     },
     "metadata": {},
     "output_type": "display_data"
    },
    {
     "name": "stderr",
     "output_type": "stream",
     "text": [
      "\u001b[32m[I 2022-12-24 18:20:38,619]\u001b[0m Trial 92 finished with value: 0.3971746540136213 and parameters: {'in_len': 161}. Best is trial 73 with value: 0.3486094128670294.\u001b[0m\n"
     ]
    },
    {
     "name": "stdout",
     "output_type": "stream",
     "text": [
      "Current value: 0.3971746540136213, Current params: {'in_len': 161}\n",
      "Best value: 0.3486094128670294, Best params: {'in_len': 185}\n"
     ]
    },
    {
     "data": {
      "application/vnd.jupyter.widget-view+json": {
       "model_id": "35ff7b56267042a1a2cd5f7bcfd6daa8",
       "version_major": 2,
       "version_minor": 0
      },
      "text/plain": [
       "  0%|          | 0/8761 [00:00<?, ?it/s]"
      ]
     },
     "metadata": {},
     "output_type": "display_data"
    },
    {
     "name": "stderr",
     "output_type": "stream",
     "text": [
      "\u001b[32m[I 2022-12-24 18:21:42,957]\u001b[0m Trial 93 finished with value: 0.3499339890313693 and parameters: {'in_len': 200}. Best is trial 73 with value: 0.3486094128670294.\u001b[0m\n"
     ]
    },
    {
     "name": "stdout",
     "output_type": "stream",
     "text": [
      "Current value: 0.3499339890313693, Current params: {'in_len': 200}\n",
      "Best value: 0.3486094128670294, Best params: {'in_len': 185}\n"
     ]
    },
    {
     "data": {
      "application/vnd.jupyter.widget-view+json": {
       "model_id": "3dec5705c77e437bbe63d6820c8e0019",
       "version_major": 2,
       "version_minor": 0
      },
      "text/plain": [
       "  0%|          | 0/8761 [00:00<?, ?it/s]"
      ]
     },
     "metadata": {},
     "output_type": "display_data"
    },
    {
     "name": "stderr",
     "output_type": "stream",
     "text": [
      "\u001b[32m[I 2022-12-24 18:22:46,262]\u001b[0m Trial 94 finished with value: 0.4519626751700439 and parameters: {'in_len': 144}. Best is trial 73 with value: 0.3486094128670294.\u001b[0m\n"
     ]
    },
    {
     "name": "stdout",
     "output_type": "stream",
     "text": [
      "Current value: 0.4519626751700439, Current params: {'in_len': 144}\n",
      "Best value: 0.3486094128670294, Best params: {'in_len': 185}\n"
     ]
    },
    {
     "data": {
      "application/vnd.jupyter.widget-view+json": {
       "model_id": "d24a8e22a9ad45de9c74a3ab0caa6e87",
       "version_major": 2,
       "version_minor": 0
      },
      "text/plain": [
       "  0%|          | 0/8761 [00:00<?, ?it/s]"
      ]
     },
     "metadata": {},
     "output_type": "display_data"
    },
    {
     "name": "stderr",
     "output_type": "stream",
     "text": [
      "\u001b[32m[I 2022-12-24 18:23:49,904]\u001b[0m Trial 95 finished with value: 0.3573767045768815 and parameters: {'in_len': 170}. Best is trial 73 with value: 0.3486094128670294.\u001b[0m\n"
     ]
    },
    {
     "name": "stdout",
     "output_type": "stream",
     "text": [
      "Current value: 0.3573767045768815, Current params: {'in_len': 170}\n",
      "Best value: 0.3486094128670294, Best params: {'in_len': 185}\n"
     ]
    },
    {
     "data": {
      "application/vnd.jupyter.widget-view+json": {
       "model_id": "704ee2e765b74f1fb1cba6261c55a30f",
       "version_major": 2,
       "version_minor": 0
      },
      "text/plain": [
       "  0%|          | 0/8761 [00:00<?, ?it/s]"
      ]
     },
     "metadata": {},
     "output_type": "display_data"
    },
    {
     "name": "stderr",
     "output_type": "stream",
     "text": [
      "\u001b[32m[I 2022-12-24 18:24:54,949]\u001b[0m Trial 96 finished with value: 0.3488726043151634 and parameters: {'in_len': 187}. Best is trial 73 with value: 0.3486094128670294.\u001b[0m\n"
     ]
    },
    {
     "name": "stdout",
     "output_type": "stream",
     "text": [
      "Current value: 0.3488726043151634, Current params: {'in_len': 187}\n",
      "Best value: 0.3486094128670294, Best params: {'in_len': 185}\n"
     ]
    },
    {
     "data": {
      "application/vnd.jupyter.widget-view+json": {
       "model_id": "adef94f8395948baa827d10df19c154f",
       "version_major": 2,
       "version_minor": 0
      },
      "text/plain": [
       "  0%|          | 0/8761 [00:00<?, ?it/s]"
      ]
     },
     "metadata": {},
     "output_type": "display_data"
    },
    {
     "name": "stderr",
     "output_type": "stream",
     "text": [
      "\u001b[32m[I 2022-12-24 18:25:59,565]\u001b[0m Trial 97 finished with value: 0.35110807738446087 and parameters: {'in_len': 204}. Best is trial 73 with value: 0.3486094128670294.\u001b[0m\n"
     ]
    },
    {
     "name": "stdout",
     "output_type": "stream",
     "text": [
      "Current value: 0.35110807738446087, Current params: {'in_len': 204}\n",
      "Best value: 0.3486094128670294, Best params: {'in_len': 185}\n"
     ]
    },
    {
     "data": {
      "application/vnd.jupyter.widget-view+json": {
       "model_id": "1c71a49d6bc34bbab04ca6d0b804a6e8",
       "version_major": 2,
       "version_minor": 0
      },
      "text/plain": [
       "  0%|          | 0/8761 [00:00<?, ?it/s]"
      ]
     },
     "metadata": {},
     "output_type": "display_data"
    },
    {
     "name": "stderr",
     "output_type": "stream",
     "text": [
      "\u001b[32m[I 2022-12-24 18:27:06,512]\u001b[0m Trial 98 finished with value: 0.3514198879933579 and parameters: {'in_len': 176}. Best is trial 73 with value: 0.3486094128670294.\u001b[0m\n"
     ]
    },
    {
     "name": "stdout",
     "output_type": "stream",
     "text": [
      "Current value: 0.3514198879933579, Current params: {'in_len': 176}\n",
      "Best value: 0.3486094128670294, Best params: {'in_len': 185}\n"
     ]
    },
    {
     "data": {
      "application/vnd.jupyter.widget-view+json": {
       "model_id": "22f2da5d4f394ecda263f3a9600edd68",
       "version_major": 2,
       "version_minor": 0
      },
      "text/plain": [
       "  0%|          | 0/8761 [00:00<?, ?it/s]"
      ]
     },
     "metadata": {},
     "output_type": "display_data"
    },
    {
     "name": "stderr",
     "output_type": "stream",
     "text": [
      "\u001b[32m[I 2022-12-24 18:28:10,720]\u001b[0m Trial 99 finished with value: 0.3497684520122363 and parameters: {'in_len': 189}. Best is trial 73 with value: 0.3486094128670294.\u001b[0m\n"
     ]
    },
    {
     "name": "stdout",
     "output_type": "stream",
     "text": [
      "Current value: 0.3497684520122363, Current params: {'in_len': 189}\n",
      "Best value: 0.3486094128670294, Best params: {'in_len': 185}\n"
     ]
    }
   ],
   "source": [
    "# from optuna.integration import PyTorchLightningPruningCallback\n",
    "# from pytorch_lightning.callbacks import EarlyStopping\n",
    "# from sklearn.preprocessing import MaxAbsScaler\n",
    "\n",
    "# from darts.dataprocessing.transformers import Scale\n",
    "# from darts.datasets import AirPassengersDatasetr\n",
    "# from darts.metrics import smape\n",
    "# from darts.models import TCNModel\n",
    "# from darts.utils.likelihood_models import GaussianLikelihood\n",
    "\n",
    "# load data\n",
    "# series = AirPassengersDataset().load().astype(np.float32)\n",
    "\n",
    "# split in train / validation (note: in practice we would also need a test set)\n",
    "# VAL_LEN = 36\n",
    "# train, val = series[:-VAL_LEN], series[-VAL_LEN:]\n",
    "\n",
    "# scale\n",
    "# scaler = Scaler(MaxAbsScaler())\n",
    "# train = scaler.fit_transform(train)\n",
    "# val = scaler.transform(val)\n",
    "\n",
    "\n",
    "def eval_model(model, past_covariates=None, future_covariates=None, retrain=False):\n",
    "    \n",
    "    backtest = model.historical_forecasts(series=input_timeseries, \n",
    "                                          past_covariates=past_covariates,\n",
    "                                          future_covariates=future_covariates,\n",
    "                                          start=pd.to_datetime('2019-01-01'), \n",
    "#                                           start=0.33, \n",
    "                                          retrain=retrain,\n",
    "                                          verbose=True, \n",
    "                                          forecast_horizon=24)\n",
    "\n",
    "    error = input_timeseries[-len(backtest):].pd_series() - backtest.pd_series()\n",
    "    \n",
    "    return np.mean(np.abs(error))\n",
    "\n",
    "\n",
    "# define objective function\n",
    "def objective(trial):\n",
    "    # select input and output chunk lengths\n",
    "    in_len = trial.suggest_int(\"in_len\", 12, 336)\n",
    "#     out_len = trial.suggest_int(\"out_len\", 1, in_len-1)\n",
    "\n",
    "    # Other hyperparameters\n",
    "#     kernel_size = trial.suggest_int(\"kernel_size\", 2, 5)\n",
    "#     num_filters = trial.suggest_int(\"num_filters\", 1, 5)\n",
    "#     weight_norm = trial.suggest_categorical(\"weight_norm\", [False, True])\n",
    "#     dilation_base = trial.suggest_int(\"dilation_base\", 2, 4)\n",
    "#     dropout = trial.suggest_float(\"dropout\", 0.0, 0.4)\n",
    "#     lr = trial.suggest_float(\"lr\", 5e-5, 1e-3, log=True)\n",
    "#     include_year = trial.suggest_categorical(\"year\", [False, True])\n",
    "\n",
    "    # throughout training we'll monitor the validation loss for both pruning and early stopping\n",
    "#     pruner = PyTorchLightningPruningCallback(trial, monitor=\"val_loss\")\n",
    "#     early_stopper = EarlyStopping(\"val_loss\", min_delta=0.001, patience=3, verbose=True)\n",
    "#     callbacks = [pruner, early_stopper]\n",
    "\n",
    "    # detect if a GPU is available\n",
    "#     if torch.cuda.is_available():\n",
    "#         pl_trainer_kwargs = {\n",
    "#             \"accelerator\": \"gpu\",\n",
    "#             \"gpus\": -1,\n",
    "#             \"auto_select_gpus\": True,\n",
    "#             \"callbacks\": callbacks,\n",
    "#         }\n",
    "#         num_workers = 4\n",
    "#     else:\n",
    "#         pl_trainer_kwargs = {\"callbacks\": callbacks}\n",
    "#         num_workers = 0\n",
    "\n",
    "    # optionally also add the (scaled) year value as a past covariate\n",
    "#     if include_year:\n",
    "#         encoders = {\"datetime_attribute\": {\"past\": [\"year\"]},\n",
    "#                     \"transformer\": Scaler()}\n",
    "#     else:\n",
    "#         encoders = None\n",
    "\n",
    "    # reproducibility\n",
    "#     torch.manual_seed(42)\n",
    "\n",
    "    # build the TCN model\n",
    "#     model = TCNModel(\n",
    "#         input_chunk_length=in_len,\n",
    "#         output_chunk_length=out_len,\n",
    "#         batch_size=32,\n",
    "#         n_epochs=100,\n",
    "#         nr_epochs_val_period=1,\n",
    "#         kernel_size=kernel_size,\n",
    "#         num_filters=num_filters,\n",
    "#         weight_norm=weight_norm,\n",
    "#         dilation_base=dilation_base,\n",
    "#         dropout=dropout,\n",
    "#         optimizer_kwargs={\"lr\": lr},\n",
    "#         add_encoders=encoders,\n",
    "#         likelihood=GaussianLikelihood(),\n",
    "#         pl_trainer_kwargs=pl_trainer_kwargs,\n",
    "#         model_name=\"tcn_model\",\n",
    "#         force_reset=True,\n",
    "#         save_checkpoints=True,\n",
    "#     )\n",
    "\n",
    "    model = RegressionModel(lags=list(range(-in_len,0)))\n",
    "\n",
    "    \n",
    "    # when validating during training, we can use a slightly longer validation\n",
    "    # set which also contains the first input_chunk_length time steps\n",
    "#     model_val_set = scaler.transform(series[-(VAL_LEN + in_len) :])\n",
    "\n",
    "    # train the model\n",
    "#     model.fit(\n",
    "#         series=train,\n",
    "#         val_series=model_val_set,\n",
    "#         num_loader_workers=num_workers,\n",
    "#     )\n",
    "\n",
    "    model.fit(input_train)\n",
    "\n",
    "    # reload best model over course of training\n",
    "#     model = TCNModel.load_from_checkpoint(\"tcn_model\")\n",
    "\n",
    "    # Evaluate how good it is on the validation set, using sMAPE\n",
    "#     preds = model.predict(series=train, n=val_len)\n",
    "#     smapes = smape(val, preds, n_jobs=-1, verbose=True)\n",
    "#     smape_val = np.mean(smapes)\n",
    "\n",
    "#     return smape_val if smape_val != np.nan else float(\"inf\")\n",
    "\n",
    "    return eval_model(model, retrain=False)\n",
    "\n",
    "\n",
    "# for convenience, print some optimization trials information\n",
    "def print_callback(study, trial):\n",
    "    print(f\"Current value: {trial.value}, Current params: {trial.params}\")\n",
    "    print(f\"Best value: {study.best_value}, Best params: {study.best_trial.params}\")\n",
    "\n",
    "\n",
    "# optimize hyperparameters by minimizing the sMAPE on the validation set\n",
    "study = optuna.create_study(direction=\"minimize\")\n",
    "study.optimize(objective, n_trials=100, callbacks=[print_callback])"
   ]
  },
  {
   "cell_type": "code",
   "execution_count": null,
   "metadata": {},
   "outputs": [],
   "source": []
  }
 ],
 "metadata": {
  "environment": {
   "name": "common-cu110.m61",
   "type": "gcloud",
   "uri": "gcr.io/deeplearning-platform-release/base-cu110:m61"
  },
  "kernelspec": {
   "display_name": "Python 3",
   "language": "python",
   "name": "python3"
  },
  "language_info": {
   "codemirror_mode": {
    "name": "ipython",
    "version": 3
   },
   "file_extension": ".py",
   "mimetype": "text/x-python",
   "name": "python",
   "nbconvert_exporter": "python",
   "pygments_lexer": "ipython3",
   "version": "3.7.9"
  }
 },
 "nbformat": 4,
 "nbformat_minor": 4
}
